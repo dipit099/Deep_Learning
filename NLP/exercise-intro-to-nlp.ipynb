{
 "cells": [
  {
   "cell_type": "markdown",
   "id": "7f96542d",
   "metadata": {
    "papermill": {
     "duration": 0.009493,
     "end_time": "2024-07-27T07:50:57.192824",
     "exception": false,
     "start_time": "2024-07-27T07:50:57.183331",
     "status": "completed"
    },
    "tags": []
   },
   "source": [
    "**This notebook is an exercise in the [Natural Language Processing](https://www.kaggle.com/learn/natural-language-processing) course.  You can reference the tutorial at [this link](https://www.kaggle.com/matleonard/intro-to-nlp).**\n",
    "\n",
    "---\n"
   ]
  },
  {
   "cell_type": "markdown",
   "id": "bf8e0933",
   "metadata": {
    "papermill": {
     "duration": 0.008899,
     "end_time": "2024-07-27T07:50:57.210951",
     "exception": false,
     "start_time": "2024-07-27T07:50:57.202052",
     "status": "completed"
    },
    "tags": []
   },
   "source": [
    "# Basic Text Processing with Spacy\n",
    "    \n",
    "You're a consultant for [DelFalco's Italian Restaurant](https://defalcosdeli.com/index.html).\n",
    "The owner asked you to identify whether there are any foods on their menu that diners find disappointing. \n",
    "\n",
    "<img src=\"https://i.imgur.com/8DZunAQ.jpg\" alt=\"Meatball Sub\" width=\"250\"/>\n",
    "\n",
    "Before getting started, run the following cell to set up code checking."
   ]
  },
  {
   "cell_type": "code",
   "execution_count": 1,
   "id": "66a8009d",
   "metadata": {
    "execution": {
     "iopub.execute_input": "2024-07-27T07:50:57.231347Z",
     "iopub.status.busy": "2024-07-27T07:50:57.230925Z",
     "iopub.status.idle": "2024-07-27T07:50:58.337460Z",
     "shell.execute_reply": "2024-07-27T07:50:58.335950Z"
    },
    "papermill": {
     "duration": 1.119936,
     "end_time": "2024-07-27T07:50:58.340363",
     "exception": false,
     "start_time": "2024-07-27T07:50:57.220427",
     "status": "completed"
    },
    "tags": []
   },
   "outputs": [
    {
     "name": "stdout",
     "output_type": "stream",
     "text": [
      "Setup Complete\n"
     ]
    }
   ],
   "source": [
    "import pandas as pd\n",
    "\n",
    "# Set up code checking\n",
    "from learntools.core import binder\n",
    "binder.bind(globals())\n",
    "from learntools.nlp.ex1 import *\n",
    "print('Setup Complete')"
   ]
  },
  {
   "cell_type": "markdown",
   "id": "7722cfa0",
   "metadata": {
    "papermill": {
     "duration": 0.008945,
     "end_time": "2024-07-27T07:50:58.359678",
     "exception": false,
     "start_time": "2024-07-27T07:50:58.350733",
     "status": "completed"
    },
    "tags": []
   },
   "source": [
    "The business owner suggested you use diner reviews from the Yelp website to determine which dishes people liked and disliked. You pulled the data from Yelp. Before you get to analysis, run the code cell below for a quick look at the data you have to work with."
   ]
  },
  {
   "cell_type": "code",
   "execution_count": 2,
   "id": "5b22cfde",
   "metadata": {
    "execution": {
     "iopub.execute_input": "2024-07-27T07:50:58.381117Z",
     "iopub.status.busy": "2024-07-27T07:50:58.380524Z",
     "iopub.status.idle": "2024-07-27T07:50:58.453339Z",
     "shell.execute_reply": "2024-07-27T07:50:58.451701Z"
    },
    "papermill": {
     "duration": 0.08756,
     "end_time": "2024-07-27T07:50:58.456323",
     "exception": false,
     "start_time": "2024-07-27T07:50:58.368763",
     "status": "completed"
    },
    "tags": []
   },
   "outputs": [
    {
     "name": "stdout",
     "output_type": "stream",
     "text": [
      "Index(['review_id', 'user_id', 'business_id', 'stars', 'useful', 'funny',\n",
      "       'cool', 'text', 'date'],\n",
      "      dtype='object')\n"
     ]
    }
   ],
   "source": [
    "# Load in the data from JSON file\n",
    "data = pd.read_json('../input/nlp-course/restaurant.json')\n",
    "print(data.columns)\n",
    "data.head()\n",
    "\n",
    "# Set pandas display options to show full content\n",
    "pd.set_option('display.max_colwidth', None)  # Set to None to avoid truncation\n",
    "\n",
    "# # Display the \"text\" column fully\n",
    "# print(data['text'])"
   ]
  },
  {
   "cell_type": "markdown",
   "id": "828cd5a4",
   "metadata": {
    "papermill": {
     "duration": 0.009045,
     "end_time": "2024-07-27T07:50:58.475273",
     "exception": false,
     "start_time": "2024-07-27T07:50:58.466228",
     "status": "completed"
    },
    "tags": []
   },
   "source": [
    "The owner also gave you this list of menu items and common alternate spellings."
   ]
  },
  {
   "cell_type": "code",
   "execution_count": 3,
   "id": "3a8990db",
   "metadata": {
    "execution": {
     "iopub.execute_input": "2024-07-27T07:50:58.495471Z",
     "iopub.status.busy": "2024-07-27T07:50:58.495067Z",
     "iopub.status.idle": "2024-07-27T07:50:58.502919Z",
     "shell.execute_reply": "2024-07-27T07:50:58.501797Z"
    },
    "papermill": {
     "duration": 0.021056,
     "end_time": "2024-07-27T07:50:58.505589",
     "exception": false,
     "start_time": "2024-07-27T07:50:58.484533",
     "status": "completed"
    },
    "tags": []
   },
   "outputs": [],
   "source": [
    "menu = [\"Cheese Steak\", \"Cheesesteak\", \"Steak and Cheese\", \"Italian Combo\", \"Tiramisu\", \"Cannoli\",\n",
    "        \"Chicken Salad\", \"Chicken Spinach Salad\", \"Meatball\", \"Pizza\", \"Pizzas\", \"Spaghetti\",\n",
    "        \"Bruchetta\", \"Eggplant\", \"Italian Beef\", \"Purista\", \"Pasta\", \"Calzones\",  \"Calzone\",\n",
    "        \"Italian Sausage\", \"Chicken Cutlet\", \"Chicken Parm\", \"Chicken Parmesan\", \"Gnocchi\",\n",
    "        \"Chicken Pesto\", \"Turkey Sandwich\", \"Turkey Breast\", \"Ziti\", \"Portobello\", \"Reuben\",\n",
    "        \"Mozzarella Caprese\",  \"Corned Beef\", \"Garlic Bread\", \"Pastrami\", \"Roast Beef\",\n",
    "        \"Tuna Salad\", \"Lasagna\", \"Artichoke Salad\", \"Fettuccini Alfredo\", \"Chicken Parmigiana\",\n",
    "        \"Grilled Veggie\", \"Grilled Veggies\", \"Grilled Vegetable\", \"Mac and Cheese\", \"Macaroni\",  \n",
    "         \"Prosciutto\", \"Salami\"]"
   ]
  },
  {
   "cell_type": "markdown",
   "id": "54c8b5bf",
   "metadata": {
    "papermill": {
     "duration": 0.008967,
     "end_time": "2024-07-27T07:50:58.523929",
     "exception": false,
     "start_time": "2024-07-27T07:50:58.514962",
     "status": "completed"
    },
    "tags": []
   },
   "source": [
    "# Step 1: Plan Your Analysis"
   ]
  },
  {
   "cell_type": "markdown",
   "id": "1922a425",
   "metadata": {
    "papermill": {
     "duration": 0.008938,
     "end_time": "2024-07-27T07:50:58.542375",
     "exception": false,
     "start_time": "2024-07-27T07:50:58.533437",
     "status": "completed"
    },
    "tags": []
   },
   "source": [
    "Given the data from Yelp and the list of menu items, do you have any ideas for how you could find which menu items have disappointed diners?\n",
    "\n",
    "Think about your answer. Then run the cell below to see one approach."
   ]
  },
  {
   "cell_type": "code",
   "execution_count": 4,
   "id": "db770bbf",
   "metadata": {
    "execution": {
     "iopub.execute_input": "2024-07-27T07:50:58.563662Z",
     "iopub.status.busy": "2024-07-27T07:50:58.563226Z",
     "iopub.status.idle": "2024-07-27T07:50:58.574604Z",
     "shell.execute_reply": "2024-07-27T07:50:58.573124Z"
    },
    "papermill": {
     "duration": 0.025864,
     "end_time": "2024-07-27T07:50:58.577552",
     "exception": false,
     "start_time": "2024-07-27T07:50:58.551688",
     "status": "completed"
    },
    "tags": []
   },
   "outputs": [
    {
     "data": {
      "application/javascript": [
       "parent.postMessage({\"jupyterEvent\": \"custom.exercise_interaction\", \"data\": {\"interactionType\": 3, \"questionType\": 4, \"questionId\": \"1_MenuAnalysisPlan\", \"learnToolsVersion\": \"0.3.4\", \"valueTowardsCompletion\": 0.0, \"failureMessage\": \"\", \"exceptionClass\": \"\", \"trace\": \"\", \"outcomeType\": 4}}, \"*\")"
      ],
      "text/plain": [
       "<IPython.core.display.Javascript object>"
      ]
     },
     "metadata": {},
     "output_type": "display_data"
    },
    {
     "data": {
      "text/markdown": [
       "<span style=\"color:#33cc99\">Solution:</span> You could group reviews by what menu items they mention, and then calculate the average rating\n",
       "    for reviews that mentioned each item. You can tell which foods are mentioned in reviews with low scores,\n",
       "    so the restaurant can fix the recipe or remove those foods from the menu."
      ],
      "text/plain": [
       "Solution: You could group reviews by what menu items they mention, and then calculate the average rating\n",
       "    for reviews that mentioned each item. You can tell which foods are mentioned in reviews with low scores,\n",
       "    so the restaurant can fix the recipe or remove those foods from the menu."
      ]
     },
     "metadata": {},
     "output_type": "display_data"
    }
   ],
   "source": [
    "# Check your answer (Run this code cell to receive credit!)\n",
    "q_1.solution()"
   ]
  },
  {
   "cell_type": "markdown",
   "id": "d791d800",
   "metadata": {
    "papermill": {
     "duration": 0.009452,
     "end_time": "2024-07-27T07:50:58.596724",
     "exception": false,
     "start_time": "2024-07-27T07:50:58.587272",
     "status": "completed"
    },
    "tags": []
   },
   "source": [
    "# Step 2: Find items in one review\n",
    "\n",
    "You'll pursue this plan of calculating average scores of the reviews mentioning each menu item.\n",
    "\n",
    "As a first step, you'll write code to extract the foods mentioned in a single review.\n",
    "\n",
    "Since menu items are multiple tokens long, you'll use `PhraseMatcher` which can match series of tokens.\n",
    "\n",
    "Fill in the `____` values below to get a list of items matching a single menu item."
   ]
  },
  {
   "cell_type": "code",
   "execution_count": 5,
   "id": "1f05216c",
   "metadata": {
    "execution": {
     "iopub.execute_input": "2024-07-27T07:50:58.617984Z",
     "iopub.status.busy": "2024-07-27T07:50:58.617599Z",
     "iopub.status.idle": "2024-07-27T07:51:05.587882Z",
     "shell.execute_reply": "2024-07-27T07:51:05.586586Z"
    },
    "papermill": {
     "duration": 6.984014,
     "end_time": "2024-07-27T07:51:05.590431",
     "exception": false,
     "start_time": "2024-07-27T07:50:58.606417",
     "status": "completed"
    },
    "tags": []
   },
   "outputs": [
    {
     "data": {
      "application/javascript": [
       "parent.postMessage({\"jupyterEvent\": \"custom.exercise_interaction\", \"data\": {\"outcomeType\": 1, \"valueTowardsCompletion\": 0.2, \"interactionType\": 1, \"questionType\": 2, \"questionId\": \"2_SingleReviewMatch\", \"learnToolsVersion\": \"0.3.4\", \"failureMessage\": \"\", \"exceptionClass\": \"\", \"trace\": \"\"}}, \"*\")"
      ],
      "text/plain": [
       "<IPython.core.display.Javascript object>"
      ]
     },
     "metadata": {},
     "output_type": "display_data"
    },
    {
     "data": {
      "text/markdown": [
       "<span style=\"color:#33cc33\">Correct</span>"
      ],
      "text/plain": [
       "Correct"
      ]
     },
     "metadata": {},
     "output_type": "display_data"
    }
   ],
   "source": [
    "import spacy\n",
    "from spacy.matcher import PhraseMatcher\n",
    "\n",
    "index_of_review_to_test_on = 14\n",
    "text_to_test_on = data.text.iloc[index_of_review_to_test_on]\n",
    "\n",
    "# Load the SpaCy model\n",
    "nlp = spacy.blank('en')\n",
    "\n",
    "# Create the tokenized version of text_to_test_on. MUST CREATE FIRST. DL cant handle raw data !\n",
    "review_doc = nlp(text_to_test_on)\n",
    "\n",
    "# Create the PhraseMatcher object. The tokenizer is the first argument. Use attr = 'LOWER' to make consistent capitalization\n",
    "matcher = PhraseMatcher(nlp.vocab, attr='LOWER')\n",
    "\n",
    "# Create a list of tokens for each item in the menu\n",
    "menu_tokens_list = [nlp(item) for item in menu]\n",
    "\n",
    "# Add the item patterns to the matcher. \n",
    "matcher.add(\"Menu\", menu_tokens_list)\n",
    "\n",
    "# Look at https://spacy.io/api/phrasematcher#add in the docs for help with this step\n",
    "# Then uncomment the lines below \n",
    "\n",
    "\n",
    "# Find matches in the review_doc\n",
    "matches = matcher(review_doc)\n",
    "\n",
    "# Uncomment to check your work\n",
    "q_2.check()"
   ]
  },
  {
   "cell_type": "code",
   "execution_count": 6,
   "id": "de21a81e",
   "metadata": {
    "execution": {
     "iopub.execute_input": "2024-07-27T07:51:05.612302Z",
     "iopub.status.busy": "2024-07-27T07:51:05.611665Z",
     "iopub.status.idle": "2024-07-27T07:51:05.617392Z",
     "shell.execute_reply": "2024-07-27T07:51:05.615894Z"
    },
    "papermill": {
     "duration": 0.019814,
     "end_time": "2024-07-27T07:51:05.620107",
     "exception": false,
     "start_time": "2024-07-27T07:51:05.600293",
     "status": "completed"
    },
    "tags": []
   },
   "outputs": [],
   "source": [
    "# Lines below will give you a hint or solution code\n",
    "#q_2.hint()\n",
    "#q_2.solution()"
   ]
  },
  {
   "cell_type": "markdown",
   "id": "724cfc09",
   "metadata": {
    "papermill": {
     "duration": 0.009553,
     "end_time": "2024-07-27T07:51:05.639980",
     "exception": false,
     "start_time": "2024-07-27T07:51:05.630427",
     "status": "completed"
    },
    "tags": []
   },
   "source": [
    "After implementing the above cell, uncomment the following cell to print the matches."
   ]
  },
  {
   "cell_type": "code",
   "execution_count": 7,
   "id": "d5ee656f",
   "metadata": {
    "execution": {
     "iopub.execute_input": "2024-07-27T07:51:05.662547Z",
     "iopub.status.busy": "2024-07-27T07:51:05.661387Z",
     "iopub.status.idle": "2024-07-27T07:51:05.668470Z",
     "shell.execute_reply": "2024-07-27T07:51:05.667166Z"
    },
    "papermill": {
     "duration": 0.021254,
     "end_time": "2024-07-27T07:51:05.671289",
     "exception": false,
     "start_time": "2024-07-27T07:51:05.650035",
     "status": "completed"
    },
    "tags": []
   },
   "outputs": [
    {
     "name": "stdout",
     "output_type": "stream",
     "text": [
      "Token number 2: Purista\n",
      "Token number 16: prosciutto\n",
      "Token number 58: meatball\n"
     ]
    }
   ],
   "source": [
    " for match in matches:\n",
    "    print(f\"Token number {match[1]}: {review_doc[match[1]:match[2]]}\")   #to extract text"
   ]
  },
  {
   "cell_type": "markdown",
   "id": "668b8def",
   "metadata": {
    "papermill": {
     "duration": 0.00982,
     "end_time": "2024-07-27T07:51:05.691526",
     "exception": false,
     "start_time": "2024-07-27T07:51:05.681706",
     "status": "completed"
    },
    "tags": []
   },
   "source": [
    "# Step 3: Matching on the whole dataset\n",
    "\n",
    "Now run this matcher over the whole dataset and collect ratings for each menu item. Each review has a rating, `review.stars`. For each item that appears in the review text (`review.text`), append the review's rating to a list of ratings for that item. The lists are kept in a dictionary `item_ratings`.\n",
    "\n",
    "To get the matched phrases, you can reference the `PhraseMatcher` documentation for the structure of each match object:\n",
    "\n",
    ">A list of `(match_id, start, end)` tuples, describing the matches. A match tuple describes a span `doc[start:end]`. The `match_id` is the ID of the added match pattern."
   ]
  },
  {
   "cell_type": "code",
   "execution_count": 8,
   "id": "f0a440f2",
   "metadata": {
    "execution": {
     "iopub.execute_input": "2024-07-27T07:51:05.714428Z",
     "iopub.status.busy": "2024-07-27T07:51:05.713999Z",
     "iopub.status.idle": "2024-07-27T07:51:07.182301Z",
     "shell.execute_reply": "2024-07-27T07:51:07.181140Z"
    },
    "papermill": {
     "duration": 1.483549,
     "end_time": "2024-07-27T07:51:07.185170",
     "exception": false,
     "start_time": "2024-07-27T07:51:05.701621",
     "status": "completed"
    },
    "tags": []
   },
   "outputs": [
    {
     "data": {
      "application/javascript": [
       "parent.postMessage({\"jupyterEvent\": \"custom.exercise_interaction\", \"data\": {\"outcomeType\": 1, \"valueTowardsCompletion\": 0.2, \"interactionType\": 1, \"questionType\": 2, \"questionId\": \"3_MatchAllDataset\", \"learnToolsVersion\": \"0.3.4\", \"failureMessage\": \"\", \"exceptionClass\": \"\", \"trace\": \"\"}}, \"*\")"
      ],
      "text/plain": [
       "<IPython.core.display.Javascript object>"
      ]
     },
     "metadata": {},
     "output_type": "display_data"
    },
    {
     "data": {
      "text/markdown": [
       "<span style=\"color:#33cc33\">Correct</span>"
      ],
      "text/plain": [
       "Correct"
      ]
     },
     "metadata": {},
     "output_type": "display_data"
    }
   ],
   "source": [
    "from collections import defaultdict\n",
    "\n",
    "# item_ratings is a dictionary of lists. If a key doesn't exist in item_ratings,\n",
    "# the key is added with an empty list as the value.\n",
    "item_ratings = defaultdict(list)   # Important Part !!\n",
    "\n",
    "for idx, review in data.iterrows():\n",
    "    doc = nlp(review['text'])   # using only 'text' coln!\n",
    "    # Using the matcher from the previous exercise\n",
    "    matches = matcher(doc)\n",
    "    \n",
    "    # Create a set of items found in the review text. VERY IMPORTANTT!   \n",
    "    found_items= set()\n",
    "    \n",
    "    for match_id, start, end in matches:\n",
    "        # Extract the matched span from the text document\n",
    "        matched_span = doc[start:end].text.lower()    #to extract text\n",
    "    \n",
    "        found_items.add(matched_span)\n",
    "       \n",
    "    #print(\"Found items: \",found_items)\n",
    "        \n",
    "    for item in found_items:\n",
    "        item_ratings[item].append(review.stars)\n",
    "\n",
    "q_3.check()"
   ]
  },
  {
   "cell_type": "code",
   "execution_count": 9,
   "id": "3d3c65e4",
   "metadata": {
    "execution": {
     "iopub.execute_input": "2024-07-27T07:51:07.211357Z",
     "iopub.status.busy": "2024-07-27T07:51:07.210237Z",
     "iopub.status.idle": "2024-07-27T07:51:07.216067Z",
     "shell.execute_reply": "2024-07-27T07:51:07.214836Z"
    },
    "papermill": {
     "duration": 0.021055,
     "end_time": "2024-07-27T07:51:07.218750",
     "exception": false,
     "start_time": "2024-07-27T07:51:07.197695",
     "status": "completed"
    },
    "tags": []
   },
   "outputs": [],
   "source": [
    "# Lines below will give you a hint or solution code\n",
    "#q_3.hint()\n",
    "#q_3.solution()"
   ]
  },
  {
   "cell_type": "markdown",
   "id": "57d2c94d",
   "metadata": {
    "papermill": {
     "duration": 0.010346,
     "end_time": "2024-07-27T07:51:07.239640",
     "exception": false,
     "start_time": "2024-07-27T07:51:07.229294",
     "status": "completed"
    },
    "tags": []
   },
   "source": [
    "# Step 4: What's the worst reviewed item?\n",
    "\n",
    "Using these item ratings, find the menu item with the worst average rating."
   ]
  },
  {
   "cell_type": "code",
   "execution_count": 10,
   "id": "e44b6ca5",
   "metadata": {
    "execution": {
     "iopub.execute_input": "2024-07-27T07:51:07.263844Z",
     "iopub.status.busy": "2024-07-27T07:51:07.263436Z",
     "iopub.status.idle": "2024-07-27T07:51:07.278358Z",
     "shell.execute_reply": "2024-07-27T07:51:07.276897Z"
    },
    "papermill": {
     "duration": 0.030009,
     "end_time": "2024-07-27T07:51:07.280934",
     "exception": false,
     "start_time": "2024-07-27T07:51:07.250925",
     "status": "completed"
    },
    "tags": []
   },
   "outputs": [
    {
     "name": "stdout",
     "output_type": "stream",
     "text": [
      "Worst item: chicken cutlet, Worst rating: 3.40\n"
     ]
    },
    {
     "data": {
      "application/javascript": [
       "parent.postMessage({\"jupyterEvent\": \"custom.exercise_interaction\", \"data\": {\"outcomeType\": 1, \"valueTowardsCompletion\": 0.2, \"interactionType\": 1, \"questionType\": 1, \"questionId\": \"4_WorstReviewedItem\", \"learnToolsVersion\": \"0.3.4\", \"failureMessage\": \"\", \"exceptionClass\": \"\", \"trace\": \"\"}}, \"*\")"
      ],
      "text/plain": [
       "<IPython.core.display.Javascript object>"
      ]
     },
     "metadata": {},
     "output_type": "display_data"
    },
    {
     "data": {
      "text/markdown": [
       "<span style=\"color:#33cc33\">Correct</span>"
      ],
      "text/plain": [
       "Correct"
      ]
     },
     "metadata": {},
     "output_type": "display_data"
    }
   ],
   "source": [
    "#print(item_ratings)\n",
    "# Calculate the mean ratings for each menu item as a dictionary\n",
    "\n",
    "mean_ratings = {}\n",
    "#the items() method in Python is used with dictionaries to retrieve the key-value pairs stored in the dictionary. \n",
    "for item, ratings in item_ratings.items():\n",
    "    mean_ratings[item] = sum(ratings) / len(ratings) if ratings else 0\n",
    "\n",
    "\n",
    "# Find the worst item, and write it as a string in worst_item. This can be multiple lines of code if you want.\n",
    "# Initialize variables to find the worst rating\n",
    "worst_item = \"\"\n",
    "worst_rating = float('inf')  # Start with infinity\n",
    "\n",
    "# Loop through the mean ratings to find the minimum\n",
    "#the items() method in Python is used with dictionaries to retrieve the key-value pairs stored in the dictionary. \n",
    "\n",
    "for item, rating in mean_ratings.items():\n",
    "    if rating < worst_rating and rating!=0:\n",
    "        worst_rating = rating\n",
    "        worst_item = item\n",
    "\n",
    "print(f\"Worst item: {worst_item}, Worst rating: {worst_rating:.2f}\")\n",
    "\n",
    "q_4.check()"
   ]
  },
  {
   "cell_type": "code",
   "execution_count": 11,
   "id": "21ae44fb",
   "metadata": {
    "execution": {
     "iopub.execute_input": "2024-07-27T07:51:07.306807Z",
     "iopub.status.busy": "2024-07-27T07:51:07.306332Z",
     "iopub.status.idle": "2024-07-27T07:51:07.312687Z",
     "shell.execute_reply": "2024-07-27T07:51:07.311133Z"
    },
    "papermill": {
     "duration": 0.022426,
     "end_time": "2024-07-27T07:51:07.315429",
     "exception": false,
     "start_time": "2024-07-27T07:51:07.293003",
     "status": "completed"
    },
    "tags": []
   },
   "outputs": [],
   "source": [
    "# Lines below will give you a hint or solution code\n",
    "#q_4.hint()\n",
    "#q_4.solution()"
   ]
  },
  {
   "cell_type": "code",
   "execution_count": 12,
   "id": "47e75c57",
   "metadata": {
    "execution": {
     "iopub.execute_input": "2024-07-27T07:51:07.339117Z",
     "iopub.status.busy": "2024-07-27T07:51:07.338686Z",
     "iopub.status.idle": "2024-07-27T07:51:07.345615Z",
     "shell.execute_reply": "2024-07-27T07:51:07.344116Z"
    },
    "papermill": {
     "duration": 0.022509,
     "end_time": "2024-07-27T07:51:07.348847",
     "exception": false,
     "start_time": "2024-07-27T07:51:07.326338",
     "status": "completed"
    },
    "tags": []
   },
   "outputs": [
    {
     "name": "stdout",
     "output_type": "stream",
     "text": [
      "chicken cutlet\n",
      "3.4\n"
     ]
    }
   ],
   "source": [
    "# After implementing the above cell, uncomment and run this to print \n",
    "# out the worst item, along with its average rating. \n",
    "\n",
    "print(worst_item)\n",
    "print(mean_ratings[worst_item])"
   ]
  },
  {
   "cell_type": "markdown",
   "id": "871664e4",
   "metadata": {
    "papermill": {
     "duration": 0.011129,
     "end_time": "2024-07-27T07:51:07.371115",
     "exception": false,
     "start_time": "2024-07-27T07:51:07.359986",
     "status": "completed"
    },
    "tags": []
   },
   "source": [
    "# Step 5: Are counts important here?\n",
    "\n",
    "Similar to the mean ratings, you can calculate the number of reviews for each item."
   ]
  },
  {
   "cell_type": "code",
   "execution_count": 13,
   "id": "29a41739",
   "metadata": {
    "execution": {
     "iopub.execute_input": "2024-07-27T07:51:07.396126Z",
     "iopub.status.busy": "2024-07-27T07:51:07.395679Z",
     "iopub.status.idle": "2024-07-27T07:51:07.403839Z",
     "shell.execute_reply": "2024-07-27T07:51:07.402517Z"
    },
    "papermill": {
     "duration": 0.025508,
     "end_time": "2024-07-27T07:51:07.408185",
     "exception": false,
     "start_time": "2024-07-27T07:51:07.382677",
     "status": "completed"
    },
    "tags": []
   },
   "outputs": [
    {
     "name": "stdout",
     "output_type": "stream",
     "text": [
      "                    pizza  265\n",
      "                    pasta  206\n",
      "                 meatball  128\n",
      "              cheesesteak   97\n",
      "             cheese steak   76\n",
      "                  cannoli   72\n",
      "                  calzone   72\n",
      "                 eggplant   69\n",
      "                  purista   63\n",
      "                  lasagna   59\n",
      "          italian sausage   53\n",
      "               prosciutto   50\n",
      "             chicken parm   50\n",
      "             garlic bread   39\n",
      "                  gnocchi   37\n",
      "                spaghetti   36\n",
      "                 calzones   35\n",
      "                   pizzas   32\n",
      "                   salami   28\n",
      "            chicken pesto   27\n",
      "             italian beef   25\n",
      "                 tiramisu   21\n",
      "            italian combo   21\n",
      "                     ziti   21\n",
      "         chicken parmesan   19\n",
      "       chicken parmigiana   17\n",
      "               portobello   14\n",
      "           mac and cheese   11\n",
      "           chicken cutlet   10\n",
      "         steak and cheese    9\n",
      "                 pastrami    9\n",
      "               roast beef    7\n",
      "       fettuccini alfredo    6\n",
      "           grilled veggie    6\n",
      "               tuna salad    5\n",
      "          turkey sandwich    5\n",
      "          artichoke salad    5\n",
      "                 macaroni    5\n",
      "            chicken salad    5\n",
      "                   reuben    4\n",
      "    chicken spinach salad    2\n",
      "              corned beef    2\n",
      "            turkey breast    1\n"
     ]
    }
   ],
   "source": [
    "counts = {item: len(ratings) for item, ratings in item_ratings.items()}\n",
    "\n",
    "item_counts = sorted(counts, key=counts.get, reverse=True)\n",
    "for item in item_counts:\n",
    "    print(f\"{item:>25}{counts[item]:>5}\")"
   ]
  },
  {
   "cell_type": "markdown",
   "id": "e41a9e36",
   "metadata": {
    "papermill": {
     "duration": 0.010921,
     "end_time": "2024-07-27T07:51:07.431061",
     "exception": false,
     "start_time": "2024-07-27T07:51:07.420140",
     "status": "completed"
    },
    "tags": []
   },
   "source": [
    "Here is code to print the 10 best and 10 worst rated items. Look at the results, and decide whether you think it's important to consider the number of reviews when interpreting scores of which items are best and worst."
   ]
  },
  {
   "cell_type": "code",
   "execution_count": 14,
   "id": "ebb7370c",
   "metadata": {
    "execution": {
     "iopub.execute_input": "2024-07-27T07:51:07.455407Z",
     "iopub.status.busy": "2024-07-27T07:51:07.454976Z",
     "iopub.status.idle": "2024-07-27T07:51:07.464171Z",
     "shell.execute_reply": "2024-07-27T07:51:07.462561Z"
    },
    "papermill": {
     "duration": 0.024737,
     "end_time": "2024-07-27T07:51:07.466967",
     "exception": false,
     "start_time": "2024-07-27T07:51:07.442230",
     "status": "completed"
    },
    "tags": []
   },
   "outputs": [
    {
     "name": "stdout",
     "output_type": "stream",
     "text": [
      "Worst rated menu items:\n",
      "chicken cutlet       Ave rating: 3.40 \tcount: 10\n",
      "turkey sandwich      Ave rating: 3.80 \tcount: 5\n",
      "spaghetti            Ave rating: 3.89 \tcount: 36\n",
      "italian beef         Ave rating: 3.92 \tcount: 25\n",
      "tuna salad           Ave rating: 4.00 \tcount: 5\n",
      "macaroni             Ave rating: 4.00 \tcount: 5\n",
      "italian combo        Ave rating: 4.05 \tcount: 21\n",
      "garlic bread         Ave rating: 4.13 \tcount: 39\n",
      "roast beef           Ave rating: 4.14 \tcount: 7\n",
      "eggplant             Ave rating: 4.16 \tcount: 69\n",
      "\n",
      "\n",
      "Best rated menu items:\n",
      "chicken pesto        Ave rating: 4.56 \tcount: 27\n",
      "chicken salad        Ave rating: 4.60 \tcount: 5\n",
      "purista              Ave rating: 4.67 \tcount: 63\n",
      "prosciutto           Ave rating: 4.68 \tcount: 50\n",
      "reuben               Ave rating: 4.75 \tcount: 4\n",
      "steak and cheese     Ave rating: 4.89 \tcount: 9\n",
      "artichoke salad      Ave rating: 5.00 \tcount: 5\n",
      "fettuccini alfredo   Ave rating: 5.00 \tcount: 6\n",
      "turkey breast        Ave rating: 5.00 \tcount: 1\n",
      "corned beef          Ave rating: 5.00 \tcount: 2\n"
     ]
    }
   ],
   "source": [
    "sorted_ratings = sorted(mean_ratings, key=mean_ratings.get)\n",
    "\n",
    "print(\"Worst rated menu items:\")\n",
    "for item in sorted_ratings[:10]:\n",
    "    print(f\"{item:20} Ave rating: {mean_ratings[item]:.2f} \\tcount: {counts[item]}\")\n",
    "    \n",
    "print(\"\\n\\nBest rated menu items:\")\n",
    "for item in sorted_ratings[-10:]:\n",
    "    print(f\"{item:20} Ave rating: {mean_ratings[item]:.2f} \\tcount: {counts[item]}\")"
   ]
  },
  {
   "cell_type": "markdown",
   "id": "ed43b7d4",
   "metadata": {
    "papermill": {
     "duration": 0.011246,
     "end_time": "2024-07-27T07:51:07.489600",
     "exception": false,
     "start_time": "2024-07-27T07:51:07.478354",
     "status": "completed"
    },
    "tags": []
   },
   "source": [
    "Run the following line after you've decided your answer."
   ]
  },
  {
   "cell_type": "code",
   "execution_count": 15,
   "id": "a7eabb51",
   "metadata": {
    "execution": {
     "iopub.execute_input": "2024-07-27T07:51:07.514537Z",
     "iopub.status.busy": "2024-07-27T07:51:07.513276Z",
     "iopub.status.idle": "2024-07-27T07:51:07.523558Z",
     "shell.execute_reply": "2024-07-27T07:51:07.522154Z"
    },
    "papermill": {
     "duration": 0.025325,
     "end_time": "2024-07-27T07:51:07.526067",
     "exception": false,
     "start_time": "2024-07-27T07:51:07.500742",
     "status": "completed"
    },
    "tags": []
   },
   "outputs": [
    {
     "data": {
      "application/javascript": [
       "parent.postMessage({\"jupyterEvent\": \"custom.exercise_interaction\", \"data\": {\"interactionType\": 3, \"questionType\": 4, \"questionId\": \"5_CountImportanceQuestion\", \"learnToolsVersion\": \"0.3.4\", \"valueTowardsCompletion\": 0.0, \"failureMessage\": \"\", \"exceptionClass\": \"\", \"trace\": \"\", \"outcomeType\": 4}}, \"*\")"
      ],
      "text/plain": [
       "<IPython.core.display.Javascript object>"
      ]
     },
     "metadata": {},
     "output_type": "display_data"
    },
    {
     "data": {
      "text/markdown": [
       "<span style=\"color:#33cc99\">Solution:</span> \n",
       "    The less data you have for any specific item, the less you can trust that the average rating is the \"real\" sentiment of the customers. This is fairly common sense. If more people tell you the same thing, you're more likely to believe it. It's also mathematically sound. As the number of data points increases, the error on the mean decreases as 1 / sqrt(n).\n",
       "    "
      ],
      "text/plain": [
       "Solution: \n",
       "    The less data you have for any specific item, the less you can trust that the average rating is the \"real\" sentiment of the customers. This is fairly common sense. If more people tell you the same thing, you're more likely to believe it. It's also mathematically sound. As the number of data points increases, the error on the mean decreases as 1 / sqrt(n).\n",
       "    "
      ]
     },
     "metadata": {},
     "output_type": "display_data"
    }
   ],
   "source": [
    "# Check your answer (Run this code cell to receive credit!)\n",
    "q_5.solution()"
   ]
  },
  {
   "cell_type": "markdown",
   "id": "842fc9ff",
   "metadata": {
    "papermill": {
     "duration": 0.011936,
     "end_time": "2024-07-27T07:51:07.549950",
     "exception": false,
     "start_time": "2024-07-27T07:51:07.538014",
     "status": "completed"
    },
    "tags": []
   },
   "source": [
    "# Keep Going\n",
    "\n",
    "Now that you are ready to combine your NLP skills with your ML skills, **[see how it's done](https://www.kaggle.com/matleonard/text-classification)**."
   ]
  },
  {
   "cell_type": "markdown",
   "id": "d6061e1e",
   "metadata": {
    "papermill": {
     "duration": 0.012183,
     "end_time": "2024-07-27T07:51:07.574163",
     "exception": false,
     "start_time": "2024-07-27T07:51:07.561980",
     "status": "completed"
    },
    "tags": []
   },
   "source": [
    "---\n",
    "\n",
    "\n",
    "\n",
    "\n",
    "*Have questions or comments? Visit the [course discussion forum](https://www.kaggle.com/learn/natural-language-processing/discussion) to chat with other learners.*"
   ]
  }
 ],
 "metadata": {
  "kaggle": {
   "accelerator": "none",
   "dataSources": [
    {
     "datasetId": 348259,
     "sourceId": 695175,
     "sourceType": "datasetVersion"
    },
    {
     "datasetId": 362178,
     "sourceId": 763778,
     "sourceType": "datasetVersion"
    }
   ],
   "isGpuEnabled": false,
   "isInternetEnabled": false,
   "language": "python",
   "sourceType": "notebook"
  },
  "kernelspec": {
   "display_name": "Python 3",
   "language": "python",
   "name": "python3"
  },
  "language_info": {
   "codemirror_mode": {
    "name": "ipython",
    "version": 3
   },
   "file_extension": ".py",
   "mimetype": "text/x-python",
   "name": "python",
   "nbconvert_exporter": "python",
   "pygments_lexer": "ipython3",
   "version": "3.10.13"
  },
  "papermill": {
   "default_parameters": {},
   "duration": 14.906965,
   "end_time": "2024-07-27T07:51:08.815178",
   "environment_variables": {},
   "exception": null,
   "input_path": "__notebook__.ipynb",
   "output_path": "__notebook__.ipynb",
   "parameters": {},
   "start_time": "2024-07-27T07:50:53.908213",
   "version": "2.5.0"
  }
 },
 "nbformat": 4,
 "nbformat_minor": 5
}
