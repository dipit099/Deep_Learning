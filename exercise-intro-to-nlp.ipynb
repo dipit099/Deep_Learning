{
 "cells": [
  {
   "cell_type": "markdown",
   "id": "401fc5eb",
   "metadata": {
    "papermill": {
     "duration": 0.007289,
     "end_time": "2024-07-27T05:43:14.084336",
     "exception": false,
     "start_time": "2024-07-27T05:43:14.077047",
     "status": "completed"
    },
    "tags": []
   },
   "source": [
    "**This notebook is an exercise in the [Natural Language Processing](https://www.kaggle.com/learn/natural-language-processing) course.  You can reference the tutorial at [this link](https://www.kaggle.com/matleonard/intro-to-nlp).**\n",
    "\n",
    "---\n"
   ]
  },
  {
   "cell_type": "markdown",
   "id": "8228ad9b",
   "metadata": {
    "papermill": {
     "duration": 0.006219,
     "end_time": "2024-07-27T05:43:14.097217",
     "exception": false,
     "start_time": "2024-07-27T05:43:14.090998",
     "status": "completed"
    },
    "tags": []
   },
   "source": [
    "# Basic Text Processing with Spacy\n",
    "    \n",
    "You're a consultant for [DelFalco's Italian Restaurant](https://defalcosdeli.com/index.html).\n",
    "The owner asked you to identify whether there are any foods on their menu that diners find disappointing. \n",
    "\n",
    "<img src=\"https://i.imgur.com/8DZunAQ.jpg\" alt=\"Meatball Sub\" width=\"250\"/>\n",
    "\n",
    "Before getting started, run the following cell to set up code checking."
   ]
  },
  {
   "cell_type": "code",
   "execution_count": 1,
   "id": "6fdd66b2",
   "metadata": {
    "execution": {
     "iopub.execute_input": "2024-07-27T05:43:14.112012Z",
     "iopub.status.busy": "2024-07-27T05:43:14.111617Z",
     "iopub.status.idle": "2024-07-27T05:43:15.102516Z",
     "shell.execute_reply": "2024-07-27T05:43:15.101198Z"
    },
    "papermill": {
     "duration": 1.001621,
     "end_time": "2024-07-27T05:43:15.105377",
     "exception": false,
     "start_time": "2024-07-27T05:43:14.103756",
     "status": "completed"
    },
    "tags": []
   },
   "outputs": [
    {
     "name": "stdout",
     "output_type": "stream",
     "text": [
      "Setup Complete\n"
     ]
    }
   ],
   "source": [
    "import pandas as pd\n",
    "\n",
    "# Set up code checking\n",
    "from learntools.core import binder\n",
    "binder.bind(globals())\n",
    "from learntools.nlp.ex1 import *\n",
    "print('Setup Complete')"
   ]
  },
  {
   "cell_type": "markdown",
   "id": "3133a4d9",
   "metadata": {
    "papermill": {
     "duration": 0.006287,
     "end_time": "2024-07-27T05:43:15.118478",
     "exception": false,
     "start_time": "2024-07-27T05:43:15.112191",
     "status": "completed"
    },
    "tags": []
   },
   "source": [
    "The business owner suggested you use diner reviews from the Yelp website to determine which dishes people liked and disliked. You pulled the data from Yelp. Before you get to analysis, run the code cell below for a quick look at the data you have to work with."
   ]
  },
  {
   "cell_type": "code",
   "execution_count": 2,
   "id": "81a3b4c6",
   "metadata": {
    "execution": {
     "iopub.execute_input": "2024-07-27T05:43:15.133313Z",
     "iopub.status.busy": "2024-07-27T05:43:15.132783Z",
     "iopub.status.idle": "2024-07-27T05:43:15.190214Z",
     "shell.execute_reply": "2024-07-27T05:43:15.188975Z"
    },
    "papermill": {
     "duration": 0.067687,
     "end_time": "2024-07-27T05:43:15.192725",
     "exception": false,
     "start_time": "2024-07-27T05:43:15.125038",
     "status": "completed"
    },
    "tags": []
   },
   "outputs": [
    {
     "name": "stdout",
     "output_type": "stream",
     "text": [
      "Index(['review_id', 'user_id', 'business_id', 'stars', 'useful', 'funny',\n",
      "       'cool', 'text', 'date'],\n",
      "      dtype='object')\n"
     ]
    }
   ],
   "source": [
    "# Load in the data from JSON file\n",
    "data = pd.read_json('../input/nlp-course/restaurant.json')\n",
    "print(data.columns)\n",
    "data.head()\n",
    "\n",
    "# Set pandas display options to show full content\n",
    "pd.set_option('display.max_colwidth', None)  # Set to None to avoid truncation\n",
    "\n",
    "# # Display the \"text\" column fully\n",
    "# print(data['text'])"
   ]
  },
  {
   "cell_type": "markdown",
   "id": "e2787694",
   "metadata": {
    "papermill": {
     "duration": 0.006331,
     "end_time": "2024-07-27T05:43:15.205684",
     "exception": false,
     "start_time": "2024-07-27T05:43:15.199353",
     "status": "completed"
    },
    "tags": []
   },
   "source": [
    "The owner also gave you this list of menu items and common alternate spellings."
   ]
  },
  {
   "cell_type": "code",
   "execution_count": 3,
   "id": "a7ecf157",
   "metadata": {
    "execution": {
     "iopub.execute_input": "2024-07-27T05:43:15.220637Z",
     "iopub.status.busy": "2024-07-27T05:43:15.220260Z",
     "iopub.status.idle": "2024-07-27T05:43:15.226933Z",
     "shell.execute_reply": "2024-07-27T05:43:15.225619Z"
    },
    "papermill": {
     "duration": 0.01699,
     "end_time": "2024-07-27T05:43:15.229197",
     "exception": false,
     "start_time": "2024-07-27T05:43:15.212207",
     "status": "completed"
    },
    "tags": []
   },
   "outputs": [],
   "source": [
    "menu = [\"Cheese Steak\", \"Cheesesteak\", \"Steak and Cheese\", \"Italian Combo\", \"Tiramisu\", \"Cannoli\",\n",
    "        \"Chicken Salad\", \"Chicken Spinach Salad\", \"Meatball\", \"Pizza\", \"Pizzas\", \"Spaghetti\",\n",
    "        \"Bruchetta\", \"Eggplant\", \"Italian Beef\", \"Purista\", \"Pasta\", \"Calzones\",  \"Calzone\",\n",
    "        \"Italian Sausage\", \"Chicken Cutlet\", \"Chicken Parm\", \"Chicken Parmesan\", \"Gnocchi\",\n",
    "        \"Chicken Pesto\", \"Turkey Sandwich\", \"Turkey Breast\", \"Ziti\", \"Portobello\", \"Reuben\",\n",
    "        \"Mozzarella Caprese\",  \"Corned Beef\", \"Garlic Bread\", \"Pastrami\", \"Roast Beef\",\n",
    "        \"Tuna Salad\", \"Lasagna\", \"Artichoke Salad\", \"Fettuccini Alfredo\", \"Chicken Parmigiana\",\n",
    "        \"Grilled Veggie\", \"Grilled Veggies\", \"Grilled Vegetable\", \"Mac and Cheese\", \"Macaroni\",  \n",
    "         \"Prosciutto\", \"Salami\"]"
   ]
  },
  {
   "cell_type": "markdown",
   "id": "811cd6eb",
   "metadata": {
    "papermill": {
     "duration": 0.006191,
     "end_time": "2024-07-27T05:43:15.242073",
     "exception": false,
     "start_time": "2024-07-27T05:43:15.235882",
     "status": "completed"
    },
    "tags": []
   },
   "source": [
    "# Step 1: Plan Your Analysis"
   ]
  },
  {
   "cell_type": "markdown",
   "id": "42c3bf50",
   "metadata": {
    "papermill": {
     "duration": 0.006751,
     "end_time": "2024-07-27T05:43:15.255439",
     "exception": false,
     "start_time": "2024-07-27T05:43:15.248688",
     "status": "completed"
    },
    "tags": []
   },
   "source": [
    "Given the data from Yelp and the list of menu items, do you have any ideas for how you could find which menu items have disappointed diners?\n",
    "\n",
    "Think about your answer. Then run the cell below to see one approach."
   ]
  },
  {
   "cell_type": "code",
   "execution_count": 4,
   "id": "23e6ac45",
   "metadata": {
    "execution": {
     "iopub.execute_input": "2024-07-27T05:43:15.272053Z",
     "iopub.status.busy": "2024-07-27T05:43:15.271021Z",
     "iopub.status.idle": "2024-07-27T05:43:15.282210Z",
     "shell.execute_reply": "2024-07-27T05:43:15.280773Z"
    },
    "papermill": {
     "duration": 0.023045,
     "end_time": "2024-07-27T05:43:15.285308",
     "exception": false,
     "start_time": "2024-07-27T05:43:15.262263",
     "status": "completed"
    },
    "tags": []
   },
   "outputs": [
    {
     "data": {
      "application/javascript": [
       "parent.postMessage({\"jupyterEvent\": \"custom.exercise_interaction\", \"data\": {\"interactionType\": 3, \"questionType\": 4, \"questionId\": \"1_MenuAnalysisPlan\", \"learnToolsVersion\": \"0.3.4\", \"valueTowardsCompletion\": 0.0, \"failureMessage\": \"\", \"exceptionClass\": \"\", \"trace\": \"\", \"outcomeType\": 4}}, \"*\")"
      ],
      "text/plain": [
       "<IPython.core.display.Javascript object>"
      ]
     },
     "metadata": {},
     "output_type": "display_data"
    },
    {
     "data": {
      "text/markdown": [
       "<span style=\"color:#33cc99\">Solution:</span> You could group reviews by what menu items they mention, and then calculate the average rating\n",
       "    for reviews that mentioned each item. You can tell which foods are mentioned in reviews with low scores,\n",
       "    so the restaurant can fix the recipe or remove those foods from the menu."
      ],
      "text/plain": [
       "Solution: You could group reviews by what menu items they mention, and then calculate the average rating\n",
       "    for reviews that mentioned each item. You can tell which foods are mentioned in reviews with low scores,\n",
       "    so the restaurant can fix the recipe or remove those foods from the menu."
      ]
     },
     "metadata": {},
     "output_type": "display_data"
    }
   ],
   "source": [
    "# Check your answer (Run this code cell to receive credit!)\n",
    "q_1.solution()"
   ]
  },
  {
   "cell_type": "markdown",
   "id": "aa7ecea1",
   "metadata": {
    "papermill": {
     "duration": 0.006715,
     "end_time": "2024-07-27T05:43:15.299325",
     "exception": false,
     "start_time": "2024-07-27T05:43:15.292610",
     "status": "completed"
    },
    "tags": []
   },
   "source": [
    "# Step 2: Find items in one review\n",
    "\n",
    "You'll pursue this plan of calculating average scores of the reviews mentioning each menu item.\n",
    "\n",
    "As a first step, you'll write code to extract the foods mentioned in a single review.\n",
    "\n",
    "Since menu items are multiple tokens long, you'll use `PhraseMatcher` which can match series of tokens.\n",
    "\n",
    "Fill in the `____` values below to get a list of items matching a single menu item."
   ]
  },
  {
   "cell_type": "code",
   "execution_count": 5,
   "id": "1b557cb2",
   "metadata": {
    "execution": {
     "iopub.execute_input": "2024-07-27T05:43:15.315320Z",
     "iopub.status.busy": "2024-07-27T05:43:15.314910Z",
     "iopub.status.idle": "2024-07-27T05:43:21.222299Z",
     "shell.execute_reply": "2024-07-27T05:43:21.220888Z"
    },
    "papermill": {
     "duration": 5.918526,
     "end_time": "2024-07-27T05:43:21.224881",
     "exception": false,
     "start_time": "2024-07-27T05:43:15.306355",
     "status": "completed"
    },
    "tags": []
   },
   "outputs": [
    {
     "data": {
      "application/javascript": [
       "parent.postMessage({\"jupyterEvent\": \"custom.exercise_interaction\", \"data\": {\"outcomeType\": 1, \"valueTowardsCompletion\": 0.2, \"interactionType\": 1, \"questionType\": 2, \"questionId\": \"2_SingleReviewMatch\", \"learnToolsVersion\": \"0.3.4\", \"failureMessage\": \"\", \"exceptionClass\": \"\", \"trace\": \"\"}}, \"*\")"
      ],
      "text/plain": [
       "<IPython.core.display.Javascript object>"
      ]
     },
     "metadata": {},
     "output_type": "display_data"
    },
    {
     "data": {
      "text/markdown": [
       "<span style=\"color:#33cc33\">Correct</span>"
      ],
      "text/plain": [
       "Correct"
      ]
     },
     "metadata": {},
     "output_type": "display_data"
    }
   ],
   "source": [
    "import spacy\n",
    "from spacy.matcher import PhraseMatcher\n",
    "\n",
    "index_of_review_to_test_on = 14\n",
    "text_to_test_on = data.text.iloc[index_of_review_to_test_on]\n",
    "\n",
    "# Load the SpaCy model\n",
    "nlp = spacy.blank('en')\n",
    "\n",
    "# Create the tokenized version of text_to_test_on. MUST CREATE FIRST. DL cant handle raw data !\n",
    "review_doc = nlp(text_to_test_on)\n",
    "\n",
    "# Create the PhraseMatcher object. The tokenizer is the first argument. Use attr = 'LOWER' to make consistent capitalization\n",
    "matcher = PhraseMatcher(nlp.vocab, attr='LOWER')\n",
    "\n",
    "# Create a list of tokens for each item in the menu\n",
    "menu_tokens_list = [nlp(item) for item in menu]\n",
    "\n",
    "# Add the item patterns to the matcher. \n",
    "matcher.add(\"Menu\", menu_tokens_list)\n",
    "\n",
    "# Look at https://spacy.io/api/phrasematcher#add in the docs for help with this step\n",
    "# Then uncomment the lines below \n",
    "\n",
    "\n",
    "# Find matches in the review_doc\n",
    "matches = matcher(review_doc)\n",
    "\n",
    "# Uncomment to check your work\n",
    "q_2.check()"
   ]
  },
  {
   "cell_type": "code",
   "execution_count": 6,
   "id": "3856a719",
   "metadata": {
    "execution": {
     "iopub.execute_input": "2024-07-27T05:43:21.240952Z",
     "iopub.status.busy": "2024-07-27T05:43:21.240339Z",
     "iopub.status.idle": "2024-07-27T05:43:21.245394Z",
     "shell.execute_reply": "2024-07-27T05:43:21.244105Z"
    },
    "papermill": {
     "duration": 0.015746,
     "end_time": "2024-07-27T05:43:21.247734",
     "exception": false,
     "start_time": "2024-07-27T05:43:21.231988",
     "status": "completed"
    },
    "tags": []
   },
   "outputs": [],
   "source": [
    "# Lines below will give you a hint or solution code\n",
    "#q_2.hint()\n",
    "#q_2.solution()"
   ]
  },
  {
   "cell_type": "markdown",
   "id": "b2a58b3e",
   "metadata": {
    "papermill": {
     "duration": 0.007242,
     "end_time": "2024-07-27T05:43:21.262388",
     "exception": false,
     "start_time": "2024-07-27T05:43:21.255146",
     "status": "completed"
    },
    "tags": []
   },
   "source": [
    "After implementing the above cell, uncomment the following cell to print the matches."
   ]
  },
  {
   "cell_type": "code",
   "execution_count": 7,
   "id": "b394ee13",
   "metadata": {
    "execution": {
     "iopub.execute_input": "2024-07-27T05:43:21.278995Z",
     "iopub.status.busy": "2024-07-27T05:43:21.277728Z",
     "iopub.status.idle": "2024-07-27T05:43:21.284237Z",
     "shell.execute_reply": "2024-07-27T05:43:21.283112Z"
    },
    "papermill": {
     "duration": 0.016815,
     "end_time": "2024-07-27T05:43:21.286304",
     "exception": false,
     "start_time": "2024-07-27T05:43:21.269489",
     "status": "completed"
    },
    "tags": []
   },
   "outputs": [
    {
     "name": "stdout",
     "output_type": "stream",
     "text": [
      "Token number 2: Purista\n",
      "Token number 16: prosciutto\n",
      "Token number 58: meatball\n"
     ]
    }
   ],
   "source": [
    " for match in matches:\n",
    "    print(f\"Token number {match[1]}: {review_doc[match[1]:match[2]]}\")   #to extract text"
   ]
  },
  {
   "cell_type": "markdown",
   "id": "cbb63316",
   "metadata": {
    "papermill": {
     "duration": 0.006736,
     "end_time": "2024-07-27T05:43:21.300337",
     "exception": false,
     "start_time": "2024-07-27T05:43:21.293601",
     "status": "completed"
    },
    "tags": []
   },
   "source": [
    "# Step 3: Matching on the whole dataset\n",
    "\n",
    "Now run this matcher over the whole dataset and collect ratings for each menu item. Each review has a rating, `review.stars`. For each item that appears in the review text (`review.text`), append the review's rating to a list of ratings for that item. The lists are kept in a dictionary `item_ratings`.\n",
    "\n",
    "To get the matched phrases, you can reference the `PhraseMatcher` documentation for the structure of each match object:\n",
    "\n",
    ">A list of `(match_id, start, end)` tuples, describing the matches. A match tuple describes a span `doc[start:end]`. The `match_id` is the ID of the added match pattern."
   ]
  },
  {
   "cell_type": "code",
   "execution_count": 8,
   "id": "4ffd0886",
   "metadata": {
    "execution": {
     "iopub.execute_input": "2024-07-27T05:43:21.316705Z",
     "iopub.status.busy": "2024-07-27T05:43:21.316298Z",
     "iopub.status.idle": "2024-07-27T05:43:22.357817Z",
     "shell.execute_reply": "2024-07-27T05:43:22.356757Z"
    },
    "papermill": {
     "duration": 1.052735,
     "end_time": "2024-07-27T05:43:22.360238",
     "exception": false,
     "start_time": "2024-07-27T05:43:21.307503",
     "status": "completed"
    },
    "tags": []
   },
   "outputs": [
    {
     "data": {
      "application/javascript": [
       "parent.postMessage({\"jupyterEvent\": \"custom.exercise_interaction\", \"data\": {\"outcomeType\": 1, \"valueTowardsCompletion\": 0.2, \"interactionType\": 1, \"questionType\": 2, \"questionId\": \"3_MatchAllDataset\", \"learnToolsVersion\": \"0.3.4\", \"failureMessage\": \"\", \"exceptionClass\": \"\", \"trace\": \"\"}}, \"*\")"
      ],
      "text/plain": [
       "<IPython.core.display.Javascript object>"
      ]
     },
     "metadata": {},
     "output_type": "display_data"
    },
    {
     "data": {
      "text/markdown": [
       "<span style=\"color:#33cc33\">Correct</span>"
      ],
      "text/plain": [
       "Correct"
      ]
     },
     "metadata": {},
     "output_type": "display_data"
    }
   ],
   "source": [
    "from collections import defaultdict\n",
    "\n",
    "# item_ratings is a dictionary of lists. If a key doesn't exist in item_ratings,\n",
    "# the key is added with an empty list as the value.\n",
    "item_ratings = defaultdict(list)   # Important Part !!\n",
    "\n",
    "for idx, review in data.iterrows():\n",
    "    doc = nlp(review['text'])   # using only 'text' coln!\n",
    "    # Using the matcher from the previous exercise\n",
    "    matches = matcher(doc)\n",
    "    \n",
    "    # Create a set of items found in the review text. VERY IMPORTANTT!   \n",
    "    found_items= set()\n",
    "    \n",
    "    for match_id, start, end in matches:\n",
    "        # Extract the matched span from the text document\n",
    "        matched_span = doc[start:end].text.lower()    #to extract text\n",
    "    \n",
    "        found_items.add(matched_span)\n",
    "       \n",
    "    #print(\"Found items: \",found_items)\n",
    "        \n",
    "    for item in found_items:\n",
    "        item_ratings[item].append(review.stars)\n",
    "\n",
    "q_3.check()"
   ]
  },
  {
   "cell_type": "code",
   "execution_count": 9,
   "id": "1013c85e",
   "metadata": {
    "execution": {
     "iopub.execute_input": "2024-07-27T05:43:22.376720Z",
     "iopub.status.busy": "2024-07-27T05:43:22.376308Z",
     "iopub.status.idle": "2024-07-27T05:43:22.381014Z",
     "shell.execute_reply": "2024-07-27T05:43:22.379891Z"
    },
    "papermill": {
     "duration": 0.015515,
     "end_time": "2024-07-27T05:43:22.383273",
     "exception": false,
     "start_time": "2024-07-27T05:43:22.367758",
     "status": "completed"
    },
    "tags": []
   },
   "outputs": [],
   "source": [
    "# Lines below will give you a hint or solution code\n",
    "#q_3.hint()\n",
    "#q_3.solution()"
   ]
  },
  {
   "cell_type": "markdown",
   "id": "857fc251",
   "metadata": {
    "papermill": {
     "duration": 0.007225,
     "end_time": "2024-07-27T05:43:22.398852",
     "exception": false,
     "start_time": "2024-07-27T05:43:22.391627",
     "status": "completed"
    },
    "tags": []
   },
   "source": [
    "# Step 4: What's the worst reviewed item?\n",
    "\n",
    "Using these item ratings, find the menu item with the worst average rating."
   ]
  },
  {
   "cell_type": "code",
   "execution_count": 10,
   "id": "1a84a71a",
   "metadata": {
    "execution": {
     "iopub.execute_input": "2024-07-27T05:43:22.415371Z",
     "iopub.status.busy": "2024-07-27T05:43:22.414968Z",
     "iopub.status.idle": "2024-07-27T05:43:22.427064Z",
     "shell.execute_reply": "2024-07-27T05:43:22.425870Z"
    },
    "papermill": {
     "duration": 0.023417,
     "end_time": "2024-07-27T05:43:22.429658",
     "exception": false,
     "start_time": "2024-07-27T05:43:22.406241",
     "status": "completed"
    },
    "tags": []
   },
   "outputs": [
    {
     "name": "stdout",
     "output_type": "stream",
     "text": [
      "Worst item: chicken cutlet, Worst rating: 3.40\n"
     ]
    },
    {
     "data": {
      "application/javascript": [
       "parent.postMessage({\"jupyterEvent\": \"custom.exercise_interaction\", \"data\": {\"outcomeType\": 1, \"valueTowardsCompletion\": 0.2, \"interactionType\": 1, \"questionType\": 1, \"questionId\": \"4_WorstReviewedItem\", \"learnToolsVersion\": \"0.3.4\", \"failureMessage\": \"\", \"exceptionClass\": \"\", \"trace\": \"\"}}, \"*\")"
      ],
      "text/plain": [
       "<IPython.core.display.Javascript object>"
      ]
     },
     "metadata": {},
     "output_type": "display_data"
    },
    {
     "data": {
      "text/markdown": [
       "<span style=\"color:#33cc33\">Correct</span>"
      ],
      "text/plain": [
       "Correct"
      ]
     },
     "metadata": {},
     "output_type": "display_data"
    }
   ],
   "source": [
    "#print(item_ratings)\n",
    "# Calculate the mean ratings for each menu item as a dictionary\n",
    "\n",
    "mean_ratings = {}\n",
    "#the items() method in Python is used with dictionaries to retrieve the key-value pairs stored in the dictionary. \n",
    "for item, ratings in item_ratings.items():\n",
    "    mean_ratings[item] = sum(ratings) / len(ratings) if ratings else 0\n",
    "\n",
    "\n",
    "# Find the worst item, and write it as a string in worst_item. This can be multiple lines of code if you want.\n",
    "# Initialize variables to find the worst rating\n",
    "worst_item = \"\"\n",
    "worst_rating = float('inf')  # Start with infinity\n",
    "\n",
    "# Loop through the mean ratings to find the minimum\n",
    "#the items() method in Python is used with dictionaries to retrieve the key-value pairs stored in the dictionary. \n",
    "\n",
    "for item, rating in mean_ratings.items():\n",
    "    if rating < worst_rating and rating!=0:\n",
    "        worst_rating = rating\n",
    "        worst_item = item\n",
    "\n",
    "print(f\"Worst item: {worst_item}, Worst rating: {worst_rating:.2f}\")\n",
    "\n",
    "q_4.check()"
   ]
  },
  {
   "cell_type": "code",
   "execution_count": 11,
   "id": "8579de76",
   "metadata": {
    "execution": {
     "iopub.execute_input": "2024-07-27T05:43:22.447417Z",
     "iopub.status.busy": "2024-07-27T05:43:22.446969Z",
     "iopub.status.idle": "2024-07-27T05:43:22.452219Z",
     "shell.execute_reply": "2024-07-27T05:43:22.450786Z"
    },
    "papermill": {
     "duration": 0.017094,
     "end_time": "2024-07-27T05:43:22.454622",
     "exception": false,
     "start_time": "2024-07-27T05:43:22.437528",
     "status": "completed"
    },
    "tags": []
   },
   "outputs": [],
   "source": [
    "# Lines below will give you a hint or solution code\n",
    "#q_4.hint()\n",
    "#q_4.solution()"
   ]
  },
  {
   "cell_type": "code",
   "execution_count": 12,
   "id": "5901715e",
   "metadata": {
    "execution": {
     "iopub.execute_input": "2024-07-27T05:43:22.471864Z",
     "iopub.status.busy": "2024-07-27T05:43:22.471434Z",
     "iopub.status.idle": "2024-07-27T05:43:22.477690Z",
     "shell.execute_reply": "2024-07-27T05:43:22.476388Z"
    },
    "papermill": {
     "duration": 0.017581,
     "end_time": "2024-07-27T05:43:22.479927",
     "exception": false,
     "start_time": "2024-07-27T05:43:22.462346",
     "status": "completed"
    },
    "tags": []
   },
   "outputs": [
    {
     "name": "stdout",
     "output_type": "stream",
     "text": [
      "chicken cutlet\n",
      "3.4\n"
     ]
    }
   ],
   "source": [
    "# After implementing the above cell, uncomment and run this to print \n",
    "# out the worst item, along with its average rating. \n",
    "\n",
    "print(worst_item)\n",
    "print(mean_ratings[worst_item])"
   ]
  },
  {
   "cell_type": "markdown",
   "id": "cbb261af",
   "metadata": {
    "papermill": {
     "duration": 0.007568,
     "end_time": "2024-07-27T05:43:22.495263",
     "exception": false,
     "start_time": "2024-07-27T05:43:22.487695",
     "status": "completed"
    },
    "tags": []
   },
   "source": [
    "# Step 5: Are counts important here?\n",
    "\n",
    "Similar to the mean ratings, you can calculate the number of reviews for each item."
   ]
  },
  {
   "cell_type": "code",
   "execution_count": 13,
   "id": "61c450a5",
   "metadata": {
    "execution": {
     "iopub.execute_input": "2024-07-27T05:43:22.514553Z",
     "iopub.status.busy": "2024-07-27T05:43:22.514157Z",
     "iopub.status.idle": "2024-07-27T05:43:22.521072Z",
     "shell.execute_reply": "2024-07-27T05:43:22.519692Z"
    },
    "papermill": {
     "duration": 0.019383,
     "end_time": "2024-07-27T05:43:22.524039",
     "exception": false,
     "start_time": "2024-07-27T05:43:22.504656",
     "status": "completed"
    },
    "tags": []
   },
   "outputs": [
    {
     "name": "stdout",
     "output_type": "stream",
     "text": [
      "                    pizza  265\n",
      "                    pasta  206\n",
      "                 meatball  128\n",
      "              cheesesteak   97\n",
      "             cheese steak   76\n",
      "                  cannoli   72\n",
      "                  calzone   72\n",
      "                 eggplant   69\n",
      "                  purista   63\n",
      "                  lasagna   59\n",
      "          italian sausage   53\n",
      "               prosciutto   50\n",
      "             chicken parm   50\n",
      "             garlic bread   39\n",
      "                  gnocchi   37\n",
      "                spaghetti   36\n",
      "                 calzones   35\n",
      "                   pizzas   32\n",
      "                   salami   28\n",
      "            chicken pesto   27\n",
      "             italian beef   25\n",
      "                 tiramisu   21\n",
      "            italian combo   21\n",
      "                     ziti   21\n",
      "         chicken parmesan   19\n",
      "       chicken parmigiana   17\n",
      "               portobello   14\n",
      "           mac and cheese   11\n",
      "           chicken cutlet   10\n",
      "         steak and cheese    9\n",
      "                 pastrami    9\n",
      "               roast beef    7\n",
      "       fettuccini alfredo    6\n",
      "           grilled veggie    6\n",
      "               tuna salad    5\n",
      "          turkey sandwich    5\n",
      "          artichoke salad    5\n",
      "                 macaroni    5\n",
      "            chicken salad    5\n",
      "                   reuben    4\n",
      "    chicken spinach salad    2\n",
      "              corned beef    2\n",
      "            turkey breast    1\n"
     ]
    }
   ],
   "source": [
    "counts = {item: len(ratings) for item, ratings in item_ratings.items()}\n",
    "\n",
    "item_counts = sorted(counts, key=counts.get, reverse=True)\n",
    "for item in item_counts:\n",
    "    print(f\"{item:>25}{counts[item]:>5}\")"
   ]
  },
  {
   "cell_type": "markdown",
   "id": "cf485058",
   "metadata": {
    "papermill": {
     "duration": 0.007933,
     "end_time": "2024-07-27T05:43:22.540113",
     "exception": false,
     "start_time": "2024-07-27T05:43:22.532180",
     "status": "completed"
    },
    "tags": []
   },
   "source": [
    "Here is code to print the 10 best and 10 worst rated items. Look at the results, and decide whether you think it's important to consider the number of reviews when interpreting scores of which items are best and worst."
   ]
  },
  {
   "cell_type": "code",
   "execution_count": 14,
   "id": "28b651b7",
   "metadata": {
    "execution": {
     "iopub.execute_input": "2024-07-27T05:43:22.557755Z",
     "iopub.status.busy": "2024-07-27T05:43:22.557350Z",
     "iopub.status.idle": "2024-07-27T05:43:22.564720Z",
     "shell.execute_reply": "2024-07-27T05:43:22.563516Z"
    },
    "papermill": {
     "duration": 0.018851,
     "end_time": "2024-07-27T05:43:22.567021",
     "exception": false,
     "start_time": "2024-07-27T05:43:22.548170",
     "status": "completed"
    },
    "tags": []
   },
   "outputs": [
    {
     "name": "stdout",
     "output_type": "stream",
     "text": [
      "Worst rated menu items:\n",
      "chicken cutlet       Ave rating: 3.40 \tcount: 10\n",
      "turkey sandwich      Ave rating: 3.80 \tcount: 5\n",
      "spaghetti            Ave rating: 3.89 \tcount: 36\n",
      "italian beef         Ave rating: 3.92 \tcount: 25\n",
      "tuna salad           Ave rating: 4.00 \tcount: 5\n",
      "macaroni             Ave rating: 4.00 \tcount: 5\n",
      "italian combo        Ave rating: 4.05 \tcount: 21\n",
      "garlic bread         Ave rating: 4.13 \tcount: 39\n",
      "roast beef           Ave rating: 4.14 \tcount: 7\n",
      "eggplant             Ave rating: 4.16 \tcount: 69\n",
      "\n",
      "\n",
      "Best rated menu items:\n",
      "chicken pesto        Ave rating: 4.56 \tcount: 27\n",
      "chicken salad        Ave rating: 4.60 \tcount: 5\n",
      "purista              Ave rating: 4.67 \tcount: 63\n",
      "prosciutto           Ave rating: 4.68 \tcount: 50\n",
      "reuben               Ave rating: 4.75 \tcount: 4\n",
      "steak and cheese     Ave rating: 4.89 \tcount: 9\n",
      "artichoke salad      Ave rating: 5.00 \tcount: 5\n",
      "fettuccini alfredo   Ave rating: 5.00 \tcount: 6\n",
      "turkey breast        Ave rating: 5.00 \tcount: 1\n",
      "corned beef          Ave rating: 5.00 \tcount: 2\n"
     ]
    }
   ],
   "source": [
    "sorted_ratings = sorted(mean_ratings, key=mean_ratings.get)\n",
    "\n",
    "print(\"Worst rated menu items:\")\n",
    "for item in sorted_ratings[:10]:\n",
    "    print(f\"{item:20} Ave rating: {mean_ratings[item]:.2f} \\tcount: {counts[item]}\")\n",
    "    \n",
    "print(\"\\n\\nBest rated menu items:\")\n",
    "for item in sorted_ratings[-10:]:\n",
    "    print(f\"{item:20} Ave rating: {mean_ratings[item]:.2f} \\tcount: {counts[item]}\")"
   ]
  },
  {
   "cell_type": "markdown",
   "id": "3e7c23ce",
   "metadata": {
    "papermill": {
     "duration": 0.007823,
     "end_time": "2024-07-27T05:43:22.583539",
     "exception": false,
     "start_time": "2024-07-27T05:43:22.575716",
     "status": "completed"
    },
    "tags": []
   },
   "source": [
    "Run the following line after you've decided your answer."
   ]
  },
  {
   "cell_type": "code",
   "execution_count": 15,
   "id": "131f183d",
   "metadata": {
    "execution": {
     "iopub.execute_input": "2024-07-27T05:43:22.601494Z",
     "iopub.status.busy": "2024-07-27T05:43:22.601120Z",
     "iopub.status.idle": "2024-07-27T05:43:22.610213Z",
     "shell.execute_reply": "2024-07-27T05:43:22.609080Z"
    },
    "papermill": {
     "duration": 0.020948,
     "end_time": "2024-07-27T05:43:22.612616",
     "exception": false,
     "start_time": "2024-07-27T05:43:22.591668",
     "status": "completed"
    },
    "tags": []
   },
   "outputs": [
    {
     "data": {
      "application/javascript": [
       "parent.postMessage({\"jupyterEvent\": \"custom.exercise_interaction\", \"data\": {\"interactionType\": 3, \"questionType\": 4, \"questionId\": \"5_CountImportanceQuestion\", \"learnToolsVersion\": \"0.3.4\", \"valueTowardsCompletion\": 0.0, \"failureMessage\": \"\", \"exceptionClass\": \"\", \"trace\": \"\", \"outcomeType\": 4}}, \"*\")"
      ],
      "text/plain": [
       "<IPython.core.display.Javascript object>"
      ]
     },
     "metadata": {},
     "output_type": "display_data"
    },
    {
     "data": {
      "text/markdown": [
       "<span style=\"color:#33cc99\">Solution:</span> \n",
       "    The less data you have for any specific item, the less you can trust that the average rating is the \"real\" sentiment of the customers. This is fairly common sense. If more people tell you the same thing, you're more likely to believe it. It's also mathematically sound. As the number of data points increases, the error on the mean decreases as 1 / sqrt(n).\n",
       "    "
      ],
      "text/plain": [
       "Solution: \n",
       "    The less data you have for any specific item, the less you can trust that the average rating is the \"real\" sentiment of the customers. This is fairly common sense. If more people tell you the same thing, you're more likely to believe it. It's also mathematically sound. As the number of data points increases, the error on the mean decreases as 1 / sqrt(n).\n",
       "    "
      ]
     },
     "metadata": {},
     "output_type": "display_data"
    }
   ],
   "source": [
    "# Check your answer (Run this code cell to receive credit!)\n",
    "q_5.solution()"
   ]
  },
  {
   "cell_type": "markdown",
   "id": "3c5876d6",
   "metadata": {
    "papermill": {
     "duration": 0.008666,
     "end_time": "2024-07-27T05:43:22.629624",
     "exception": false,
     "start_time": "2024-07-27T05:43:22.620958",
     "status": "completed"
    },
    "tags": []
   },
   "source": [
    "# Keep Going\n",
    "\n",
    "Now that you are ready to combine your NLP skills with your ML skills, **[see how it's done](https://www.kaggle.com/matleonard/text-classification)**."
   ]
  },
  {
   "cell_type": "markdown",
   "id": "bb0a5827",
   "metadata": {
    "papermill": {
     "duration": 0.007758,
     "end_time": "2024-07-27T05:43:22.646687",
     "exception": false,
     "start_time": "2024-07-27T05:43:22.638929",
     "status": "completed"
    },
    "tags": []
   },
   "source": [
    "---\n",
    "\n",
    "\n",
    "\n",
    "\n",
    "*Have questions or comments? Visit the [course discussion forum](https://www.kaggle.com/learn/natural-language-processing/discussion) to chat with other learners.*"
   ]
  }
 ],
 "metadata": {
  "kaggle": {
   "accelerator": "none",
   "dataSources": [
    {
     "datasetId": 348259,
     "sourceId": 695175,
     "sourceType": "datasetVersion"
    },
    {
     "datasetId": 362178,
     "sourceId": 763778,
     "sourceType": "datasetVersion"
    }
   ],
   "isGpuEnabled": false,
   "isInternetEnabled": false,
   "language": "python",
   "sourceType": "notebook"
  },
  "kernelspec": {
   "display_name": "Python 3",
   "language": "python",
   "name": "python3"
  },
  "language_info": {
   "codemirror_mode": {
    "name": "ipython",
    "version": 3
   },
   "file_extension": ".py",
   "mimetype": "text/x-python",
   "name": "python",
   "nbconvert_exporter": "python",
   "pygments_lexer": "ipython3",
   "version": "3.10.13"
  },
  "papermill": {
   "default_parameters": {},
   "duration": 13.123276,
   "end_time": "2024-07-27T05:43:23.878279",
   "environment_variables": {},
   "exception": null,
   "input_path": "__notebook__.ipynb",
   "output_path": "__notebook__.ipynb",
   "parameters": {},
   "start_time": "2024-07-27T05:43:10.755003",
   "version": "2.5.0"
  }
 },
 "nbformat": 4,
 "nbformat_minor": 5
}
