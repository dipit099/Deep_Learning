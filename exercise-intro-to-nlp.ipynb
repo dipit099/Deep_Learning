{
 "cells": [
  {
   "cell_type": "markdown",
   "id": "79f4bed9",
   "metadata": {
    "papermill": {
     "duration": 0.007315,
     "end_time": "2024-07-26T19:29:25.183589",
     "exception": false,
     "start_time": "2024-07-26T19:29:25.176274",
     "status": "completed"
    },
    "tags": []
   },
   "source": [
    "**This notebook is an exercise in the [Natural Language Processing](https://www.kaggle.com/learn/natural-language-processing) course.  You can reference the tutorial at [this link](https://www.kaggle.com/matleonard/intro-to-nlp).**\n",
    "\n",
    "---\n"
   ]
  },
  {
   "cell_type": "markdown",
   "id": "210629c1",
   "metadata": {
    "papermill": {
     "duration": 0.006149,
     "end_time": "2024-07-26T19:29:25.196524",
     "exception": false,
     "start_time": "2024-07-26T19:29:25.190375",
     "status": "completed"
    },
    "tags": []
   },
   "source": [
    "# Basic Text Processing with Spacy\n",
    "    \n",
    "You're a consultant for [DelFalco's Italian Restaurant](https://defalcosdeli.com/index.html).\n",
    "The owner asked you to identify whether there are any foods on their menu that diners find disappointing. \n",
    "\n",
    "<img src=\"https://i.imgur.com/8DZunAQ.jpg\" alt=\"Meatball Sub\" width=\"250\"/>\n",
    "\n",
    "Before getting started, run the following cell to set up code checking."
   ]
  },
  {
   "cell_type": "code",
   "execution_count": 1,
   "id": "faf75b70",
   "metadata": {
    "execution": {
     "iopub.execute_input": "2024-07-26T19:29:25.211637Z",
     "iopub.status.busy": "2024-07-26T19:29:25.210687Z",
     "iopub.status.idle": "2024-07-26T19:29:26.245105Z",
     "shell.execute_reply": "2024-07-26T19:29:26.243711Z"
    },
    "papermill": {
     "duration": 1.045287,
     "end_time": "2024-07-26T19:29:26.248160",
     "exception": false,
     "start_time": "2024-07-26T19:29:25.202873",
     "status": "completed"
    },
    "tags": []
   },
   "outputs": [
    {
     "name": "stdout",
     "output_type": "stream",
     "text": [
      "Setup Complete\n"
     ]
    }
   ],
   "source": [
    "import pandas as pd\n",
    "\n",
    "# Set up code checking\n",
    "from learntools.core import binder\n",
    "binder.bind(globals())\n",
    "from learntools.nlp.ex1 import *\n",
    "print('Setup Complete')"
   ]
  },
  {
   "cell_type": "markdown",
   "id": "bf0eb880",
   "metadata": {
    "papermill": {
     "duration": 0.009797,
     "end_time": "2024-07-26T19:29:26.268274",
     "exception": false,
     "start_time": "2024-07-26T19:29:26.258477",
     "status": "completed"
    },
    "tags": []
   },
   "source": [
    "The business owner suggested you use diner reviews from the Yelp website to determine which dishes people liked and disliked. You pulled the data from Yelp. Before you get to analysis, run the code cell below for a quick look at the data you have to work with."
   ]
  },
  {
   "cell_type": "code",
   "execution_count": 2,
   "id": "79fef898",
   "metadata": {
    "execution": {
     "iopub.execute_input": "2024-07-26T19:29:26.283733Z",
     "iopub.status.busy": "2024-07-26T19:29:26.283102Z",
     "iopub.status.idle": "2024-07-26T19:29:26.343626Z",
     "shell.execute_reply": "2024-07-26T19:29:26.342485Z"
    },
    "papermill": {
     "duration": 0.070965,
     "end_time": "2024-07-26T19:29:26.346100",
     "exception": false,
     "start_time": "2024-07-26T19:29:26.275135",
     "status": "completed"
    },
    "tags": []
   },
   "outputs": [
    {
     "name": "stdout",
     "output_type": "stream",
     "text": [
      "Index(['review_id', 'user_id', 'business_id', 'stars', 'useful', 'funny',\n",
      "       'cool', 'text', 'date'],\n",
      "      dtype='object')\n"
     ]
    }
   ],
   "source": [
    "# Load in the data from JSON file\n",
    "data = pd.read_json('../input/nlp-course/restaurant.json')\n",
    "print(data.columns)\n",
    "data.head()\n",
    "\n",
    "# Set pandas display options to show full content\n",
    "pd.set_option('display.max_colwidth', None)  # Set to None to avoid truncation\n",
    "\n",
    "# # Display the \"text\" column fully\n",
    "# print(data['text'])"
   ]
  },
  {
   "cell_type": "markdown",
   "id": "17c3d17c",
   "metadata": {
    "papermill": {
     "duration": 0.006313,
     "end_time": "2024-07-26T19:29:26.359231",
     "exception": false,
     "start_time": "2024-07-26T19:29:26.352918",
     "status": "completed"
    },
    "tags": []
   },
   "source": [
    "The owner also gave you this list of menu items and common alternate spellings."
   ]
  },
  {
   "cell_type": "code",
   "execution_count": 3,
   "id": "b27b7817",
   "metadata": {
    "execution": {
     "iopub.execute_input": "2024-07-26T19:29:26.374409Z",
     "iopub.status.busy": "2024-07-26T19:29:26.374021Z",
     "iopub.status.idle": "2024-07-26T19:29:26.380480Z",
     "shell.execute_reply": "2024-07-26T19:29:26.379352Z"
    },
    "papermill": {
     "duration": 0.016984,
     "end_time": "2024-07-26T19:29:26.382999",
     "exception": false,
     "start_time": "2024-07-26T19:29:26.366015",
     "status": "completed"
    },
    "tags": []
   },
   "outputs": [],
   "source": [
    "menu = [\"Cheese Steak\", \"Cheesesteak\", \"Steak and Cheese\", \"Italian Combo\", \"Tiramisu\", \"Cannoli\",\n",
    "        \"Chicken Salad\", \"Chicken Spinach Salad\", \"Meatball\", \"Pizza\", \"Pizzas\", \"Spaghetti\",\n",
    "        \"Bruchetta\", \"Eggplant\", \"Italian Beef\", \"Purista\", \"Pasta\", \"Calzones\",  \"Calzone\",\n",
    "        \"Italian Sausage\", \"Chicken Cutlet\", \"Chicken Parm\", \"Chicken Parmesan\", \"Gnocchi\",\n",
    "        \"Chicken Pesto\", \"Turkey Sandwich\", \"Turkey Breast\", \"Ziti\", \"Portobello\", \"Reuben\",\n",
    "        \"Mozzarella Caprese\",  \"Corned Beef\", \"Garlic Bread\", \"Pastrami\", \"Roast Beef\",\n",
    "        \"Tuna Salad\", \"Lasagna\", \"Artichoke Salad\", \"Fettuccini Alfredo\", \"Chicken Parmigiana\",\n",
    "        \"Grilled Veggie\", \"Grilled Veggies\", \"Grilled Vegetable\", \"Mac and Cheese\", \"Macaroni\",  \n",
    "         \"Prosciutto\", \"Salami\"]"
   ]
  },
  {
   "cell_type": "markdown",
   "id": "8e8aaadf",
   "metadata": {
    "papermill": {
     "duration": 0.006357,
     "end_time": "2024-07-26T19:29:26.396864",
     "exception": false,
     "start_time": "2024-07-26T19:29:26.390507",
     "status": "completed"
    },
    "tags": []
   },
   "source": [
    "# Step 1: Plan Your Analysis"
   ]
  },
  {
   "cell_type": "markdown",
   "id": "14067c9c",
   "metadata": {
    "papermill": {
     "duration": 0.006496,
     "end_time": "2024-07-26T19:29:26.410076",
     "exception": false,
     "start_time": "2024-07-26T19:29:26.403580",
     "status": "completed"
    },
    "tags": []
   },
   "source": [
    "Given the data from Yelp and the list of menu items, do you have any ideas for how you could find which menu items have disappointed diners?\n",
    "\n",
    "Think about your answer. Then run the cell below to see one approach."
   ]
  },
  {
   "cell_type": "code",
   "execution_count": 4,
   "id": "90c97bec",
   "metadata": {
    "execution": {
     "iopub.execute_input": "2024-07-26T19:29:26.425987Z",
     "iopub.status.busy": "2024-07-26T19:29:26.425571Z",
     "iopub.status.idle": "2024-07-26T19:29:26.435557Z",
     "shell.execute_reply": "2024-07-26T19:29:26.434516Z"
    },
    "papermill": {
     "duration": 0.02108,
     "end_time": "2024-07-26T19:29:26.438000",
     "exception": false,
     "start_time": "2024-07-26T19:29:26.416920",
     "status": "completed"
    },
    "tags": []
   },
   "outputs": [
    {
     "data": {
      "application/javascript": [
       "parent.postMessage({\"jupyterEvent\": \"custom.exercise_interaction\", \"data\": {\"interactionType\": 3, \"questionType\": 4, \"questionId\": \"1_MenuAnalysisPlan\", \"learnToolsVersion\": \"0.3.4\", \"valueTowardsCompletion\": 0.0, \"failureMessage\": \"\", \"exceptionClass\": \"\", \"trace\": \"\", \"outcomeType\": 4}}, \"*\")"
      ],
      "text/plain": [
       "<IPython.core.display.Javascript object>"
      ]
     },
     "metadata": {},
     "output_type": "display_data"
    },
    {
     "data": {
      "text/markdown": [
       "<span style=\"color:#33cc99\">Solution:</span> You could group reviews by what menu items they mention, and then calculate the average rating\n",
       "    for reviews that mentioned each item. You can tell which foods are mentioned in reviews with low scores,\n",
       "    so the restaurant can fix the recipe or remove those foods from the menu."
      ],
      "text/plain": [
       "Solution: You could group reviews by what menu items they mention, and then calculate the average rating\n",
       "    for reviews that mentioned each item. You can tell which foods are mentioned in reviews with low scores,\n",
       "    so the restaurant can fix the recipe or remove those foods from the menu."
      ]
     },
     "metadata": {},
     "output_type": "display_data"
    }
   ],
   "source": [
    "# Check your answer (Run this code cell to receive credit!)\n",
    "q_1.solution()"
   ]
  },
  {
   "cell_type": "markdown",
   "id": "40d7891b",
   "metadata": {
    "papermill": {
     "duration": 0.006511,
     "end_time": "2024-07-26T19:29:26.451518",
     "exception": false,
     "start_time": "2024-07-26T19:29:26.445007",
     "status": "completed"
    },
    "tags": []
   },
   "source": [
    "# Step 2: Find items in one review\n",
    "\n",
    "You'll pursue this plan of calculating average scores of the reviews mentioning each menu item.\n",
    "\n",
    "As a first step, you'll write code to extract the foods mentioned in a single review.\n",
    "\n",
    "Since menu items are multiple tokens long, you'll use `PhraseMatcher` which can match series of tokens.\n",
    "\n",
    "Fill in the `____` values below to get a list of items matching a single menu item."
   ]
  },
  {
   "cell_type": "code",
   "execution_count": 5,
   "id": "dcedbc72",
   "metadata": {
    "execution": {
     "iopub.execute_input": "2024-07-26T19:29:26.466828Z",
     "iopub.status.busy": "2024-07-26T19:29:26.466409Z",
     "iopub.status.idle": "2024-07-26T19:29:32.139328Z",
     "shell.execute_reply": "2024-07-26T19:29:32.138287Z"
    },
    "papermill": {
     "duration": 5.683358,
     "end_time": "2024-07-26T19:29:32.141617",
     "exception": false,
     "start_time": "2024-07-26T19:29:26.458259",
     "status": "completed"
    },
    "tags": []
   },
   "outputs": [
    {
     "data": {
      "application/javascript": [
       "parent.postMessage({\"jupyterEvent\": \"custom.exercise_interaction\", \"data\": {\"outcomeType\": 1, \"valueTowardsCompletion\": 0.2, \"interactionType\": 1, \"questionType\": 2, \"questionId\": \"2_SingleReviewMatch\", \"learnToolsVersion\": \"0.3.4\", \"failureMessage\": \"\", \"exceptionClass\": \"\", \"trace\": \"\"}}, \"*\")"
      ],
      "text/plain": [
       "<IPython.core.display.Javascript object>"
      ]
     },
     "metadata": {},
     "output_type": "display_data"
    },
    {
     "data": {
      "text/markdown": [
       "<span style=\"color:#33cc33\">Correct</span>"
      ],
      "text/plain": [
       "Correct"
      ]
     },
     "metadata": {},
     "output_type": "display_data"
    }
   ],
   "source": [
    "import spacy\n",
    "from spacy.matcher import PhraseMatcher\n",
    "\n",
    "index_of_review_to_test_on = 14\n",
    "text_to_test_on = data.text.iloc[index_of_review_to_test_on]\n",
    "\n",
    "# Load the SpaCy model\n",
    "nlp = spacy.blank('en')\n",
    "\n",
    "# Create the tokenized version of text_to_test_on\n",
    "review_doc = nlp(text_to_test_on)\n",
    "\n",
    "# Create the PhraseMatcher object. The tokenizer is the first argument. Use attr = 'LOWER' to make consistent capitalization\n",
    "matcher = PhraseMatcher(nlp.vocab, attr='LOWER')\n",
    "\n",
    "# Create a list of tokens for each item in the menu\n",
    "menu_tokens_list = [nlp(item) for item in menu]\n",
    "\n",
    "# Add the item patterns to the matcher. \n",
    "matcher.add(\"Menu\", menu_tokens_list)\n",
    "\n",
    "# Look at https://spacy.io/api/phrasematcher#add in the docs for help with this step\n",
    "# Then uncomment the lines below \n",
    "\n",
    "\n",
    "# Find matches in the review_doc\n",
    "matches = matcher(review_doc)\n",
    "\n",
    "# Uncomment to check your work\n",
    "q_2.check()"
   ]
  },
  {
   "cell_type": "code",
   "execution_count": 6,
   "id": "cb26380d",
   "metadata": {
    "execution": {
     "iopub.execute_input": "2024-07-26T19:29:32.157989Z",
     "iopub.status.busy": "2024-07-26T19:29:32.156955Z",
     "iopub.status.idle": "2024-07-26T19:29:32.161770Z",
     "shell.execute_reply": "2024-07-26T19:29:32.160679Z"
    },
    "papermill": {
     "duration": 0.015439,
     "end_time": "2024-07-26T19:29:32.164069",
     "exception": false,
     "start_time": "2024-07-26T19:29:32.148630",
     "status": "completed"
    },
    "tags": []
   },
   "outputs": [],
   "source": [
    "# Lines below will give you a hint or solution code\n",
    "#q_2.hint()\n",
    "#q_2.solution()"
   ]
  },
  {
   "cell_type": "markdown",
   "id": "823e1357",
   "metadata": {
    "papermill": {
     "duration": 0.006699,
     "end_time": "2024-07-26T19:29:32.177956",
     "exception": false,
     "start_time": "2024-07-26T19:29:32.171257",
     "status": "completed"
    },
    "tags": []
   },
   "source": [
    "After implementing the above cell, uncomment the following cell to print the matches."
   ]
  },
  {
   "cell_type": "code",
   "execution_count": 7,
   "id": "9486e386",
   "metadata": {
    "execution": {
     "iopub.execute_input": "2024-07-26T19:29:32.193475Z",
     "iopub.status.busy": "2024-07-26T19:29:32.193098Z",
     "iopub.status.idle": "2024-07-26T19:29:32.198584Z",
     "shell.execute_reply": "2024-07-26T19:29:32.197577Z"
    },
    "papermill": {
     "duration": 0.015984,
     "end_time": "2024-07-26T19:29:32.200806",
     "exception": false,
     "start_time": "2024-07-26T19:29:32.184822",
     "status": "completed"
    },
    "tags": []
   },
   "outputs": [
    {
     "name": "stdout",
     "output_type": "stream",
     "text": [
      "Token number 2: Purista\n",
      "Token number 16: prosciutto\n",
      "Token number 58: meatball\n"
     ]
    }
   ],
   "source": [
    " for match in matches:\n",
    "    print(f\"Token number {match[1]}: {review_doc[match[1]:match[2]]}\")"
   ]
  },
  {
   "cell_type": "markdown",
   "id": "4ba0c5cd",
   "metadata": {
    "papermill": {
     "duration": 0.006806,
     "end_time": "2024-07-26T19:29:32.214923",
     "exception": false,
     "start_time": "2024-07-26T19:29:32.208117",
     "status": "completed"
    },
    "tags": []
   },
   "source": [
    "# Step 3: Matching on the whole dataset\n",
    "\n",
    "Now run this matcher over the whole dataset and collect ratings for each menu item. Each review has a rating, `review.stars`. For each item that appears in the review text (`review.text`), append the review's rating to a list of ratings for that item. The lists are kept in a dictionary `item_ratings`.\n",
    "\n",
    "To get the matched phrases, you can reference the `PhraseMatcher` documentation for the structure of each match object:\n",
    "\n",
    ">A list of `(match_id, start, end)` tuples, describing the matches. A match tuple describes a span `doc[start:end]`. The `match_id` is the ID of the added match pattern."
   ]
  },
  {
   "cell_type": "code",
   "execution_count": 8,
   "id": "fa8f50ef",
   "metadata": {
    "execution": {
     "iopub.execute_input": "2024-07-26T19:29:32.231660Z",
     "iopub.status.busy": "2024-07-26T19:29:32.231260Z",
     "iopub.status.idle": "2024-07-26T19:29:33.297756Z",
     "shell.execute_reply": "2024-07-26T19:29:33.296561Z"
    },
    "papermill": {
     "duration": 1.077418,
     "end_time": "2024-07-26T19:29:33.300021",
     "exception": false,
     "start_time": "2024-07-26T19:29:32.222603",
     "status": "completed"
    },
    "tags": []
   },
   "outputs": [
    {
     "data": {
      "application/javascript": [
       "parent.postMessage({\"jupyterEvent\": \"custom.exercise_interaction\", \"data\": {\"outcomeType\": 1, \"valueTowardsCompletion\": 0.2, \"interactionType\": 1, \"questionType\": 2, \"questionId\": \"3_MatchAllDataset\", \"learnToolsVersion\": \"0.3.4\", \"failureMessage\": \"\", \"exceptionClass\": \"\", \"trace\": \"\"}}, \"*\")"
      ],
      "text/plain": [
       "<IPython.core.display.Javascript object>"
      ]
     },
     "metadata": {},
     "output_type": "display_data"
    },
    {
     "data": {
      "text/markdown": [
       "<span style=\"color:#33cc33\">Correct</span>"
      ],
      "text/plain": [
       "Correct"
      ]
     },
     "metadata": {},
     "output_type": "display_data"
    }
   ],
   "source": [
    "from collections import defaultdict\n",
    "\n",
    "# item_ratings is a dictionary of lists. If a key doesn't exist in item_ratings,\n",
    "# the key is added with an empty list as the value.\n",
    "item_ratings = defaultdict(list)\n",
    "\n",
    "for idx, review in data.iterrows():\n",
    "    doc = nlp(review['text'])\n",
    "    # Using the matcher from the previous exercise\n",
    "    matches = matcher(doc)\n",
    "    \n",
    "    # Create a set of items found in the review text.   \n",
    "    found_items= set()\n",
    "    for match_id, start, end in matches:\n",
    "        # Extract the matched span from the text document\n",
    "        matched_span = doc[start:end].text.lower()\n",
    "        # Extract text and convert to lowercase        \n",
    "        # Add matched_span to the set\n",
    "        found_items.add(matched_span)\n",
    "       \n",
    "    #print(\"Found items: \",found_items)\n",
    "        \n",
    "    for item in found_items:\n",
    "        item_ratings[item].append(review.stars)\n",
    "\n",
    "q_3.check()"
   ]
  },
  {
   "cell_type": "code",
   "execution_count": 9,
   "id": "e4ed0769",
   "metadata": {
    "execution": {
     "iopub.execute_input": "2024-07-26T19:29:33.316674Z",
     "iopub.status.busy": "2024-07-26T19:29:33.316284Z",
     "iopub.status.idle": "2024-07-26T19:29:33.320791Z",
     "shell.execute_reply": "2024-07-26T19:29:33.319744Z"
    },
    "papermill": {
     "duration": 0.015393,
     "end_time": "2024-07-26T19:29:33.322839",
     "exception": false,
     "start_time": "2024-07-26T19:29:33.307446",
     "status": "completed"
    },
    "tags": []
   },
   "outputs": [],
   "source": [
    "# Lines below will give you a hint or solution code\n",
    "#q_3.hint()\n",
    "#q_3.solution()"
   ]
  },
  {
   "cell_type": "markdown",
   "id": "bae74a5c",
   "metadata": {
    "papermill": {
     "duration": 0.006981,
     "end_time": "2024-07-26T19:29:33.337107",
     "exception": false,
     "start_time": "2024-07-26T19:29:33.330126",
     "status": "completed"
    },
    "tags": []
   },
   "source": [
    "# Step 4: What's the worst reviewed item?\n",
    "\n",
    "Using these item ratings, find the menu item with the worst average rating."
   ]
  },
  {
   "cell_type": "code",
   "execution_count": 10,
   "id": "8b7fc582",
   "metadata": {
    "execution": {
     "iopub.execute_input": "2024-07-26T19:29:33.353315Z",
     "iopub.status.busy": "2024-07-26T19:29:33.352885Z",
     "iopub.status.idle": "2024-07-26T19:29:33.622000Z",
     "shell.execute_reply": "2024-07-26T19:29:33.620437Z"
    },
    "papermill": {
     "duration": 0.279869,
     "end_time": "2024-07-26T19:29:33.624194",
     "exception": true,
     "start_time": "2024-07-26T19:29:33.344325",
     "status": "failed"
    },
    "tags": []
   },
   "outputs": [
    {
     "ename": "NameError",
     "evalue": "name 'worst_item' is not defined",
     "output_type": "error",
     "traceback": [
      "\u001b[0;31m---------------------------------------------------------------------------\u001b[0m",
      "\u001b[0;31mNameError\u001b[0m                                 Traceback (most recent call last)",
      "Cell \u001b[0;32mIn[10], line 15\u001b[0m\n\u001b[1;32m      7\u001b[0m     mean_ratings[item] \u001b[38;5;241m=\u001b[39m \u001b[38;5;28msum\u001b[39m(ratings) \u001b[38;5;241m/\u001b[39m \u001b[38;5;28mlen\u001b[39m(ratings) \u001b[38;5;28;01mif\u001b[39;00m ratings \u001b[38;5;28;01melse\u001b[39;00m \u001b[38;5;241m0\u001b[39m\n\u001b[1;32m     10\u001b[0m \u001b[38;5;66;03m# for item, mean_rating in mean_ratings.items():\u001b[39;00m\n\u001b[1;32m     11\u001b[0m \u001b[38;5;66;03m#     print(f\"Item: {item}, Mean Rating: {mean_rating:.2f}\")\u001b[39;00m\n\u001b[1;32m     12\u001b[0m \n\u001b[1;32m     13\u001b[0m \u001b[38;5;66;03m# Find the worst item, and write it as a string in worst_item. This can be multiple lines of code if you want.\u001b[39;00m\n\u001b[1;32m     14\u001b[0m \u001b[38;5;66;03m# Initialize variables to find the worst rating\u001b[39;00m\n\u001b[0;32m---> 15\u001b[0m \u001b[43mworst_item\u001b[49m \n\u001b[1;32m     16\u001b[0m worst_rating \u001b[38;5;241m=\u001b[39m \u001b[38;5;28mfloat\u001b[39m(\u001b[38;5;124m'\u001b[39m\u001b[38;5;124minf\u001b[39m\u001b[38;5;124m'\u001b[39m)  \u001b[38;5;66;03m# Start with infinity\u001b[39;00m\n\u001b[1;32m     18\u001b[0m \u001b[38;5;66;03m# Loop through the mean ratings to find the minimum\u001b[39;00m\n\u001b[1;32m     19\u001b[0m \u001b[38;5;66;03m#the items() method in Python is used with dictionaries to retrieve the key-value pairs stored in the dictionary. \u001b[39;00m\n",
      "\u001b[0;31mNameError\u001b[0m: name 'worst_item' is not defined"
     ]
    }
   ],
   "source": [
    "#print(item_ratings)\n",
    "# Calculate the mean ratings for each menu item as a dictionary\n",
    "\n",
    "mean_ratings = {}\n",
    "#the items() method in Python is used with dictionaries to retrieve the key-value pairs stored in the dictionary. \n",
    "for item, ratings in item_ratings.items():\n",
    "    mean_ratings[item] = sum(ratings) / len(ratings) if ratings else 0\n",
    "\n",
    "\n",
    "# for item, mean_rating in mean_ratings.items():\n",
    "#     print(f\"Item: {item}, Mean Rating: {mean_rating:.2f}\")\n",
    "\n",
    "# Find the worst item, and write it as a string in worst_item. This can be multiple lines of code if you want.\n",
    "# Initialize variables to find the worst rating\n",
    "worst_item \n",
    "worst_rating = float('inf')  # Start with infinity\n",
    "\n",
    "# Loop through the mean ratings to find the minimum\n",
    "#the items() method in Python is used with dictionaries to retrieve the key-value pairs stored in the dictionary. \n",
    "for item, rating in mean_ratings.items():\n",
    "    if rating < worst_rating and rating!=0:\n",
    "        worst_rating = rating\n",
    "        worst_item = item\n",
    "\n",
    "print(f\"Worst item: {worst_item}, Worst rating: {worst_rating:.2f}\")\n",
    "\n",
    "q_4.check()"
   ]
  },
  {
   "cell_type": "code",
   "execution_count": null,
   "id": "f69d06fc",
   "metadata": {
    "execution": {
     "iopub.execute_input": "2024-07-26T19:27:12.697330Z",
     "iopub.status.busy": "2024-07-26T19:27:12.696900Z",
     "iopub.status.idle": "2024-07-26T19:27:12.707177Z",
     "shell.execute_reply": "2024-07-26T19:27:12.705991Z",
     "shell.execute_reply.started": "2024-07-26T19:27:12.697292Z"
    },
    "papermill": {
     "duration": null,
     "end_time": null,
     "exception": null,
     "start_time": null,
     "status": "pending"
    },
    "tags": []
   },
   "outputs": [],
   "source": [
    "# Lines below will give you a hint or solution code\n",
    "#q_4.hint()\n",
    "#q_4.solution()"
   ]
  },
  {
   "cell_type": "code",
   "execution_count": null,
   "id": "f5685fa8",
   "metadata": {
    "execution": {
     "iopub.execute_input": "2024-07-26T19:27:12.710171Z",
     "iopub.status.busy": "2024-07-26T19:27:12.708623Z",
     "iopub.status.idle": "2024-07-26T19:27:12.721018Z",
     "shell.execute_reply": "2024-07-26T19:27:12.719658Z",
     "shell.execute_reply.started": "2024-07-26T19:27:12.710134Z"
    },
    "papermill": {
     "duration": null,
     "end_time": null,
     "exception": null,
     "start_time": null,
     "status": "pending"
    },
    "tags": []
   },
   "outputs": [],
   "source": [
    "# After implementing the above cell, uncomment and run this to print \n",
    "# out the worst item, along with its average rating. \n",
    "\n",
    "print(worst_item)\n",
    "print(mean_ratings[worst_item])"
   ]
  },
  {
   "cell_type": "markdown",
   "id": "ca76a130",
   "metadata": {
    "papermill": {
     "duration": null,
     "end_time": null,
     "exception": null,
     "start_time": null,
     "status": "pending"
    },
    "tags": []
   },
   "source": [
    "# Step 5: Are counts important here?\n",
    "\n",
    "Similar to the mean ratings, you can calculate the number of reviews for each item."
   ]
  },
  {
   "cell_type": "code",
   "execution_count": null,
   "id": "d277abe0",
   "metadata": {
    "execution": {
     "iopub.execute_input": "2024-07-26T19:27:12.722841Z",
     "iopub.status.busy": "2024-07-26T19:27:12.722495Z",
     "iopub.status.idle": "2024-07-26T19:27:12.735539Z",
     "shell.execute_reply": "2024-07-26T19:27:12.734280Z",
     "shell.execute_reply.started": "2024-07-26T19:27:12.722811Z"
    },
    "papermill": {
     "duration": null,
     "end_time": null,
     "exception": null,
     "start_time": null,
     "status": "pending"
    },
    "tags": []
   },
   "outputs": [],
   "source": [
    "counts = {item: len(ratings) for item, ratings in item_ratings.items()}\n",
    "\n",
    "item_counts = sorted(counts, key=counts.get, reverse=True)\n",
    "for item in item_counts:\n",
    "    print(f\"{item:>25}{counts[item]:>5}\")"
   ]
  },
  {
   "cell_type": "markdown",
   "id": "7f97449c",
   "metadata": {
    "papermill": {
     "duration": null,
     "end_time": null,
     "exception": null,
     "start_time": null,
     "status": "pending"
    },
    "tags": []
   },
   "source": [
    "Here is code to print the 10 best and 10 worst rated items. Look at the results, and decide whether you think it's important to consider the number of reviews when interpreting scores of which items are best and worst."
   ]
  },
  {
   "cell_type": "code",
   "execution_count": null,
   "id": "fc478216",
   "metadata": {
    "execution": {
     "iopub.execute_input": "2024-07-26T19:27:12.738154Z",
     "iopub.status.busy": "2024-07-26T19:27:12.737039Z",
     "iopub.status.idle": "2024-07-26T19:27:12.750034Z",
     "shell.execute_reply": "2024-07-26T19:27:12.748667Z",
     "shell.execute_reply.started": "2024-07-26T19:27:12.738114Z"
    },
    "papermill": {
     "duration": null,
     "end_time": null,
     "exception": null,
     "start_time": null,
     "status": "pending"
    },
    "tags": []
   },
   "outputs": [],
   "source": [
    "sorted_ratings = sorted(mean_ratings, key=mean_ratings.get)\n",
    "\n",
    "print(\"Worst rated menu items:\")\n",
    "for item in sorted_ratings[:10]:\n",
    "    print(f\"{item:20} Ave rating: {mean_ratings[item]:.2f} \\tcount: {counts[item]}\")\n",
    "    \n",
    "print(\"\\n\\nBest rated menu items:\")\n",
    "for item in sorted_ratings[-10:]:\n",
    "    print(f\"{item:20} Ave rating: {mean_ratings[item]:.2f} \\tcount: {counts[item]}\")"
   ]
  },
  {
   "cell_type": "markdown",
   "id": "e2e0207c",
   "metadata": {
    "papermill": {
     "duration": null,
     "end_time": null,
     "exception": null,
     "start_time": null,
     "status": "pending"
    },
    "tags": []
   },
   "source": [
    "Run the following line after you've decided your answer."
   ]
  },
  {
   "cell_type": "code",
   "execution_count": null,
   "id": "7e1eddf6",
   "metadata": {
    "execution": {
     "iopub.execute_input": "2024-07-26T19:27:12.751744Z",
     "iopub.status.busy": "2024-07-26T19:27:12.751368Z",
     "iopub.status.idle": "2024-07-26T19:27:12.765745Z",
     "shell.execute_reply": "2024-07-26T19:27:12.764586Z",
     "shell.execute_reply.started": "2024-07-26T19:27:12.751708Z"
    },
    "papermill": {
     "duration": null,
     "end_time": null,
     "exception": null,
     "start_time": null,
     "status": "pending"
    },
    "tags": []
   },
   "outputs": [],
   "source": [
    "# Check your answer (Run this code cell to receive credit!)\n",
    "q_5.solution()"
   ]
  },
  {
   "cell_type": "markdown",
   "id": "0a4c855f",
   "metadata": {
    "papermill": {
     "duration": null,
     "end_time": null,
     "exception": null,
     "start_time": null,
     "status": "pending"
    },
    "tags": []
   },
   "source": [
    "# Keep Going\n",
    "\n",
    "Now that you are ready to combine your NLP skills with your ML skills, **[see how it's done](https://www.kaggle.com/matleonard/text-classification)**."
   ]
  },
  {
   "cell_type": "markdown",
   "id": "285397af",
   "metadata": {
    "papermill": {
     "duration": null,
     "end_time": null,
     "exception": null,
     "start_time": null,
     "status": "pending"
    },
    "tags": []
   },
   "source": [
    "---\n",
    "\n",
    "\n",
    "\n",
    "\n",
    "*Have questions or comments? Visit the [course discussion forum](https://www.kaggle.com/learn/natural-language-processing/discussion) to chat with other learners.*"
   ]
  }
 ],
 "metadata": {
  "kaggle": {
   "accelerator": "none",
   "dataSources": [
    {
     "datasetId": 348259,
     "sourceId": 695175,
     "sourceType": "datasetVersion"
    },
    {
     "datasetId": 362178,
     "sourceId": 763778,
     "sourceType": "datasetVersion"
    }
   ],
   "isGpuEnabled": false,
   "isInternetEnabled": false,
   "language": "python",
   "sourceType": "notebook"
  },
  "kernelspec": {
   "display_name": "Python 3",
   "language": "python",
   "name": "python3"
  },
  "language_info": {
   "codemirror_mode": {
    "name": "ipython",
    "version": 3
   },
   "file_extension": ".py",
   "mimetype": "text/x-python",
   "name": "python",
   "nbconvert_exporter": "python",
   "pygments_lexer": "ipython3",
   "version": "3.10.13"
  },
  "papermill": {
   "default_parameters": {},
   "duration": 12.447916,
   "end_time": "2024-07-26T19:29:34.755326",
   "environment_variables": {},
   "exception": true,
   "input_path": "__notebook__.ipynb",
   "output_path": "__notebook__.ipynb",
   "parameters": {},
   "start_time": "2024-07-26T19:29:22.307410",
   "version": "2.5.0"
  }
 },
 "nbformat": 4,
 "nbformat_minor": 5
}
