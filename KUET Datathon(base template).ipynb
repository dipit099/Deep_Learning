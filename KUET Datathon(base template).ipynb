{
 "cells": [
  {
   "cell_type": "code",
   "execution_count": 1,
   "id": "29e85822",
   "metadata": {
    "execution": {
     "iopub.execute_input": "2025-01-09T11:56:27.310257Z",
     "iopub.status.busy": "2025-01-09T11:56:27.309819Z",
     "iopub.status.idle": "2025-01-09T11:56:33.484724Z",
     "shell.execute_reply": "2025-01-09T11:56:33.483254Z"
    },
    "papermill": {
     "duration": 6.191304,
     "end_time": "2025-01-09T11:56:33.486913",
     "exception": false,
     "start_time": "2025-01-09T11:56:27.295609",
     "status": "completed"
    },
    "tags": []
   },
   "outputs": [
    {
     "name": "stdout",
     "output_type": "stream",
     "text": [
      "Collecting sentence-transformers\r\n",
      "  Downloading sentence_transformers-3.3.1-py3-none-any.whl.metadata (10 kB)\r\n",
      "Requirement already satisfied: transformers<5.0.0,>=4.41.0 in /usr/local/lib/python3.10/dist-packages (from sentence-transformers) (4.44.2)\r\n",
      "Requirement already satisfied: tqdm in /usr/local/lib/python3.10/dist-packages (from sentence-transformers) (4.66.5)\r\n",
      "Requirement already satisfied: torch>=1.11.0 in /usr/local/lib/python3.10/dist-packages (from sentence-transformers) (2.4.1+cu121)\r\n",
      "Requirement already satisfied: scikit-learn in /usr/local/lib/python3.10/dist-packages (from sentence-transformers) (1.2.2)\r\n",
      "Requirement already satisfied: scipy in /usr/local/lib/python3.10/dist-packages (from sentence-transformers) (1.13.1)\r\n",
      "Requirement already satisfied: huggingface-hub>=0.20.0 in /usr/local/lib/python3.10/dist-packages (from sentence-transformers) (0.24.7)\r\n",
      "Requirement already satisfied: Pillow in /usr/local/lib/python3.10/dist-packages (from sentence-transformers) (10.4.0)\r\n",
      "Requirement already satisfied: filelock in /usr/local/lib/python3.10/dist-packages (from huggingface-hub>=0.20.0->sentence-transformers) (3.16.1)\r\n",
      "Requirement already satisfied: fsspec>=2023.5.0 in /usr/local/lib/python3.10/dist-packages (from huggingface-hub>=0.20.0->sentence-transformers) (2024.6.1)\r\n",
      "Requirement already satisfied: packaging>=20.9 in /usr/local/lib/python3.10/dist-packages (from huggingface-hub>=0.20.0->sentence-transformers) (24.1)\r\n",
      "Requirement already satisfied: pyyaml>=5.1 in /usr/local/lib/python3.10/dist-packages (from huggingface-hub>=0.20.0->sentence-transformers) (6.0.2)\r\n",
      "Requirement already satisfied: requests in /usr/local/lib/python3.10/dist-packages (from huggingface-hub>=0.20.0->sentence-transformers) (2.32.3)\r\n",
      "Requirement already satisfied: typing-extensions>=3.7.4.3 in /usr/local/lib/python3.10/dist-packages (from huggingface-hub>=0.20.0->sentence-transformers) (4.12.2)\r\n",
      "Requirement already satisfied: sympy in /usr/local/lib/python3.10/dist-packages (from torch>=1.11.0->sentence-transformers) (1.13.3)\r\n",
      "Requirement already satisfied: networkx in /usr/local/lib/python3.10/dist-packages (from torch>=1.11.0->sentence-transformers) (3.3)\r\n",
      "Requirement already satisfied: jinja2 in /usr/local/lib/python3.10/dist-packages (from torch>=1.11.0->sentence-transformers) (3.1.4)\r\n",
      "Requirement already satisfied: numpy>=1.17 in /usr/local/lib/python3.10/dist-packages (from transformers<5.0.0,>=4.41.0->sentence-transformers) (1.26.4)\r\n",
      "Requirement already satisfied: regex!=2019.12.17 in /usr/local/lib/python3.10/dist-packages (from transformers<5.0.0,>=4.41.0->sentence-transformers) (2024.9.11)\r\n",
      "Requirement already satisfied: safetensors>=0.4.1 in /usr/local/lib/python3.10/dist-packages (from transformers<5.0.0,>=4.41.0->sentence-transformers) (0.4.5)\r\n",
      "Requirement already satisfied: tokenizers<0.20,>=0.19 in /usr/local/lib/python3.10/dist-packages (from transformers<5.0.0,>=4.41.0->sentence-transformers) (0.19.1)\r\n",
      "Requirement already satisfied: joblib>=1.1.1 in /usr/local/lib/python3.10/dist-packages (from scikit-learn->sentence-transformers) (1.4.2)\r\n",
      "Requirement already satisfied: threadpoolctl>=2.0.0 in /usr/local/lib/python3.10/dist-packages (from scikit-learn->sentence-transformers) (3.5.0)\r\n",
      "Requirement already satisfied: MarkupSafe>=2.0 in /usr/local/lib/python3.10/dist-packages (from jinja2->torch>=1.11.0->sentence-transformers) (2.1.5)\r\n",
      "Requirement already satisfied: charset-normalizer<4,>=2 in /usr/local/lib/python3.10/dist-packages (from requests->huggingface-hub>=0.20.0->sentence-transformers) (3.3.2)\r\n",
      "Requirement already satisfied: idna<4,>=2.5 in /usr/local/lib/python3.10/dist-packages (from requests->huggingface-hub>=0.20.0->sentence-transformers) (3.10)\r\n",
      "Requirement already satisfied: urllib3<3,>=1.21.1 in /usr/local/lib/python3.10/dist-packages (from requests->huggingface-hub>=0.20.0->sentence-transformers) (2.2.3)\r\n",
      "Requirement already satisfied: certifi>=2017.4.17 in /usr/local/lib/python3.10/dist-packages (from requests->huggingface-hub>=0.20.0->sentence-transformers) (2024.8.30)\r\n",
      "Requirement already satisfied: mpmath<1.4,>=1.1.0 in /usr/local/lib/python3.10/dist-packages (from sympy->torch>=1.11.0->sentence-transformers) (1.3.0)\r\n",
      "Downloading sentence_transformers-3.3.1-py3-none-any.whl (268 kB)\r\n",
      "\u001b[2K   \u001b[90m━━━━━━━━━━━━━━━━━━━━━━━━━━━━━━━━━━━━━━━━\u001b[0m \u001b[32m268.8/268.8 kB\u001b[0m \u001b[31m7.2 MB/s\u001b[0m eta \u001b[36m0:00:00\u001b[0m\r\n",
      "\u001b[?25hInstalling collected packages: sentence-transformers\r\n",
      "Successfully installed sentence-transformers-3.3.1\r\n",
      "Note: you may need to restart the kernel to use updated packages.\n"
     ]
    }
   ],
   "source": [
    "pip install sentence-transformers"
   ]
  },
  {
   "cell_type": "code",
   "execution_count": 2,
   "id": "c2bf874d",
   "metadata": {
    "_cell_guid": "b1076dfc-b9ad-4769-8c92-a6c4dae69d19",
    "_uuid": "8f2839f25d086af736a60e9eeb907d3b93b6e0e5",
    "execution": {
     "iopub.execute_input": "2025-01-09T11:56:33.514140Z",
     "iopub.status.busy": "2025-01-09T11:56:33.513725Z",
     "iopub.status.idle": "2025-01-09T11:56:41.945265Z",
     "shell.execute_reply": "2025-01-09T11:56:41.944262Z"
    },
    "papermill": {
     "duration": 8.447255,
     "end_time": "2025-01-09T11:56:41.947247",
     "exception": false,
     "start_time": "2025-01-09T11:56:33.499992",
     "status": "completed"
    },
    "tags": []
   },
   "outputs": [],
   "source": [
    "import pandas as pd\n",
    "import numpy as np\n",
    "import re\n",
    "import matplotlib.pyplot as plt\n",
    "import seaborn as sns\n",
    "import ast\n",
    "from itertools import chain\n",
    "import warnings\n",
    "warnings.filterwarnings('ignore')\n",
    "#from sklearn.model_selection import KFold\n",
    "#from sklearn.preprocessing import LabelEncoder\n",
    "from sklearn.metrics import mean_squared_error\n",
    "from sklearn.metrics.pairwise import cosine_similarity\n",
    "from sklearn.feature_extraction.text import TfidfVectorizer, HashingVectorizer, CountVectorizer\n",
    "from sklearn.model_selection import train_test_split\n",
    "\n",
    "#from sklearn.decomposition import TruncatedSVD\n",
    "#from gensim.models import Word2Vec\n",
    "import ast\n",
    "from ast import literal_eval\n",
    "import re\n",
    "from datetime import datetime\n",
    "\n",
    "import torch\n",
    "import torch.nn as nn\n",
    "import torch.optim as optim\n",
    "import numpy as np\n",
    "import pandas as pd\n",
    "from torch.utils.data import DataLoader, TensorDataset\n",
    "\n",
    "from lightgbm import LGBMRegressor\n",
    "import lightgbm as lgbm"
   ]
  },
  {
   "cell_type": "code",
   "execution_count": 3,
   "id": "baec6cce",
   "metadata": {
    "execution": {
     "iopub.execute_input": "2025-01-09T11:56:41.973299Z",
     "iopub.status.busy": "2025-01-09T11:56:41.972577Z",
     "iopub.status.idle": "2025-01-09T11:56:42.364371Z",
     "shell.execute_reply": "2025-01-09T11:56:42.363133Z"
    },
    "papermill": {
     "duration": 0.406461,
     "end_time": "2025-01-09T11:56:42.366157",
     "exception": false,
     "start_time": "2025-01-09T11:56:41.959696",
     "status": "completed"
    },
    "tags": []
   },
   "outputs": [
    {
     "name": "stdout",
     "output_type": "stream",
     "text": [
      "(7635, 35)\n",
      "(1909, 35)\n"
     ]
    }
   ],
   "source": [
    "train = pd.read_csv('/kaggle/input/bitfest-datathon-2025/train.csv')\n",
    "test = pd.read_csv('/kaggle/input/bitfest-datathon-2025/test.csv')\n",
    "print(train.shape)\n",
    "print(test.shape)  # same column Number hoar kotha na !"
   ]
  },
  {
   "cell_type": "code",
   "execution_count": 4,
   "id": "5855ff3f",
   "metadata": {
    "execution": {
     "iopub.execute_input": "2025-01-09T11:56:42.391911Z",
     "iopub.status.busy": "2025-01-09T11:56:42.391538Z",
     "iopub.status.idle": "2025-01-09T11:56:42.397149Z",
     "shell.execute_reply": "2025-01-09T11:56:42.396185Z"
    },
    "papermill": {
     "duration": 0.020476,
     "end_time": "2025-01-09T11:56:42.398674",
     "exception": false,
     "start_time": "2025-01-09T11:56:42.378198",
     "status": "completed"
    },
    "tags": []
   },
   "outputs": [
    {
     "name": "stdout",
     "output_type": "stream",
     "text": [
      "{'matched_score'}\n",
      "{'ID'}\n"
     ]
    }
   ],
   "source": [
    "print(set(train.columns) - set(test.columns))\n",
    "print(set(test.columns) - set(train.columns))   ## See \"ID\" coln ta extra ..need to remove that !"
   ]
  },
  {
   "cell_type": "code",
   "execution_count": 5,
   "id": "d76c625e",
   "metadata": {
    "execution": {
     "iopub.execute_input": "2025-01-09T11:56:42.423712Z",
     "iopub.status.busy": "2025-01-09T11:56:42.423315Z",
     "iopub.status.idle": "2025-01-09T11:56:42.439233Z",
     "shell.execute_reply": "2025-01-09T11:56:42.438099Z"
    },
    "papermill": {
     "duration": 0.030233,
     "end_time": "2025-01-09T11:56:42.440980",
     "exception": false,
     "start_time": "2025-01-09T11:56:42.410747",
     "status": "completed"
    },
    "tags": []
   },
   "outputs": [],
   "source": [
    "test.drop(['ID'], axis=1, inplace=True)"
   ]
  },
  {
   "cell_type": "code",
   "execution_count": 6,
   "id": "9fca4822",
   "metadata": {
    "execution": {
     "iopub.execute_input": "2025-01-09T11:56:42.466311Z",
     "iopub.status.busy": "2025-01-09T11:56:42.465908Z",
     "iopub.status.idle": "2025-01-09T11:56:42.491641Z",
     "shell.execute_reply": "2025-01-09T11:56:42.490592Z"
    },
    "papermill": {
     "duration": 0.040137,
     "end_time": "2025-01-09T11:56:42.493292",
     "exception": false,
     "start_time": "2025-01-09T11:56:42.453155",
     "status": "completed"
    },
    "tags": []
   },
   "outputs": [
    {
     "data": {
      "text/html": [
       "<div>\n",
       "<style scoped>\n",
       "    .dataframe tbody tr th:only-of-type {\n",
       "        vertical-align: middle;\n",
       "    }\n",
       "\n",
       "    .dataframe tbody tr th {\n",
       "        vertical-align: top;\n",
       "    }\n",
       "\n",
       "    .dataframe thead th {\n",
       "        text-align: right;\n",
       "    }\n",
       "</style>\n",
       "<table border=\"1\" class=\"dataframe\">\n",
       "  <thead>\n",
       "    <tr style=\"text-align: right;\">\n",
       "      <th></th>\n",
       "      <th>address</th>\n",
       "      <th>career_objective</th>\n",
       "      <th>skills</th>\n",
       "      <th>educational_institution_name</th>\n",
       "      <th>degree_names</th>\n",
       "      <th>passing_years</th>\n",
       "      <th>educational_results</th>\n",
       "      <th>result_types</th>\n",
       "      <th>major_field_of_studies</th>\n",
       "      <th>professional_company_names</th>\n",
       "      <th>...</th>\n",
       "      <th>online_links</th>\n",
       "      <th>issue_dates</th>\n",
       "      <th>expiry_dates</th>\n",
       "      <th>﻿job_position_name</th>\n",
       "      <th>educationaL_requirements</th>\n",
       "      <th>experiencere_requirement</th>\n",
       "      <th>age_requirement</th>\n",
       "      <th>responsibilities.1</th>\n",
       "      <th>skills_required</th>\n",
       "      <th>matched_score</th>\n",
       "    </tr>\n",
       "  </thead>\n",
       "  <tbody>\n",
       "    <tr>\n",
       "      <th>0</th>\n",
       "      <td>NaN</td>\n",
       "      <td>Big data analytics working and database wareho...</td>\n",
       "      <td>['Big Data', 'Hadoop', 'Hive', 'Python', 'Mapr...</td>\n",
       "      <td>['The Amity School of Engineering &amp; Technology...</td>\n",
       "      <td>['B.Tech']</td>\n",
       "      <td>['2019']</td>\n",
       "      <td>['N/A']</td>\n",
       "      <td>[None]</td>\n",
       "      <td>['Electronics']</td>\n",
       "      <td>['Coca-COla']</td>\n",
       "      <td>...</td>\n",
       "      <td>NaN</td>\n",
       "      <td>NaN</td>\n",
       "      <td>NaN</td>\n",
       "      <td>Senior Software Engineer</td>\n",
       "      <td>B.Sc in Computer Science &amp; Engineering from a ...</td>\n",
       "      <td>At least 1 year</td>\n",
       "      <td>NaN</td>\n",
       "      <td>Technical Support\\nTroubleshooting\\nCollaborat...</td>\n",
       "      <td>NaN</td>\n",
       "      <td>0.85</td>\n",
       "    </tr>\n",
       "    <tr>\n",
       "      <th>1</th>\n",
       "      <td>NaN</td>\n",
       "      <td>Fresher looking to join as a data analyst and ...</td>\n",
       "      <td>['Data Analysis', 'Data Analytics', 'Business ...</td>\n",
       "      <td>['Delhi University - Hansraj College', 'Delhi ...</td>\n",
       "      <td>['B.Sc (Maths)', 'M.Sc (Science) (Statistics)']</td>\n",
       "      <td>['2015', '2018']</td>\n",
       "      <td>['N/A', 'N/A']</td>\n",
       "      <td>['N/A', 'N/A']</td>\n",
       "      <td>['Mathematics', 'Statistics']</td>\n",
       "      <td>['BIB Consultancy']</td>\n",
       "      <td>...</td>\n",
       "      <td>NaN</td>\n",
       "      <td>NaN</td>\n",
       "      <td>NaN</td>\n",
       "      <td>Machine Learning (ML) Engineer</td>\n",
       "      <td>M.Sc in Computer Science &amp; Engineering or in a...</td>\n",
       "      <td>At least 5 year(s)</td>\n",
       "      <td>NaN</td>\n",
       "      <td>Machine Learning Leadership\\nCross-Functional ...</td>\n",
       "      <td>NaN</td>\n",
       "      <td>0.75</td>\n",
       "    </tr>\n",
       "  </tbody>\n",
       "</table>\n",
       "<p>2 rows × 35 columns</p>\n",
       "</div>"
      ],
      "text/plain": [
       "  address                                   career_objective  \\\n",
       "0     NaN  Big data analytics working and database wareho...   \n",
       "1     NaN  Fresher looking to join as a data analyst and ...   \n",
       "\n",
       "                                              skills  \\\n",
       "0  ['Big Data', 'Hadoop', 'Hive', 'Python', 'Mapr...   \n",
       "1  ['Data Analysis', 'Data Analytics', 'Business ...   \n",
       "\n",
       "                        educational_institution_name  \\\n",
       "0  ['The Amity School of Engineering & Technology...   \n",
       "1  ['Delhi University - Hansraj College', 'Delhi ...   \n",
       "\n",
       "                                      degree_names     passing_years  \\\n",
       "0                                       ['B.Tech']          ['2019']   \n",
       "1  ['B.Sc (Maths)', 'M.Sc (Science) (Statistics)']  ['2015', '2018']   \n",
       "\n",
       "  educational_results    result_types         major_field_of_studies  \\\n",
       "0             ['N/A']          [None]                ['Electronics']   \n",
       "1      ['N/A', 'N/A']  ['N/A', 'N/A']  ['Mathematics', 'Statistics']   \n",
       "\n",
       "  professional_company_names  ... online_links issue_dates expiry_dates  \\\n",
       "0              ['Coca-COla']  ...          NaN         NaN          NaN   \n",
       "1        ['BIB Consultancy']  ...          NaN         NaN          NaN   \n",
       "\n",
       "               ﻿job_position_name  \\\n",
       "0        Senior Software Engineer   \n",
       "1  Machine Learning (ML) Engineer   \n",
       "\n",
       "                            educationaL_requirements experiencere_requirement  \\\n",
       "0  B.Sc in Computer Science & Engineering from a ...          At least 1 year   \n",
       "1  M.Sc in Computer Science & Engineering or in a...       At least 5 year(s)   \n",
       "\n",
       "  age_requirement                                 responsibilities.1  \\\n",
       "0             NaN  Technical Support\\nTroubleshooting\\nCollaborat...   \n",
       "1             NaN  Machine Learning Leadership\\nCross-Functional ...   \n",
       "\n",
       "  skills_required matched_score  \n",
       "0             NaN          0.85  \n",
       "1             NaN          0.75  \n",
       "\n",
       "[2 rows x 35 columns]"
      ]
     },
     "execution_count": 6,
     "metadata": {},
     "output_type": "execute_result"
    }
   ],
   "source": [
    "train.head(2)"
   ]
  },
  {
   "cell_type": "code",
   "execution_count": 7,
   "id": "7b831afd",
   "metadata": {
    "execution": {
     "iopub.execute_input": "2025-01-09T11:56:42.519193Z",
     "iopub.status.busy": "2025-01-09T11:56:42.518806Z",
     "iopub.status.idle": "2025-01-09T11:56:42.524874Z",
     "shell.execute_reply": "2025-01-09T11:56:42.524085Z"
    },
    "papermill": {
     "duration": 0.020834,
     "end_time": "2025-01-09T11:56:42.526510",
     "exception": false,
     "start_time": "2025-01-09T11:56:42.505676",
     "status": "completed"
    },
    "tags": []
   },
   "outputs": [],
   "source": [
    "train_copy = train.copy()\n",
    "test_copy = test.copy()"
   ]
  },
  {
   "cell_type": "code",
   "execution_count": 8,
   "id": "9b99aefb",
   "metadata": {
    "execution": {
     "iopub.execute_input": "2025-01-09T11:56:42.552518Z",
     "iopub.status.busy": "2025-01-09T11:56:42.552141Z",
     "iopub.status.idle": "2025-01-09T11:56:43.244750Z",
     "shell.execute_reply": "2025-01-09T11:56:43.243687Z"
    },
    "papermill": {
     "duration": 0.707617,
     "end_time": "2025-01-09T11:56:43.246561",
     "exception": false,
     "start_time": "2025-01-09T11:56:42.538944",
     "status": "completed"
    },
    "tags": []
   },
   "outputs": [
    {
     "data": {
      "image/png": "[encoded data removed]",
      "text/plain": [
       "<Figure size 800x600 with 1 Axes>"
      ]
     },
     "metadata": {},
     "output_type": "display_data"
    }
   ],
   "source": [
    "# Plot distribution of matched_score\n",
    "plt.figure(figsize=(8, 6))\n",
    "sns.histplot(train_copy['matched_score'], kde=True, color='blue')\n",
    "plt.title('Distribution of Matched Scores')\n",
    "plt.xlabel('Matched Score')\n",
    "plt.ylabel('Frequency')\n",
    "plt.tight_layout()\n",
    "plt.show()"
   ]
  },
  {
   "cell_type": "markdown",
   "id": "2aec683c",
   "metadata": {
    "papermill": {
     "duration": 0.013101,
     "end_time": "2025-01-09T11:56:43.272840",
     "exception": false,
     "start_time": "2025-01-09T11:56:43.259739",
     "status": "completed"
    },
    "tags": []
   },
   "source": [
    "# Prediction coln: Datatype to Float"
   ]
  },
  {
   "cell_type": "code",
   "execution_count": 9,
   "id": "07e621a2",
   "metadata": {
    "execution": {
     "iopub.execute_input": "2025-01-09T11:56:43.302045Z",
     "iopub.status.busy": "2025-01-09T11:56:43.301666Z",
     "iopub.status.idle": "2025-01-09T11:56:43.308277Z",
     "shell.execute_reply": "2025-01-09T11:56:43.307095Z"
    },
    "papermill": {
     "duration": 0.022275,
     "end_time": "2025-01-09T11:56:43.309877",
     "exception": false,
     "start_time": "2025-01-09T11:56:43.287602",
     "status": "completed"
    },
    "tags": []
   },
   "outputs": [
    {
     "name": "stdout",
     "output_type": "stream",
     "text": [
      "float64\n",
      "float64\n"
     ]
    }
   ],
   "source": [
    "print(train_copy['matched_score'].dtype)\n",
    "# Convert matched_score column to float\n",
    "train_copy['matched_score'] = pd.to_numeric(train_copy['matched_score'], errors='coerce')\n",
    "print(train_copy['matched_score'].dtype)\n",
    "# Verify the data type"
   ]
  },
  {
   "cell_type": "markdown",
   "id": "3af4984a",
   "metadata": {
    "papermill": {
     "duration": 0.013906,
     "end_time": "2025-01-09T11:56:43.337759",
     "exception": false,
     "start_time": "2025-01-09T11:56:43.323853",
     "status": "completed"
    },
    "tags": []
   },
   "source": [
    "# Work with train_copy and test_copy Side by Side"
   ]
  },
  {
   "cell_type": "markdown",
   "id": "197d6b55",
   "metadata": {
    "papermill": {
     "duration": 0.012738,
     "end_time": "2025-01-09T11:56:43.363844",
     "exception": false,
     "start_time": "2025-01-09T11:56:43.351106",
     "status": "completed"
    },
    "tags": []
   },
   "source": [
    "# Cleaning Column Names"
   ]
  },
  {
   "cell_type": "code",
   "execution_count": 10,
   "id": "4ac59090",
   "metadata": {
    "execution": {
     "iopub.execute_input": "2025-01-09T11:56:43.391432Z",
     "iopub.status.busy": "2025-01-09T11:56:43.391073Z",
     "iopub.status.idle": "2025-01-09T11:56:43.398962Z",
     "shell.execute_reply": "2025-01-09T11:56:43.398035Z"
    },
    "papermill": {
     "duration": 0.023769,
     "end_time": "2025-01-09T11:56:43.400674",
     "exception": false,
     "start_time": "2025-01-09T11:56:43.376905",
     "status": "completed"
    },
    "tags": []
   },
   "outputs": [
    {
     "name": "stdout",
     "output_type": "stream",
     "text": [
      "Train dataset:\n",
      "Columns with potential special characters:\n",
      "Column: ﻿job_position_name\n",
      "Column: responsibilities.1\n",
      "\n",
      "Test dataset:\n",
      "Columns with potential special characters:\n",
      "Column: ﻿job_position_name\n",
      "Column: responsibilities.1\n"
     ]
    }
   ],
   "source": [
    "import re\n",
    "\n",
    "def check_special_chars(df):\n",
    "    special_char_pattern = re.compile(r'[^a-zA-Z0-9_]')\n",
    "    print(\"Columns with potential special characters:\")\n",
    "    for col in df.columns:\n",
    "        if special_char_pattern.search(col):\n",
    "            print(f\"Column: {col}\")\n",
    "\n",
    "# Usage\n",
    "print(\"Train dataset:\")\n",
    "check_special_chars(train_copy)\n",
    "\n",
    "print(\"\\nTest dataset:\")\n",
    "check_special_chars(test_copy)\n"
   ]
  },
  {
   "cell_type": "code",
   "execution_count": 11,
   "id": "b773e329",
   "metadata": {
    "execution": {
     "iopub.execute_input": "2025-01-09T11:56:43.428278Z",
     "iopub.status.busy": "2025-01-09T11:56:43.427891Z",
     "iopub.status.idle": "2025-01-09T11:56:43.437373Z",
     "shell.execute_reply": "2025-01-09T11:56:43.436058Z"
    },
    "papermill": {
     "duration": 0.025213,
     "end_time": "2025-01-09T11:56:43.439183",
     "exception": false,
     "start_time": "2025-01-09T11:56:43.413970",
     "status": "completed"
    },
    "tags": []
   },
   "outputs": [
    {
     "name": "stdout",
     "output_type": "stream",
     "text": [
      "Cleaned column names in train_copy:\n",
      "Index(['address', 'career_objective', 'skills', 'educational_institution_name',\n",
      "       'degree_names', 'passing_years', 'educational_results', 'result_types',\n",
      "       'major_field_of_studies', 'professional_company_names', 'company_urls',\n",
      "       'start_dates', 'end_dates', 'related_skils_in_job', 'positions',\n",
      "       'locations', 'responsibilities', 'extra_curricular_activity_types',\n",
      "       'extra_curricular_organization_names',\n",
      "       'extra_curricular_organization_links', 'role_positions', 'languages',\n",
      "       'proficiency_levels', 'certification_providers', 'certification_skills',\n",
      "       'online_links', 'issue_dates', 'expiry_dates', '_job_position_name',\n",
      "       'educationaL_requirements', 'experiencere_requirement',\n",
      "       'age_requirement', 'responsibilities_1', 'skills_required',\n",
      "       'matched_score'],\n",
      "      dtype='object')\n",
      "\n",
      "Cleaned column names in test_copy:\n",
      "Index(['address', 'career_objective', 'skills', 'educational_institution_name',\n",
      "       'degree_names', 'passing_years', 'educational_results', 'result_types',\n",
      "       'major_field_of_studies', 'professional_company_names', 'company_urls',\n",
      "       'start_dates', 'end_dates', 'related_skils_in_job', 'positions',\n",
      "       'locations', 'responsibilities', 'extra_curricular_activity_types',\n",
      "       'extra_curricular_organization_names',\n",
      "       'extra_curricular_organization_links', 'role_positions', 'languages',\n",
      "       'proficiency_levels', 'certification_providers', 'certification_skills',\n",
      "       'online_links', 'issue_dates', 'expiry_dates', '_job_position_name',\n",
      "       'educationaL_requirements', 'experiencere_requirement',\n",
      "       'age_requirement', 'responsibilities_1', 'skills_required'],\n",
      "      dtype='object')\n"
     ]
    }
   ],
   "source": [
    "def clean_column_names(df):\n",
    "    df.columns = df.columns.str.strip()  # Remove leading/trailing whitespace\n",
    "    df.columns = df.columns.str.replace(r'[^\\w]', '_', regex=True)  # Replace non-alphanumeric characters with '_'\n",
    "    df.columns = df.columns.str.replace(r'\\s+', '_', regex=True)  # Replace spaces with '_'\n",
    "    return df\n",
    "\n",
    "# Apply to both train and test datasets\n",
    "train_copy = clean_column_names(train_copy)\n",
    "test_copy = clean_column_names(test_copy)\n",
    "\n",
    "print(\"Cleaned column names in train_copy:\")\n",
    "print(train_copy.columns)\n",
    "\n",
    "print(\"\\nCleaned column names in test_copy:\")\n",
    "print(test_copy.columns)\n"
   ]
  },
  {
   "cell_type": "code",
   "execution_count": 12,
   "id": "bc64a2de",
   "metadata": {
    "execution": {
     "iopub.execute_input": "2025-01-09T11:56:43.467568Z",
     "iopub.status.busy": "2025-01-09T11:56:43.467155Z",
     "iopub.status.idle": "2025-01-09T11:56:43.473978Z",
     "shell.execute_reply": "2025-01-09T11:56:43.472812Z"
    },
    "papermill": {
     "duration": 0.022945,
     "end_time": "2025-01-09T11:56:43.475666",
     "exception": false,
     "start_time": "2025-01-09T11:56:43.452721",
     "status": "completed"
    },
    "tags": []
   },
   "outputs": [
    {
     "name": "stdout",
     "output_type": "stream",
     "text": [
      "Data types in train_copy:\n",
      "address                                 object\n",
      "career_objective                        object\n",
      "skills                                  object\n",
      "educational_institution_name            object\n",
      "degree_names                            object\n",
      "passing_years                           object\n",
      "educational_results                     object\n",
      "result_types                            object\n",
      "major_field_of_studies                  object\n",
      "professional_company_names              object\n",
      "company_urls                            object\n",
      "start_dates                             object\n",
      "end_dates                               object\n",
      "related_skils_in_job                    object\n",
      "positions                               object\n",
      "locations                               object\n",
      "responsibilities                        object\n",
      "extra_curricular_activity_types         object\n",
      "extra_curricular_organization_names     object\n",
      "extra_curricular_organization_links     object\n",
      "role_positions                          object\n",
      "languages                               object\n",
      "proficiency_levels                      object\n",
      "certification_providers                 object\n",
      "certification_skills                    object\n",
      "online_links                            object\n",
      "issue_dates                             object\n",
      "expiry_dates                            object\n",
      "_job_position_name                      object\n",
      "educationaL_requirements                object\n",
      "experiencere_requirement                object\n",
      "age_requirement                         object\n",
      "responsibilities_1                      object\n",
      "skills_required                         object\n",
      "matched_score                          float64\n",
      "dtype: object\n"
     ]
    }
   ],
   "source": [
    "print(\"Data types in train_copy:\")\n",
    "print(train_copy.dtypes)\n",
    "\n",
    "# print(\"\\nData types in test_copy:\")\n",
    "# print(test_copy.dtypes)\n",
    "\n",
    "\n",
    "## Cant work with Object Datatype ! Need to convert into Integers or float"
   ]
  },
  {
   "cell_type": "code",
   "execution_count": 13,
   "id": "902b835d",
   "metadata": {
    "execution": {
     "iopub.execute_input": "2025-01-09T11:56:43.504144Z",
     "iopub.status.busy": "2025-01-09T11:56:43.503743Z",
     "iopub.status.idle": "2025-01-09T11:56:43.510184Z",
     "shell.execute_reply": "2025-01-09T11:56:43.509066Z"
    },
    "papermill": {
     "duration": 0.02248,
     "end_time": "2025-01-09T11:56:43.511939",
     "exception": false,
     "start_time": "2025-01-09T11:56:43.489459",
     "status": "completed"
    },
    "tags": []
   },
   "outputs": [
    {
     "data": {
      "text/plain": [
       "Index(['address', 'career_objective', 'skills', 'educational_institution_name',\n",
       "       'degree_names', 'passing_years', 'educational_results', 'result_types',\n",
       "       'major_field_of_studies', 'professional_company_names', 'company_urls',\n",
       "       'start_dates', 'end_dates', 'related_skils_in_job', 'positions',\n",
       "       'locations', 'responsibilities', 'extra_curricular_activity_types',\n",
       "       'extra_curricular_organization_names',\n",
       "       'extra_curricular_organization_links', 'role_positions', 'languages',\n",
       "       'proficiency_levels', 'certification_providers', 'certification_skills',\n",
       "       'online_links', 'issue_dates', 'expiry_dates', '_job_position_name',\n",
       "       'educationaL_requirements', 'experiencere_requirement',\n",
       "       'age_requirement', 'responsibilities_1', 'skills_required',\n",
       "       'matched_score'],\n",
       "      dtype='object')"
      ]
     },
     "execution_count": 13,
     "metadata": {},
     "output_type": "execute_result"
    }
   ],
   "source": [
    "train_copy.columns"
   ]
  },
  {
   "cell_type": "markdown",
   "id": "8dfcaf95",
   "metadata": {
    "papermill": {
     "duration": 0.01335,
     "end_time": "2025-01-09T11:56:43.539226",
     "exception": false,
     "start_time": "2025-01-09T11:56:43.525876",
     "status": "completed"
    },
    "tags": []
   },
   "source": [
    "# Dropping Columns based on null values"
   ]
  },
  {
   "cell_type": "code",
   "execution_count": 14,
   "id": "a29ab49b",
   "metadata": {
    "execution": {
     "iopub.execute_input": "2025-01-09T11:56:43.567643Z",
     "iopub.status.busy": "2025-01-09T11:56:43.567284Z",
     "iopub.status.idle": "2025-01-09T11:56:43.577352Z",
     "shell.execute_reply": "2025-01-09T11:56:43.576417Z"
    },
    "papermill": {
     "duration": 0.025925,
     "end_time": "2025-01-09T11:56:43.578883",
     "exception": false,
     "start_time": "2025-01-09T11:56:43.552958",
     "status": "completed"
    },
    "tags": []
   },
   "outputs": [
    {
     "name": "stdout",
     "output_type": "stream",
     "text": [
      "35\n",
      "Columns removed successfully.\n",
      "24\n"
     ]
    }
   ],
   "source": [
    "print(len(train_copy.columns))\n",
    "\n",
    "columns_to_remove = [\n",
    "    'proficiency_levels', \n",
    "    'languages', \n",
    "    'address', \n",
    "    'expiry_dates', \n",
    "    'issue_dates', \n",
    "    'online_links', \n",
    "    'certification_skills', \n",
    "    'certification_providers',\n",
    "    'extra_curricular_organization_links',\n",
    "    'company_urls',\n",
    "    'result_types'\n",
    "]\n",
    "\n",
    "train_copy.drop(columns=columns_to_remove, errors='ignore',inplace=True)\n",
    "test_copy.drop(columns=columns_to_remove, errors='ignore', inplace=True)\n",
    "\n",
    "print(\"Columns removed successfully.\")\n",
    "print(len(train_copy.columns))"
   ]
  },
  {
   "cell_type": "code",
   "execution_count": 15,
   "id": "2765b84d",
   "metadata": {
    "execution": {
     "iopub.execute_input": "2025-01-09T11:56:43.607549Z",
     "iopub.status.busy": "2025-01-09T11:56:43.607179Z",
     "iopub.status.idle": "2025-01-09T11:56:43.643840Z",
     "shell.execute_reply": "2025-01-09T11:56:43.642323Z"
    },
    "papermill": {
     "duration": 0.053267,
     "end_time": "2025-01-09T11:56:43.645967",
     "exception": false,
     "start_time": "2025-01-09T11:56:43.592700",
     "status": "completed"
    },
    "tags": []
   },
   "outputs": [
    {
     "name": "stdout",
     "output_type": "stream",
     "text": [
      "#################\n",
      "Missing values in train dataset:\n",
      "                                     Missing Values  Missing Percentage\n",
      "role_positions                                 4903           64.217420\n",
      "extra_curricular_organization_names            4903           64.217420\n",
      "extra_curricular_activity_types                4903           64.217420\n",
      "career_objective                               3841           50.307793\n",
      "age_requirement                                3264           42.750491\n",
      "skills_required                                1371           17.956778\n",
      "experiencere_requirement                       1086           14.223969\n",
      "related_skils_in_job                             67            0.877538\n",
      "positions                                        67            0.877538\n",
      "locations                                        67            0.877538\n",
      "end_dates                                        67            0.877538\n",
      "start_dates                                      67            0.877538\n",
      "professional_company_names                       67            0.877538\n",
      "major_field_of_studies                           61            0.798952\n",
      "educational_results                              61            0.798952\n",
      "passing_years                                    61            0.798952\n",
      "degree_names                                     61            0.798952\n",
      "educational_institution_name                     61            0.798952\n",
      "skills                                           43            0.563196\n",
      "responsibilities                                  0            0.000000\n",
      "_job_position_name                                0            0.000000\n",
      "educationaL_requirements                          0            0.000000\n",
      "responsibilities_1                                0            0.000000\n",
      "matched_score                                     0            0.000000\n"
     ]
    }
   ],
   "source": [
    "def check_null_percentage(df):\n",
    "    null_counts = df.isnull().sum()\n",
    "    total_rows = len(df)\n",
    "    null_percentage = (null_counts / total_rows) * 100\n",
    "    unique_values = df.nunique()\n",
    "\n",
    "    null_df = pd.DataFrame({\n",
    "        'Missing Values': null_counts,\n",
    "        'Missing Percentage': null_percentage,\n",
    "        #'Unique Values': unique_values\n",
    "    }).sort_values(by='Missing Percentage', ascending=False)\n",
    "\n",
    "    return null_df\n",
    "\n",
    "missing_train = check_null_percentage(train_copy)\n",
    "print(\"#################\")\n",
    "print(\"Missing values in train dataset:\")\n",
    "print(missing_train)\n",
    "\n",
    "# missing_test = check_null_percentage(test_copy)\n",
    "# print(\"#################\")\n",
    "# print(\"Missing values in test dataset:\")\n",
    "# print(missing_test)\n"
   ]
  },
  {
   "cell_type": "markdown",
   "id": "c271564c",
   "metadata": {
    "papermill": {
     "duration": 0.013479,
     "end_time": "2025-01-09T11:56:43.673646",
     "exception": false,
     "start_time": "2025-01-09T11:56:43.660167",
     "status": "completed"
    },
    "tags": []
   },
   "source": [
    "# Replacing Nan with \"missing\""
   ]
  },
  {
   "cell_type": "code",
   "execution_count": 16,
   "id": "02294dcc",
   "metadata": {
    "execution": {
     "iopub.execute_input": "2025-01-09T11:56:43.702945Z",
     "iopub.status.busy": "2025-01-09T11:56:43.702581Z",
     "iopub.status.idle": "2025-01-09T11:56:45.708227Z",
     "shell.execute_reply": "2025-01-09T11:56:45.707027Z"
    },
    "papermill": {
     "duration": 2.022563,
     "end_time": "2025-01-09T11:56:45.710260",
     "exception": false,
     "start_time": "2025-01-09T11:56:43.687697",
     "status": "completed"
    },
    "tags": []
   },
   "outputs": [
    {
     "name": "stdout",
     "output_type": "stream",
     "text": [
      "Missing values handled for all columns of train and test_copy except excluded ones.\n"
     ]
    }
   ],
   "source": [
    "import pandas as pd\n",
    "import ast\n",
    "\n",
    "def replace_missing_values_all_columns(df, excluded_columns=None):\n",
    "    missing_values_list = [None, 'N/A', 'nan', 'NaN', 'n/a', 'N/a', 'na', 'NA', '', ' ']\n",
    "\n",
    "    def clean_entry(entry):\n",
    "        if isinstance(entry, str) and entry.startswith('[') and entry.endswith(']'):\n",
    "            try:\n",
    "                entry = ast.literal_eval(entry)\n",
    "            except (ValueError, SyntaxError):\n",
    "                entry = []\n",
    "\n",
    "        if isinstance(entry, (list, pd.Series)):\n",
    "            entry_items = list(entry)\n",
    "        else:\n",
    "            entry_items = [entry]\n",
    "        \n",
    "        is_valid = any(item not in missing_values_list and not pd.isna(item) for item in entry_items)\n",
    "        \n",
    "        return entry if is_valid else 'missing'\n",
    "    \n",
    "    excluded_columns = excluded_columns or []\n",
    "    for column in df.columns:\n",
    "        if column not in excluded_columns:\n",
    "            df[column] = df[column].apply(lambda x: str(clean_entry(x)))\n",
    "    \n",
    "    return df\n",
    "\n",
    "# Example Usage\n",
    "excluded_columns = ['related_skils_in_job']\n",
    "\n",
    "train_copy = replace_missing_values_all_columns(train_copy, excluded_columns)\n",
    "test_copy = replace_missing_values_all_columns(test_copy, excluded_columns)\n",
    "\n",
    "print(\"Missing values handled for all columns of train and test_copy except excluded ones.\")\n"
   ]
  },
  {
   "cell_type": "code",
   "execution_count": 17,
   "id": "3483bf83",
   "metadata": {
    "execution": {
     "iopub.execute_input": "2025-01-09T11:56:45.739912Z",
     "iopub.status.busy": "2025-01-09T11:56:45.739538Z",
     "iopub.status.idle": "2025-01-09T11:56:46.411900Z",
     "shell.execute_reply": "2025-01-09T11:56:46.410796Z"
    },
    "papermill": {
     "duration": 0.690001,
     "end_time": "2025-01-09T11:56:46.414545",
     "exception": false,
     "start_time": "2025-01-09T11:56:45.724544",
     "status": "completed"
    },
    "tags": []
   },
   "outputs": [
    {
     "data": {
      "image/png": "[encoded data removed]",
      "text/plain": [
       "<Figure size 1200x600 with 1 Axes>"
      ]
     },
     "metadata": {},
     "output_type": "display_data"
    }
   ],
   "source": [
    "def plot_unique_value_counts(df, title=\"Unique Value Counts\"):\n",
    "    unique_counts = df.nunique().sort_values(ascending=False)\n",
    "    \n",
    "    plt.figure(figsize=(12, 6))\n",
    "    ax = unique_counts.plot(kind='bar', color='teal')\n",
    "    \n",
    "    # Add counts on top of each bar\n",
    "    for p in ax.patches:\n",
    "        ax.annotate(\n",
    "            str(int(p.get_height())), \n",
    "            (p.get_x() + p.get_width() / 2., p.get_height()), \n",
    "            ha='center', \n",
    "            va='bottom', \n",
    "            fontsize=10\n",
    "        )\n",
    "    \n",
    "    plt.title(title)\n",
    "    plt.xlabel('Columns')\n",
    "    plt.ylabel('Unique Values Count')\n",
    "    plt.xticks(rotation=90)\n",
    "    plt.tight_layout()\n",
    "    plt.show()\n",
    "\n",
    "# Example usage\n",
    "plot_unique_value_counts(train_copy, title=\"Unique Value Counts in Train Dataset\")\n"
   ]
  },
  {
   "cell_type": "code",
   "execution_count": 18,
   "id": "de5b16a0",
   "metadata": {
    "execution": {
     "iopub.execute_input": "2025-01-09T11:56:46.448200Z",
     "iopub.status.busy": "2025-01-09T11:56:46.447795Z",
     "iopub.status.idle": "2025-01-09T11:56:46.456039Z",
     "shell.execute_reply": "2025-01-09T11:56:46.454791Z"
    },
    "papermill": {
     "duration": 0.026751,
     "end_time": "2025-01-09T11:56:46.457619",
     "exception": false,
     "start_time": "2025-01-09T11:56:46.430868",
     "status": "completed"
    },
    "tags": []
   },
   "outputs": [
    {
     "name": "stdout",
     "output_type": "stream",
     "text": [
      "Unique entries in 'educationaL_requirements':\n",
      "['B.Sc in Computer Science & Engineering from a reputed university.', 'M.Sc in Computer Science & Engineering or in any relevant discipline from a reputed University', 'Master of Business Administration (MBA)', 'Bachelor/Honors', 'Bachelor of Science (BSc) in Computer Science', 'Bachelors or Masters degree in Computer Science, Engineering, or a related field.', 'Bachelor of Science (BSc) in Mechanical Engineering, Diploma in Mechanical', 'Bachelor’s degree in Mechanical Engineering from a reputed institute.', '•Bachelor of Business Administration (BBA) in Human Resource Management', 'Bachelor of Science (BSc) in Computer Science & Engineering', 'Diploma, Bachelor/Honors', 'Bachelor of Science (BSc)', 'BBA in Accounting and Finance', 'Master of Commerce (MCom) in Accounting, Must have CACC certification from any CA firm', 'Fresh graduates with a Bachelor’s degree in Mechanical Engineering or a related field.', '•Bachelor of Business Administration (BBA) in Human Resource Management\\n•BBA/MBA in HRM/Management from any reputed university.', 'Masters, Master of Business Administration (MBA), Master of Business Management (MBM)', 'B.Sc in Civil Engineering from a reputed university.', 'Masters degree in any discipline, Bachelor of Business Administration (BBA)', 'Bachelor of Science (BSc) in Civil Engineering']\n",
      "\n",
      "\n"
     ]
    }
   ],
   "source": [
    "def print_unique_entries(df, columns):\n",
    "    for column in columns:\n",
    "        if column in df.columns:\n",
    "            unique_values = df[column].unique()\n",
    "            print(f\"Unique entries in '{column}':\")\n",
    "            print(unique_values.tolist())\n",
    "            print(\"\\n\")\n",
    "        else:\n",
    "            print(f\"Column '{column}' not found in the DataFrame.\\n\")\n",
    "\n",
    "# Example usage\n",
    "columns_to_check = ['educationaL_requirements']\n",
    "print_unique_entries(train_copy, columns_to_check)\n"
   ]
  },
  {
   "cell_type": "markdown",
   "id": "c02107b9",
   "metadata": {
    "papermill": {
     "duration": 0.015588,
     "end_time": "2025-01-09T11:56:46.489118",
     "exception": false,
     "start_time": "2025-01-09T11:56:46.473530",
     "status": "completed"
    },
    "tags": []
   },
   "source": [
    "### Input coln vs Target coln"
   ]
  },
  {
   "cell_type": "code",
   "execution_count": 19,
   "id": "acca8cb1",
   "metadata": {
    "execution": {
     "iopub.execute_input": "2025-01-09T11:56:46.522154Z",
     "iopub.status.busy": "2025-01-09T11:56:46.521716Z",
     "iopub.status.idle": "2025-01-09T11:56:50.990460Z",
     "shell.execute_reply": "2025-01-09T11:56:50.989247Z"
    },
    "papermill": {
     "duration": 4.48977,
     "end_time": "2025-01-09T11:56:50.994601",
     "exception": false,
     "start_time": "2025-01-09T11:56:46.504831",
     "status": "completed"
    },
    "tags": []
   },
   "outputs": [
    {
     "data": {
      "image/png": "[encoded data removed]",
      "text/plain": [
       "<Figure size 1000x600 with 1 Axes>"
      ]
     },
     "metadata": {},
     "output_type": "display_data"
    }
   ],
   "source": [
    "def plot_columns_vs_matched_score(df, columns, target=\"matched_score\"):\n",
    "    for column in columns:\n",
    "        plt.figure(figsize=(10, 6))\n",
    "        sns.stripplot(data=df, y=column, x=target, palette=\"Set2\", alpha=0.7, jitter=True)\n",
    "        plt.title(f'Relationship between {target} and {column}')\n",
    "        plt.xlabel(target)\n",
    "        plt.ylabel(column)\n",
    "        plt.tight_layout()\n",
    "        plt.show()\n",
    "\n",
    "# Example usage:\n",
    "relation_cols = [\n",
    "    'educationaL_requirements'\n",
    "]\n",
    "\n",
    "plot_columns_vs_matched_score(train_copy, relation_cols)\n"
   ]
  },
  {
   "cell_type": "code",
   "execution_count": 20,
   "id": "a09caaac",
   "metadata": {
    "execution": {
     "iopub.execute_input": "2025-01-09T11:56:51.038836Z",
     "iopub.status.busy": "2025-01-09T11:56:51.038435Z",
     "iopub.status.idle": "2025-01-09T11:56:51.044873Z",
     "shell.execute_reply": "2025-01-09T11:56:51.043843Z"
    },
    "papermill": {
     "duration": 0.029966,
     "end_time": "2025-01-09T11:56:51.046376",
     "exception": false,
     "start_time": "2025-01-09T11:56:51.016410",
     "status": "completed"
    },
    "tags": []
   },
   "outputs": [
    {
     "data": {
      "text/plain": [
       "Index(['career_objective', 'skills', 'educational_institution_name',\n",
       "       'degree_names', 'passing_years', 'educational_results',\n",
       "       'major_field_of_studies', 'professional_company_names', 'start_dates',\n",
       "       'end_dates', 'related_skils_in_job', 'positions', 'locations',\n",
       "       'responsibilities', 'extra_curricular_activity_types',\n",
       "       'extra_curricular_organization_names', 'role_positions',\n",
       "       '_job_position_name', 'educationaL_requirements',\n",
       "       'experiencere_requirement', 'age_requirement', 'responsibilities_1',\n",
       "       'skills_required', 'matched_score'],\n",
       "      dtype='object')"
      ]
     },
     "execution_count": 20,
     "metadata": {},
     "output_type": "execute_result"
    }
   ],
   "source": [
    "train_copy.columns"
   ]
  },
  {
   "cell_type": "markdown",
   "id": "e7d278fd",
   "metadata": {
    "papermill": {
     "duration": 0.020797,
     "end_time": "2025-01-09T11:56:51.088778",
     "exception": false,
     "start_time": "2025-01-09T11:56:51.067981",
     "status": "completed"
    },
    "tags": []
   },
   "source": [
    "# Date and Numeric cols Extraction"
   ]
  },
  {
   "cell_type": "code",
   "execution_count": 21,
   "id": "11ca33ec",
   "metadata": {
    "execution": {
     "iopub.execute_input": "2025-01-09T11:56:51.133387Z",
     "iopub.status.busy": "2025-01-09T11:56:51.132949Z",
     "iopub.status.idle": "2025-01-09T11:56:51.138762Z",
     "shell.execute_reply": "2025-01-09T11:56:51.137522Z"
    },
    "papermill": {
     "duration": 0.030256,
     "end_time": "2025-01-09T11:56:51.140406",
     "exception": false,
     "start_time": "2025-01-09T11:56:51.110150",
     "status": "completed"
    },
    "tags": []
   },
   "outputs": [
    {
     "name": "stdout",
     "output_type": "stream",
     "text": [
      "(7635, 24)\n",
      "(1909, 23)\n"
     ]
    }
   ],
   "source": [
    "print(train_copy.shape)\n",
    "print(test_copy.shape)"
   ]
  },
  {
   "cell_type": "code",
   "execution_count": 22,
   "id": "98bbfe92",
   "metadata": {
    "execution": {
     "iopub.execute_input": "2025-01-09T11:56:51.186214Z",
     "iopub.status.busy": "2025-01-09T11:56:51.185795Z",
     "iopub.status.idle": "2025-01-09T11:56:51.190151Z",
     "shell.execute_reply": "2025-01-09T11:56:51.188981Z"
    },
    "papermill": {
     "duration": 0.029444,
     "end_time": "2025-01-09T11:56:51.192054",
     "exception": false,
     "start_time": "2025-01-09T11:56:51.162610",
     "status": "completed"
    },
    "tags": []
   },
   "outputs": [],
   "source": [
    "numeric_cols = []"
   ]
  },
  {
   "cell_type": "code",
   "execution_count": 23,
   "id": "2274114d",
   "metadata": {
    "execution": {
     "iopub.execute_input": "2025-01-09T11:56:51.237103Z",
     "iopub.status.busy": "2025-01-09T11:56:51.236699Z",
     "iopub.status.idle": "2025-01-09T11:56:51.248746Z",
     "shell.execute_reply": "2025-01-09T11:56:51.247569Z"
    },
    "papermill": {
     "duration": 0.03692,
     "end_time": "2025-01-09T11:56:51.250587",
     "exception": false,
     "start_time": "2025-01-09T11:56:51.213667",
     "status": "completed"
    },
    "tags": []
   },
   "outputs": [
    {
     "data": {
      "text/html": [
       "<div>\n",
       "<style scoped>\n",
       "    .dataframe tbody tr th:only-of-type {\n",
       "        vertical-align: middle;\n",
       "    }\n",
       "\n",
       "    .dataframe tbody tr th {\n",
       "        vertical-align: top;\n",
       "    }\n",
       "\n",
       "    .dataframe thead th {\n",
       "        text-align: right;\n",
       "    }\n",
       "</style>\n",
       "<table border=\"1\" class=\"dataframe\">\n",
       "  <thead>\n",
       "    <tr style=\"text-align: right;\">\n",
       "      <th></th>\n",
       "      <th>start_dates</th>\n",
       "      <th>end_dates</th>\n",
       "      <th>experiencere_requirement</th>\n",
       "    </tr>\n",
       "  </thead>\n",
       "  <tbody>\n",
       "    <tr>\n",
       "      <th>0</th>\n",
       "      <td>['Nov 2019']</td>\n",
       "      <td>['Till Date']</td>\n",
       "      <td>At least 1 year</td>\n",
       "    </tr>\n",
       "    <tr>\n",
       "      <th>1</th>\n",
       "      <td>['Sep 2019']</td>\n",
       "      <td>['Till Date']</td>\n",
       "      <td>At least 5 year(s)</td>\n",
       "    </tr>\n",
       "    <tr>\n",
       "      <th>2</th>\n",
       "      <td>['June 2018']</td>\n",
       "      <td>['Till Date']</td>\n",
       "      <td>At least 3 years</td>\n",
       "    </tr>\n",
       "    <tr>\n",
       "      <th>3</th>\n",
       "      <td>['January 2011', 'January 2008', 'January 2006', 'January 2004', 'January 2001', 'N/A']</td>\n",
       "      <td>['November 2015', 'January 2010', 'January 2008', 'January 2006', 'January 2004', None]</td>\n",
       "      <td>1 to 3 years</td>\n",
       "    </tr>\n",
       "    <tr>\n",
       "      <th>4</th>\n",
       "      <td>['January 2016', 'January 2016', 'January 2012', 'January 2009', 'January 2006']</td>\n",
       "      <td>['Current', 'January 2016', 'January 2015', 'January 2011', 'January 2009']</td>\n",
       "      <td>At least 4 years</td>\n",
       "    </tr>\n",
       "    <tr>\n",
       "      <th>5</th>\n",
       "      <td>['August 2006', 'August 2013', 'July 2014']</td>\n",
       "      <td>['January 2013', 'September 2014', 'Current']</td>\n",
       "      <td>missing</td>\n",
       "    </tr>\n",
       "    <tr>\n",
       "      <th>6</th>\n",
       "      <td>['Jan 2019']</td>\n",
       "      <td>['Sep 2019']</td>\n",
       "      <td>At least 4 years</td>\n",
       "    </tr>\n",
       "    <tr>\n",
       "      <th>7</th>\n",
       "      <td>['January 2013', 'January 2011', 'January 2005']</td>\n",
       "      <td>['Current', 'January 2012', 'January 2011']</td>\n",
       "      <td>At least 4 years</td>\n",
       "    </tr>\n",
       "    <tr>\n",
       "      <th>8</th>\n",
       "      <td>['Jun 2019']</td>\n",
       "      <td>['till date']</td>\n",
       "      <td>2 to 5 years</td>\n",
       "    </tr>\n",
       "    <tr>\n",
       "      <th>9</th>\n",
       "      <td>['Jan 2019']</td>\n",
       "      <td>['Till Date']</td>\n",
       "      <td>1 to 3 years</td>\n",
       "    </tr>\n",
       "  </tbody>\n",
       "</table>\n",
       "</div>"
      ],
      "text/plain": [
       "                                                                               start_dates  \\\n",
       "0                                                                             ['Nov 2019']   \n",
       "1                                                                             ['Sep 2019']   \n",
       "2                                                                            ['June 2018']   \n",
       "3  ['January 2011', 'January 2008', 'January 2006', 'January 2004', 'January 2001', 'N/A']   \n",
       "4         ['January 2016', 'January 2016', 'January 2012', 'January 2009', 'January 2006']   \n",
       "5                                              ['August 2006', 'August 2013', 'July 2014']   \n",
       "6                                                                             ['Jan 2019']   \n",
       "7                                         ['January 2013', 'January 2011', 'January 2005']   \n",
       "8                                                                             ['Jun 2019']   \n",
       "9                                                                             ['Jan 2019']   \n",
       "\n",
       "                                                                                 end_dates  \\\n",
       "0                                                                            ['Till Date']   \n",
       "1                                                                            ['Till Date']   \n",
       "2                                                                            ['Till Date']   \n",
       "3  ['November 2015', 'January 2010', 'January 2008', 'January 2006', 'January 2004', None]   \n",
       "4              ['Current', 'January 2016', 'January 2015', 'January 2011', 'January 2009']   \n",
       "5                                            ['January 2013', 'September 2014', 'Current']   \n",
       "6                                                                             ['Sep 2019']   \n",
       "7                                              ['Current', 'January 2012', 'January 2011']   \n",
       "8                                                                            ['till date']   \n",
       "9                                                                            ['Till Date']   \n",
       "\n",
       "  experiencere_requirement  \n",
       "0          At least 1 year  \n",
       "1       At least 5 year(s)  \n",
       "2         At least 3 years  \n",
       "3             1 to 3 years  \n",
       "4         At least 4 years  \n",
       "5                  missing  \n",
       "6         At least 4 years  \n",
       "7         At least 4 years  \n",
       "8             2 to 5 years  \n",
       "9             1 to 3 years  "
      ]
     },
     "execution_count": 23,
     "metadata": {},
     "output_type": "execute_result"
    }
   ],
   "source": [
    "pd.set_option('display.max_colwidth', None)\n",
    "train_copy[['start_dates', 'end_dates', 'experiencere_requirement']].head(10)\n"
   ]
  },
  {
   "cell_type": "code",
   "execution_count": 24,
   "id": "dfd2fd9b",
   "metadata": {
    "execution": {
     "iopub.execute_input": "2025-01-09T11:56:51.295642Z",
     "iopub.status.busy": "2025-01-09T11:56:51.295239Z",
     "iopub.status.idle": "2025-01-09T11:56:51.307160Z",
     "shell.execute_reply": "2025-01-09T11:56:51.306028Z"
    },
    "papermill": {
     "duration": 0.036595,
     "end_time": "2025-01-09T11:56:51.309100",
     "exception": false,
     "start_time": "2025-01-09T11:56:51.272505",
     "status": "completed"
    },
    "tags": []
   },
   "outputs": [],
   "source": [
    "def parse_date(date_str: str):\n",
    "   if not isinstance(date_str, str):\n",
    "       return None \n",
    "       \n",
    "   # Clean input\n",
    "   date_str = date_str.strip().lower()\n",
    "   \n",
    "   # Handle special cases\n",
    "   special_cases = {'current', 'present', 'ongoing', 'till date', 'till date', '∞', 'n/a'}\n",
    "   if date_str in special_cases:\n",
    "       return (6, 2022)\n",
    "\n",
    "   if date_str == \"missing\":\n",
    "        return (6, 2022)\n",
    "\n",
    "       \n",
    "   # Rest of the function remains same as before\n",
    "   # Handle cases ending with XX or xx\n",
    "   if date_str.endswith('xx'):\n",
    "       return None\n",
    "       \n",
    "   # Dictionary for month names\n",
    "   month_names = {\n",
    "       'jan': 1, 'january': 1,\n",
    "       'feb': 2, 'february': 2,\n",
    "       'mar': 3, 'march': 3,\n",
    "       'apr': 4, 'april': 4,\n",
    "       'may': 5,\n",
    "       'jun': 6, 'june': 6,\n",
    "       'jul': 7, 'july': 7,\n",
    "       'aug': 8, 'august': 8,\n",
    "       'sep': 9, 'sept': 9, 'september': 9,\n",
    "       'oct': 10, 'october': 10,\n",
    "       'nov': 11, 'november': 11,\n",
    "       'dec': 12, 'december': 12\n",
    "   }\n",
    "   \n",
    "   # Patterns for different date formats\n",
    "   patterns = [\n",
    "       # MM/YYYY or M/YYYY\n",
    "       r'^(\\d{1,2})/(\\d{4})$',\n",
    "       # Month YYYY or Month. YYYY\n",
    "       r'^([a-z]+\\.?\\s+)(\\d{4})$',\n",
    "       # Month DD, YYYY\n",
    "       r'^([a-z]+\\.?\\s+)\\d{1,2},\\s*(\\d{4})$',\n",
    "       # YYYY only\n",
    "       r'^(\\d{4})$',\n",
    "       # Season YYYY\n",
    "       r'^(spring|summer|fall|winter)\\s+(\\d{4})$'\n",
    "   ]\n",
    "   \n",
    "   # Try each pattern\n",
    "   for pattern in patterns:\n",
    "       match = re.match(pattern, date_str)\n",
    "       if match:\n",
    "           groups = match.groups()\n",
    "           \n",
    "           # Handle MM/YYYY format\n",
    "           if '/' in date_str:\n",
    "               month = int(groups[0])\n",
    "               year = int(groups[1])\n",
    "               return (month, year) if 1 <= month <= 12 else None\n",
    "           \n",
    "           # Handle year-only format\n",
    "           elif len(groups) == 1:\n",
    "               year = int(groups[0])\n",
    "               return None if year < 1900 else (1, year)\n",
    "           \n",
    "           # Handle month name formats\n",
    "           else:\n",
    "               month_str = groups[0].strip('. ').lower()\n",
    "               year = int(groups[1])\n",
    "               \n",
    "               if month_str in month_names:\n",
    "                   return (month_names[month_str], year)\n",
    "                   \n",
    "   return None\n",
    "\n",
    "\n",
    "import ast\n",
    "\n",
    "def safe_eval(value):\n",
    "    try:\n",
    "        if isinstance(value, str):\n",
    "            return ast.literal_eval(value)\n",
    "        return value\n",
    "    except (ValueError, SyntaxError):\n",
    "        return None\n"
   ]
  },
  {
   "cell_type": "code",
   "execution_count": 25,
   "id": "53ddfeec",
   "metadata": {
    "execution": {
     "iopub.execute_input": "2025-01-09T11:56:51.355205Z",
     "iopub.status.busy": "2025-01-09T11:56:51.354791Z",
     "iopub.status.idle": "2025-01-09T11:56:51.361670Z",
     "shell.execute_reply": "2025-01-09T11:56:51.360585Z"
    },
    "papermill": {
     "duration": 0.031636,
     "end_time": "2025-01-09T11:56:51.363309",
     "exception": false,
     "start_time": "2025-01-09T11:56:51.331673",
     "status": "completed"
    },
    "tags": []
   },
   "outputs": [],
   "source": [
    "def calculate_experience_duration(row):\n",
    "    start_dates = safe_eval(row['start_dates'])\n",
    "    end_dates = safe_eval(row['end_dates'])\n",
    "    \n",
    "    total_months = 0\n",
    "\n",
    "    if not (isinstance(start_dates, list) and isinstance(end_dates, list)):\n",
    "        return 0\n",
    "    \n",
    "    for start_str, end_str in zip(start_dates, end_dates):\n",
    "        if start_str == \"missing\" or end_str == \"missing\":\n",
    "            continue\n",
    "        \n",
    "        start_tuple = parse_date(start_str)\n",
    "        end_tuple = parse_date(end_str)\n",
    "        \n",
    "        if start_tuple and end_tuple:\n",
    "            start_month, start_year = start_tuple\n",
    "            end_month, end_year = end_tuple\n",
    "            \n",
    "            months = (end_year - start_year) * 12 + (end_month - start_month)\n",
    "            if months > 0:\n",
    "                total_months += months\n",
    "    \n",
    "    return total_months\n",
    "\n",
    "\n",
    "# Example usage:\n",
    "# Assuming you have a DataFrame with 'start_dates' and 'end_dates' columns\n",
    "def process_experience_data(df):\n",
    "    df_copy = df.copy()\n",
    "    df_copy['duration_months'] = df_copy.apply(calculate_experience_duration, axis=1)\n",
    "    df_copy['duration_years'] = df_copy['duration_months'] / 12\n",
    "    return df_copy\n"
   ]
  },
  {
   "cell_type": "code",
   "execution_count": 26,
   "id": "0e4158ea",
   "metadata": {
    "execution": {
     "iopub.execute_input": "2025-01-09T11:56:51.409353Z",
     "iopub.status.busy": "2025-01-09T11:56:51.408933Z",
     "iopub.status.idle": "2025-01-09T11:56:52.003595Z",
     "shell.execute_reply": "2025-01-09T11:56:52.002466Z"
    },
    "papermill": {
     "duration": 0.619358,
     "end_time": "2025-01-09T11:56:52.005312",
     "exception": false,
     "start_time": "2025-01-09T11:56:51.385954",
     "status": "completed"
    },
    "tags": []
   },
   "outputs": [
    {
     "data": {
      "text/html": [
       "<div>\n",
       "<style scoped>\n",
       "    .dataframe tbody tr th:only-of-type {\n",
       "        vertical-align: middle;\n",
       "    }\n",
       "\n",
       "    .dataframe tbody tr th {\n",
       "        vertical-align: top;\n",
       "    }\n",
       "\n",
       "    .dataframe thead th {\n",
       "        text-align: right;\n",
       "    }\n",
       "</style>\n",
       "<table border=\"1\" class=\"dataframe\">\n",
       "  <thead>\n",
       "    <tr style=\"text-align: right;\">\n",
       "      <th></th>\n",
       "      <th>start_dates</th>\n",
       "      <th>end_dates</th>\n",
       "      <th>duration_months</th>\n",
       "      <th>duration_years</th>\n",
       "    </tr>\n",
       "  </thead>\n",
       "  <tbody>\n",
       "    <tr>\n",
       "      <th>0</th>\n",
       "      <td>['Nov 2019']</td>\n",
       "      <td>['Till Date']</td>\n",
       "      <td>31</td>\n",
       "      <td>2.583333</td>\n",
       "    </tr>\n",
       "    <tr>\n",
       "      <th>1</th>\n",
       "      <td>['Sep 2019']</td>\n",
       "      <td>['Till Date']</td>\n",
       "      <td>33</td>\n",
       "      <td>2.750000</td>\n",
       "    </tr>\n",
       "    <tr>\n",
       "      <th>2</th>\n",
       "      <td>['June 2018']</td>\n",
       "      <td>['Till Date']</td>\n",
       "      <td>48</td>\n",
       "      <td>4.000000</td>\n",
       "    </tr>\n",
       "    <tr>\n",
       "      <th>3</th>\n",
       "      <td>['January 2011', 'January 2008', 'January 2006', 'January 2004', 'January 2001', 'N/A']</td>\n",
       "      <td>['November 2015', 'January 2010', 'January 2008', 'January 2006', 'January 2004', None]</td>\n",
       "      <td>166</td>\n",
       "      <td>13.833333</td>\n",
       "    </tr>\n",
       "    <tr>\n",
       "      <th>4</th>\n",
       "      <td>['January 2016', 'January 2016', 'January 2012', 'January 2009', 'January 2006']</td>\n",
       "      <td>['Current', 'January 2016', 'January 2015', 'January 2011', 'January 2009']</td>\n",
       "      <td>173</td>\n",
       "      <td>14.416667</td>\n",
       "    </tr>\n",
       "    <tr>\n",
       "      <th>5</th>\n",
       "      <td>['August 2006', 'August 2013', 'July 2014']</td>\n",
       "      <td>['January 2013', 'September 2014', 'Current']</td>\n",
       "      <td>185</td>\n",
       "      <td>15.416667</td>\n",
       "    </tr>\n",
       "    <tr>\n",
       "      <th>6</th>\n",
       "      <td>['Jan 2019']</td>\n",
       "      <td>['Sep 2019']</td>\n",
       "      <td>8</td>\n",
       "      <td>0.666667</td>\n",
       "    </tr>\n",
       "    <tr>\n",
       "      <th>7</th>\n",
       "      <td>['January 2013', 'January 2011', 'January 2005']</td>\n",
       "      <td>['Current', 'January 2012', 'January 2011']</td>\n",
       "      <td>197</td>\n",
       "      <td>16.416667</td>\n",
       "    </tr>\n",
       "    <tr>\n",
       "      <th>8</th>\n",
       "      <td>['Jun 2019']</td>\n",
       "      <td>['till date']</td>\n",
       "      <td>36</td>\n",
       "      <td>3.000000</td>\n",
       "    </tr>\n",
       "    <tr>\n",
       "      <th>9</th>\n",
       "      <td>['Jan 2019']</td>\n",
       "      <td>['Till Date']</td>\n",
       "      <td>41</td>\n",
       "      <td>3.416667</td>\n",
       "    </tr>\n",
       "  </tbody>\n",
       "</table>\n",
       "</div>"
      ],
      "text/plain": [
       "                                                                               start_dates  \\\n",
       "0                                                                             ['Nov 2019']   \n",
       "1                                                                             ['Sep 2019']   \n",
       "2                                                                            ['June 2018']   \n",
       "3  ['January 2011', 'January 2008', 'January 2006', 'January 2004', 'January 2001', 'N/A']   \n",
       "4         ['January 2016', 'January 2016', 'January 2012', 'January 2009', 'January 2006']   \n",
       "5                                              ['August 2006', 'August 2013', 'July 2014']   \n",
       "6                                                                             ['Jan 2019']   \n",
       "7                                         ['January 2013', 'January 2011', 'January 2005']   \n",
       "8                                                                             ['Jun 2019']   \n",
       "9                                                                             ['Jan 2019']   \n",
       "\n",
       "                                                                                 end_dates  \\\n",
       "0                                                                            ['Till Date']   \n",
       "1                                                                            ['Till Date']   \n",
       "2                                                                            ['Till Date']   \n",
       "3  ['November 2015', 'January 2010', 'January 2008', 'January 2006', 'January 2004', None]   \n",
       "4              ['Current', 'January 2016', 'January 2015', 'January 2011', 'January 2009']   \n",
       "5                                            ['January 2013', 'September 2014', 'Current']   \n",
       "6                                                                             ['Sep 2019']   \n",
       "7                                              ['Current', 'January 2012', 'January 2011']   \n",
       "8                                                                            ['till date']   \n",
       "9                                                                            ['Till Date']   \n",
       "\n",
       "   duration_months  duration_years  \n",
       "0               31        2.583333  \n",
       "1               33        2.750000  \n",
       "2               48        4.000000  \n",
       "3              166       13.833333  \n",
       "4              173       14.416667  \n",
       "5              185       15.416667  \n",
       "6                8        0.666667  \n",
       "7              197       16.416667  \n",
       "8               36        3.000000  \n",
       "9               41        3.416667  "
      ]
     },
     "execution_count": 26,
     "metadata": {},
     "output_type": "execute_result"
    }
   ],
   "source": [
    "date_numeric_cols = ['duration_months', 'duration_years']\n",
    "date_cols = ['start_dates', 'end_dates']\n",
    "\n",
    "numeric_cols += date_numeric_cols\n",
    "train_copy = process_experience_data(train_copy)\n",
    "test_copy = process_experience_data(test_copy)\n",
    "\n",
    "\n",
    "train_copy.head(10)[date_cols+date_numeric_cols]"
   ]
  },
  {
   "cell_type": "code",
   "execution_count": 27,
   "id": "ee32e97c",
   "metadata": {
    "execution": {
     "iopub.execute_input": "2025-01-09T11:56:52.050938Z",
     "iopub.status.busy": "2025-01-09T11:56:52.050587Z",
     "iopub.status.idle": "2025-01-09T11:56:52.056857Z",
     "shell.execute_reply": "2025-01-09T11:56:52.055796Z"
    },
    "papermill": {
     "duration": 0.030538,
     "end_time": "2025-01-09T11:56:52.058394",
     "exception": false,
     "start_time": "2025-01-09T11:56:52.027856",
     "status": "completed"
    },
    "tags": []
   },
   "outputs": [
    {
     "data": {
      "text/plain": [
       "Index(['career_objective', 'skills', 'educational_institution_name',\n",
       "       'degree_names', 'passing_years', 'educational_results',\n",
       "       'major_field_of_studies', 'professional_company_names', 'start_dates',\n",
       "       'end_dates', 'related_skils_in_job', 'positions', 'locations',\n",
       "       'responsibilities', 'extra_curricular_activity_types',\n",
       "       'extra_curricular_organization_names', 'role_positions',\n",
       "       '_job_position_name', 'educationaL_requirements',\n",
       "       'experiencere_requirement', 'age_requirement', 'responsibilities_1',\n",
       "       'skills_required', 'matched_score', 'duration_months',\n",
       "       'duration_years'],\n",
       "      dtype='object')"
      ]
     },
     "execution_count": 27,
     "metadata": {},
     "output_type": "execute_result"
    }
   ],
   "source": [
    "train_copy.columns"
   ]
  },
  {
   "cell_type": "code",
   "execution_count": 28,
   "id": "5a28d5f7",
   "metadata": {
    "execution": {
     "iopub.execute_input": "2025-01-09T11:56:52.104846Z",
     "iopub.status.busy": "2025-01-09T11:56:52.104498Z",
     "iopub.status.idle": "2025-01-09T11:56:52.113805Z",
     "shell.execute_reply": "2025-01-09T11:56:52.112694Z"
    },
    "papermill": {
     "duration": 0.035002,
     "end_time": "2025-01-09T11:56:52.115542",
     "exception": false,
     "start_time": "2025-01-09T11:56:52.080540",
     "status": "completed"
    },
    "tags": []
   },
   "outputs": [],
   "source": [
    "def parse_requirements(df):   \n",
    "    def parse_experience(text):\n",
    "        if pd.isna(text):\n",
    "            return None, None\n",
    "            \n",
    "        # Convert to string to ensure string operations work\n",
    "        text = str(text).lower().strip()\n",
    "        \n",
    "        # Handle \"At least X year(s)\" format\n",
    "        if \"at least\" in text:\n",
    "            years = re.findall(r'(\\d+)', text)[0]\n",
    "            return float(years), None\n",
    "            \n",
    "        # Handle \"X to Y years\" format\n",
    "        elif \"to\" in text:\n",
    "            numbers = re.findall(r'(\\d+)', text)\n",
    "            return float(numbers[0]), float(numbers[1])\n",
    "            \n",
    "        return None, None\n",
    "\n",
    "    def parse_age(text):\n",
    "        if pd.isna(text):\n",
    "            return None, None\n",
    "            \n",
    "        text = str(text).lower().strip()\n",
    "        \n",
    "        # Handle \"Age at least X years\" format\n",
    "        if \"at least\" in text:\n",
    "            years = re.findall(r'(\\d+)', text)[0]\n",
    "            return float(years), None\n",
    "            \n",
    "        # Handle \"Age at most X years\" format\n",
    "        elif \"at most\" in text:\n",
    "            years = re.findall(r'(\\d+)', text)[0]\n",
    "            return None, float(years)\n",
    "            \n",
    "        # Handle \"Age X to Y years\" format\n",
    "        elif \"to\" in text:\n",
    "            numbers = re.findall(r'(\\d+)', text)\n",
    "            return float(numbers[0]), float(numbers[1])\n",
    "            \n",
    "        return None, None\n",
    "\n",
    "    # Create new columns for experience requirements\n",
    "    df['experience_min_years'], df['experience_max_years'] = zip(*df['experiencere_requirement'].apply(parse_experience))\n",
    "    df['experience_min_months'] = df['experience_min_years']*12\n",
    "    df['experience_max_months'] = df['experience_max_years']*12\n",
    "    \n",
    "    # Create new columns for age requirements\n",
    "    df['age_min_years'], df['age_max_years'] = zip(*df['age_requirement'].apply(parse_age))\n",
    "    \n",
    "    return df\n",
    "\n",
    "\n",
    "\n",
    "req_numeric_cols = ['experience_min_years', 'experience_max_years', 'experience_min_months', 'experience_max_months','age_min_years','age_max_years']\n",
    "numeric_cols += req_numeric_cols\n"
   ]
  },
  {
   "cell_type": "code",
   "execution_count": 29,
   "id": "c0787a1c",
   "metadata": {
    "execution": {
     "iopub.execute_input": "2025-01-09T11:56:52.161271Z",
     "iopub.status.busy": "2025-01-09T11:56:52.160887Z",
     "iopub.status.idle": "2025-01-09T11:56:52.166972Z",
     "shell.execute_reply": "2025-01-09T11:56:52.165923Z"
    },
    "papermill": {
     "duration": 0.031242,
     "end_time": "2025-01-09T11:56:52.168726",
     "exception": false,
     "start_time": "2025-01-09T11:56:52.137484",
     "status": "completed"
    },
    "tags": []
   },
   "outputs": [
    {
     "data": {
      "text/plain": [
       "Index(['career_objective', 'skills', 'educational_institution_name',\n",
       "       'degree_names', 'passing_years', 'educational_results',\n",
       "       'major_field_of_studies', 'professional_company_names', 'start_dates',\n",
       "       'end_dates', 'related_skils_in_job', 'positions', 'locations',\n",
       "       'responsibilities', 'extra_curricular_activity_types',\n",
       "       'extra_curricular_organization_names', 'role_positions',\n",
       "       '_job_position_name', 'educationaL_requirements',\n",
       "       'experiencere_requirement', 'age_requirement', 'responsibilities_1',\n",
       "       'skills_required', 'matched_score', 'duration_months',\n",
       "       'duration_years'],\n",
       "      dtype='object')"
      ]
     },
     "execution_count": 29,
     "metadata": {},
     "output_type": "execute_result"
    }
   ],
   "source": [
    "train_copy.columns"
   ]
  },
  {
   "cell_type": "code",
   "execution_count": 30,
   "id": "1adb2936",
   "metadata": {
    "execution": {
     "iopub.execute_input": "2025-01-09T11:56:52.215282Z",
     "iopub.status.busy": "2025-01-09T11:56:52.214874Z",
     "iopub.status.idle": "2025-01-09T11:56:52.297158Z",
     "shell.execute_reply": "2025-01-09T11:56:52.295999Z"
    },
    "papermill": {
     "duration": 0.107768,
     "end_time": "2025-01-09T11:56:52.298978",
     "exception": false,
     "start_time": "2025-01-09T11:56:52.191210",
     "status": "completed"
    },
    "tags": []
   },
   "outputs": [
    {
     "data": {
      "text/html": [
       "<div>\n",
       "<style scoped>\n",
       "    .dataframe tbody tr th:only-of-type {\n",
       "        vertical-align: middle;\n",
       "    }\n",
       "\n",
       "    .dataframe tbody tr th {\n",
       "        vertical-align: top;\n",
       "    }\n",
       "\n",
       "    .dataframe thead th {\n",
       "        text-align: right;\n",
       "    }\n",
       "</style>\n",
       "<table border=\"1\" class=\"dataframe\">\n",
       "  <thead>\n",
       "    <tr style=\"text-align: right;\">\n",
       "      <th></th>\n",
       "      <th>age_requirement</th>\n",
       "      <th>experiencere_requirement</th>\n",
       "      <th>start_dates</th>\n",
       "      <th>end_dates</th>\n",
       "      <th>duration_months</th>\n",
       "      <th>duration_years</th>\n",
       "      <th>experience_min_years</th>\n",
       "      <th>experience_max_years</th>\n",
       "      <th>experience_min_months</th>\n",
       "      <th>experience_max_months</th>\n",
       "      <th>age_min_years</th>\n",
       "      <th>age_max_years</th>\n",
       "    </tr>\n",
       "  </thead>\n",
       "  <tbody>\n",
       "    <tr>\n",
       "      <th>7633</th>\n",
       "      <td>Age 25 to 40 years</td>\n",
       "      <td>2 to 5 years</td>\n",
       "      <td>['October 2012', 'April 2011', 'July 2008', 'August 2005']</td>\n",
       "      <td>['October 2014', 'October 2012', 'April 2011', 'July 2008']</td>\n",
       "      <td>110</td>\n",
       "      <td>9.166667</td>\n",
       "      <td>2.0</td>\n",
       "      <td>5.0</td>\n",
       "      <td>24.0</td>\n",
       "      <td>60.0</td>\n",
       "      <td>25.0</td>\n",
       "      <td>40.0</td>\n",
       "    </tr>\n",
       "    <tr>\n",
       "      <th>7634</th>\n",
       "      <td>Age 25 to 40 years</td>\n",
       "      <td>2 to 5 years</td>\n",
       "      <td>['02/2018', '08/2011', '03/2001']</td>\n",
       "      <td>['Current', '02/2018', 'Current']</td>\n",
       "      <td>385</td>\n",
       "      <td>32.083333</td>\n",
       "      <td>2.0</td>\n",
       "      <td>5.0</td>\n",
       "      <td>24.0</td>\n",
       "      <td>60.0</td>\n",
       "      <td>25.0</td>\n",
       "      <td>40.0</td>\n",
       "    </tr>\n",
       "  </tbody>\n",
       "</table>\n",
       "</div>"
      ],
      "text/plain": [
       "         age_requirement experiencere_requirement  \\\n",
       "7633  Age 25 to 40 years             2 to 5 years   \n",
       "7634  Age 25 to 40 years             2 to 5 years   \n",
       "\n",
       "                                                     start_dates  \\\n",
       "7633  ['October 2012', 'April 2011', 'July 2008', 'August 2005']   \n",
       "7634                           ['02/2018', '08/2011', '03/2001']   \n",
       "\n",
       "                                                        end_dates  \\\n",
       "7633  ['October 2014', 'October 2012', 'April 2011', 'July 2008']   \n",
       "7634                            ['Current', '02/2018', 'Current']   \n",
       "\n",
       "      duration_months  duration_years  experience_min_years  \\\n",
       "7633              110        9.166667                   2.0   \n",
       "7634              385       32.083333                   2.0   \n",
       "\n",
       "      experience_max_years  experience_min_months  experience_max_months  \\\n",
       "7633                   5.0                   24.0                   60.0   \n",
       "7634                   5.0                   24.0                   60.0   \n",
       "\n",
       "      age_min_years  age_max_years  \n",
       "7633           25.0           40.0  \n",
       "7634           25.0           40.0  "
      ]
     },
     "execution_count": 30,
     "metadata": {},
     "output_type": "execute_result"
    }
   ],
   "source": [
    "train_copy = parse_requirements(train_copy)\n",
    "test_copy = parse_requirements(test_copy)\n",
    "\n",
    "columns_to_select = ['age_requirement', 'experiencere_requirement','start_dates','end_dates'] + numeric_cols\n",
    "train_copy[columns_to_select].tail(2) "
   ]
  },
  {
   "cell_type": "code",
   "execution_count": 31,
   "id": "9a25eaf7",
   "metadata": {
    "execution": {
     "iopub.execute_input": "2025-01-09T11:56:52.347607Z",
     "iopub.status.busy": "2025-01-09T11:56:52.347183Z",
     "iopub.status.idle": "2025-01-09T11:56:52.353128Z",
     "shell.execute_reply": "2025-01-09T11:56:52.352150Z"
    },
    "papermill": {
     "duration": 0.031177,
     "end_time": "2025-01-09T11:56:52.354775",
     "exception": false,
     "start_time": "2025-01-09T11:56:52.323598",
     "status": "completed"
    },
    "tags": []
   },
   "outputs": [
    {
     "data": {
      "text/plain": [
       "['duration_months',\n",
       " 'duration_years',\n",
       " 'experience_min_years',\n",
       " 'experience_max_years',\n",
       " 'experience_min_months',\n",
       " 'experience_max_months',\n",
       " 'age_min_years',\n",
       " 'age_max_years']"
      ]
     },
     "execution_count": 31,
     "metadata": {},
     "output_type": "execute_result"
    }
   ],
   "source": [
    "numeric_cols = date_numeric_cols + req_numeric_cols\n",
    "numeric_cols"
   ]
  },
  {
   "cell_type": "code",
   "execution_count": 32,
   "id": "2bd4c4bd",
   "metadata": {
    "execution": {
     "iopub.execute_input": "2025-01-09T11:56:52.402202Z",
     "iopub.status.busy": "2025-01-09T11:56:52.401818Z",
     "iopub.status.idle": "2025-01-09T11:56:52.431292Z",
     "shell.execute_reply": "2025-01-09T11:56:52.430222Z"
    },
    "papermill": {
     "duration": 0.055826,
     "end_time": "2025-01-09T11:56:52.433239",
     "exception": false,
     "start_time": "2025-01-09T11:56:52.377413",
     "status": "completed"
    },
    "tags": []
   },
   "outputs": [
    {
     "data": {
      "text/html": [
       "<div>\n",
       "<style scoped>\n",
       "    .dataframe tbody tr th:only-of-type {\n",
       "        vertical-align: middle;\n",
       "    }\n",
       "\n",
       "    .dataframe tbody tr th {\n",
       "        vertical-align: top;\n",
       "    }\n",
       "\n",
       "    .dataframe thead th {\n",
       "        text-align: right;\n",
       "    }\n",
       "</style>\n",
       "<table border=\"1\" class=\"dataframe\">\n",
       "  <thead>\n",
       "    <tr style=\"text-align: right;\">\n",
       "      <th></th>\n",
       "      <th>duration_months</th>\n",
       "      <th>duration_years</th>\n",
       "      <th>experience_min_years</th>\n",
       "      <th>experience_max_years</th>\n",
       "      <th>experience_min_months</th>\n",
       "      <th>experience_max_months</th>\n",
       "      <th>age_min_years</th>\n",
       "      <th>age_max_years</th>\n",
       "    </tr>\n",
       "  </thead>\n",
       "  <tbody>\n",
       "    <tr>\n",
       "      <th>7625</th>\n",
       "      <td>209</td>\n",
       "      <td>17.416667</td>\n",
       "      <td>2.0</td>\n",
       "      <td>5.000000</td>\n",
       "      <td>24.0</td>\n",
       "      <td>60.000000</td>\n",
       "      <td>25.000000</td>\n",
       "      <td>40.000000</td>\n",
       "    </tr>\n",
       "    <tr>\n",
       "      <th>7626</th>\n",
       "      <td>30</td>\n",
       "      <td>2.500000</td>\n",
       "      <td>1.0</td>\n",
       "      <td>5.270569</td>\n",
       "      <td>12.0</td>\n",
       "      <td>63.246823</td>\n",
       "      <td>24.589597</td>\n",
       "      <td>36.942673</td>\n",
       "    </tr>\n",
       "    <tr>\n",
       "      <th>7627</th>\n",
       "      <td>39</td>\n",
       "      <td>3.250000</td>\n",
       "      <td>5.0</td>\n",
       "      <td>5.270569</td>\n",
       "      <td>60.0</td>\n",
       "      <td>63.246823</td>\n",
       "      <td>28.000000</td>\n",
       "      <td>36.942673</td>\n",
       "    </tr>\n",
       "    <tr>\n",
       "      <th>7628</th>\n",
       "      <td>203</td>\n",
       "      <td>16.916667</td>\n",
       "      <td>1.0</td>\n",
       "      <td>5.270569</td>\n",
       "      <td>12.0</td>\n",
       "      <td>63.246823</td>\n",
       "      <td>25.000000</td>\n",
       "      <td>40.000000</td>\n",
       "    </tr>\n",
       "    <tr>\n",
       "      <th>7629</th>\n",
       "      <td>36</td>\n",
       "      <td>3.000000</td>\n",
       "      <td>1.0</td>\n",
       "      <td>3.000000</td>\n",
       "      <td>12.0</td>\n",
       "      <td>36.000000</td>\n",
       "      <td>24.589597</td>\n",
       "      <td>36.942673</td>\n",
       "    </tr>\n",
       "    <tr>\n",
       "      <th>7630</th>\n",
       "      <td>125</td>\n",
       "      <td>10.416667</td>\n",
       "      <td>15.0</td>\n",
       "      <td>5.270569</td>\n",
       "      <td>180.0</td>\n",
       "      <td>63.246823</td>\n",
       "      <td>24.589597</td>\n",
       "      <td>52.000000</td>\n",
       "    </tr>\n",
       "    <tr>\n",
       "      <th>7631</th>\n",
       "      <td>0</td>\n",
       "      <td>0.000000</td>\n",
       "      <td>5.0</td>\n",
       "      <td>8.000000</td>\n",
       "      <td>60.0</td>\n",
       "      <td>96.000000</td>\n",
       "      <td>24.589597</td>\n",
       "      <td>36.942673</td>\n",
       "    </tr>\n",
       "    <tr>\n",
       "      <th>7632</th>\n",
       "      <td>41</td>\n",
       "      <td>3.416667</td>\n",
       "      <td>3.0</td>\n",
       "      <td>5.270569</td>\n",
       "      <td>36.0</td>\n",
       "      <td>63.246823</td>\n",
       "      <td>25.000000</td>\n",
       "      <td>35.000000</td>\n",
       "    </tr>\n",
       "    <tr>\n",
       "      <th>7633</th>\n",
       "      <td>110</td>\n",
       "      <td>9.166667</td>\n",
       "      <td>2.0</td>\n",
       "      <td>5.000000</td>\n",
       "      <td>24.0</td>\n",
       "      <td>60.000000</td>\n",
       "      <td>25.000000</td>\n",
       "      <td>40.000000</td>\n",
       "    </tr>\n",
       "    <tr>\n",
       "      <th>7634</th>\n",
       "      <td>385</td>\n",
       "      <td>32.083333</td>\n",
       "      <td>2.0</td>\n",
       "      <td>5.000000</td>\n",
       "      <td>24.0</td>\n",
       "      <td>60.000000</td>\n",
       "      <td>25.000000</td>\n",
       "      <td>40.000000</td>\n",
       "    </tr>\n",
       "  </tbody>\n",
       "</table>\n",
       "</div>"
      ],
      "text/plain": [
       "      duration_months  duration_years  experience_min_years  \\\n",
       "7625              209       17.416667                   2.0   \n",
       "7626               30        2.500000                   1.0   \n",
       "7627               39        3.250000                   5.0   \n",
       "7628              203       16.916667                   1.0   \n",
       "7629               36        3.000000                   1.0   \n",
       "7630              125       10.416667                  15.0   \n",
       "7631                0        0.000000                   5.0   \n",
       "7632               41        3.416667                   3.0   \n",
       "7633              110        9.166667                   2.0   \n",
       "7634              385       32.083333                   2.0   \n",
       "\n",
       "      experience_max_years  experience_min_months  experience_max_months  \\\n",
       "7625              5.000000                   24.0              60.000000   \n",
       "7626              5.270569                   12.0              63.246823   \n",
       "7627              5.270569                   60.0              63.246823   \n",
       "7628              5.270569                   12.0              63.246823   \n",
       "7629              3.000000                   12.0              36.000000   \n",
       "7630              5.270569                  180.0              63.246823   \n",
       "7631              8.000000                   60.0              96.000000   \n",
       "7632              5.270569                   36.0              63.246823   \n",
       "7633              5.000000                   24.0              60.000000   \n",
       "7634              5.000000                   24.0              60.000000   \n",
       "\n",
       "      age_min_years  age_max_years  \n",
       "7625      25.000000      40.000000  \n",
       "7626      24.589597      36.942673  \n",
       "7627      28.000000      36.942673  \n",
       "7628      25.000000      40.000000  \n",
       "7629      24.589597      36.942673  \n",
       "7630      24.589597      52.000000  \n",
       "7631      24.589597      36.942673  \n",
       "7632      25.000000      35.000000  \n",
       "7633      25.000000      40.000000  \n",
       "7634      25.000000      40.000000  "
      ]
     },
     "execution_count": 32,
     "metadata": {},
     "output_type": "execute_result"
    }
   ],
   "source": [
    "#final function\n",
    "def prepare_numeric_cols(df):\n",
    "    df[numeric_cols] = df[numeric_cols].fillna(df[numeric_cols].mean())\n",
    "    return df\n",
    "    \n",
    "train_copy = prepare_numeric_cols(train_copy)\n",
    "test_copy = prepare_numeric_cols(test_copy)\n",
    "\n",
    "train_copy[numeric_cols].tail(10)"
   ]
  },
  {
   "cell_type": "markdown",
   "id": "5db006a9",
   "metadata": {
    "papermill": {
     "duration": 0.02333,
     "end_time": "2025-01-09T11:56:52.479868",
     "exception": false,
     "start_time": "2025-01-09T11:56:52.456538",
     "status": "completed"
    },
    "tags": []
   },
   "source": [
    "# Textual Feature Embedding"
   ]
  },
  {
   "cell_type": "code",
   "execution_count": 33,
   "id": "242b9c9f",
   "metadata": {
    "execution": {
     "iopub.execute_input": "2025-01-09T11:56:52.527345Z",
     "iopub.status.busy": "2025-01-09T11:56:52.526916Z",
     "iopub.status.idle": "2025-01-09T11:56:52.532703Z",
     "shell.execute_reply": "2025-01-09T11:56:52.531509Z"
    },
    "papermill": {
     "duration": 0.031421,
     "end_time": "2025-01-09T11:56:52.534208",
     "exception": false,
     "start_time": "2025-01-09T11:56:52.502787",
     "status": "completed"
    },
    "tags": []
   },
   "outputs": [
    {
     "name": "stdout",
     "output_type": "stream",
     "text": [
      "(7635, 32)\n",
      "(1909, 31)\n"
     ]
    }
   ],
   "source": [
    "print(train_copy.shape)\n",
    "print(test_copy.shape)"
   ]
  },
  {
   "cell_type": "code",
   "execution_count": 34,
   "id": "1287fd71",
   "metadata": {
    "execution": {
     "iopub.execute_input": "2025-01-09T11:56:52.583063Z",
     "iopub.status.busy": "2025-01-09T11:56:52.582684Z",
     "iopub.status.idle": "2025-01-09T11:56:52.592755Z",
     "shell.execute_reply": "2025-01-09T11:56:52.591770Z"
    },
    "papermill": {
     "duration": 0.036272,
     "end_time": "2025-01-09T11:56:52.594620",
     "exception": false,
     "start_time": "2025-01-09T11:56:52.558348",
     "status": "completed"
    },
    "tags": []
   },
   "outputs": [],
   "source": [
    "train_copy.drop(['experiencere_requirement','age_requirement', 'start_dates', 'end_dates'], axis=1, inplace=True)\n",
    "test_copy.drop(['experiencere_requirement','age_requirement', 'start_dates', 'end_dates'], axis=1, inplace=True)"
   ]
  },
  {
   "cell_type": "code",
   "execution_count": 35,
   "id": "904ea8cc",
   "metadata": {
    "execution": {
     "iopub.execute_input": "2025-01-09T11:56:52.641047Z",
     "iopub.status.busy": "2025-01-09T11:56:52.640659Z",
     "iopub.status.idle": "2025-01-09T11:56:52.646844Z",
     "shell.execute_reply": "2025-01-09T11:56:52.645547Z"
    },
    "papermill": {
     "duration": 0.031588,
     "end_time": "2025-01-09T11:56:52.648758",
     "exception": false,
     "start_time": "2025-01-09T11:56:52.617170",
     "status": "completed"
    },
    "tags": []
   },
   "outputs": [
    {
     "name": "stdout",
     "output_type": "stream",
     "text": [
      "career_objective                        object\n",
      "skills                                  object\n",
      "educational_institution_name            object\n",
      "degree_names                            object\n",
      "passing_years                           object\n",
      "educational_results                     object\n",
      "major_field_of_studies                  object\n",
      "professional_company_names              object\n",
      "related_skils_in_job                    object\n",
      "positions                               object\n",
      "locations                               object\n",
      "responsibilities                        object\n",
      "extra_curricular_activity_types         object\n",
      "extra_curricular_organization_names     object\n",
      "role_positions                          object\n",
      "_job_position_name                      object\n",
      "educationaL_requirements                object\n",
      "responsibilities_1                      object\n",
      "skills_required                         object\n",
      "matched_score                           object\n",
      "duration_months                          int64\n",
      "duration_years                         float64\n",
      "experience_min_years                   float64\n",
      "experience_max_years                   float64\n",
      "experience_min_months                  float64\n",
      "experience_max_months                  float64\n",
      "age_min_years                          float64\n",
      "age_max_years                          float64\n",
      "dtype: object\n"
     ]
    }
   ],
   "source": [
    "print(train_copy.dtypes)"
   ]
  },
  {
   "cell_type": "code",
   "execution_count": 36,
   "id": "ab9756e3",
   "metadata": {
    "execution": {
     "iopub.execute_input": "2025-01-09T11:56:52.696101Z",
     "iopub.status.busy": "2025-01-09T11:56:52.695736Z",
     "iopub.status.idle": "2025-01-09T11:56:52.702916Z",
     "shell.execute_reply": "2025-01-09T11:56:52.701926Z"
    },
    "papermill": {
     "duration": 0.032796,
     "end_time": "2025-01-09T11:56:52.704793",
     "exception": false,
     "start_time": "2025-01-09T11:56:52.671997",
     "status": "completed"
    },
    "tags": []
   },
   "outputs": [
    {
     "data": {
      "text/plain": [
       "0                                                                                                                                                                                                                                                                                                                                ['Big Data', 'Hadoop', 'Hive', 'Python', 'Mapreduce', 'Spark', 'Java', 'Machine Learning', 'Cloud', 'Hdfs', 'YARN', 'Core Java', 'Data Science', 'C++', 'Data Structures', 'DBMS', 'RDBMS', 'Informatica', 'Talend', 'Amazon Redshift', 'Microsoft Azure']\n",
       "1                                                                                                                                                                                                                                                                                                                                                                                                                                ['Data Analysis', 'Data Analytics', 'Business Analysis', 'R', 'SAS', 'PowerBi', 'Tableau', 'Data Visualization', 'Business Analytics', 'Machine Learning']\n",
       "2                                                                                                                                                                                                                                                                                                                                                                                     ['Software Development', 'Machine Learning', 'Deep Learning', 'Risk Assessment', 'Requirement Gathering', 'Application Support', 'JavaScript', 'Python', 'Docker', 'HTML', 'Hive', 'CSS', 'C', 'C++']\n",
       "3                                                              ['accounts payables', 'accounts receivables', 'Accounts Payable', 'Accounts Receivable', 'administrative functions', 'trial balance', 'banking', 'budget', 'bi', 'closing', 'Computer Applications', 'Credit', 'clients', 'Customer Service', 'data entry', 'delivery', 'driving', 'email', 'insurance', 'inventory', 'ledger', 'Access', 'Excel', 'Outlook', 'PowerPoint', 'Word', 'mortgage loan', 'Enterprise', 'policies', 'QuickBooks', 'Sales', 'sales reports', 'telecommunications', 'phone', 'workflow', 'written']\n",
       "4    ['Analytical reasoning', 'Compliance testing knowledge', 'Effective time management', 'Public and private accounting', 'accounting', 'accounting systems', 'accounts payable', 'accounts receivable', 'administrative', 'AR', 'billing', 'closing', 'client', 'clients', 'documentation', 'financial', 'financial reports', 'preparation of financial reports', 'Preparation of financial statements', 'fixed assets', 'managing', 'month-end closing', 'policies', 'maintain records', 'reporting', 'Research', 'sales', 'tax', 'taxes', 'tax returns', 'annual reports', 'year-end']\n",
       "Name: skills, dtype: object"
      ]
     },
     "execution_count": 36,
     "metadata": {},
     "output_type": "execute_result"
    }
   ],
   "source": [
    "train_copy['skills'].head(5)"
   ]
  },
  {
   "cell_type": "code",
   "execution_count": 37,
   "id": "78e93a27",
   "metadata": {
    "execution": {
     "iopub.execute_input": "2025-01-09T11:56:52.753091Z",
     "iopub.status.busy": "2025-01-09T11:56:52.752729Z",
     "iopub.status.idle": "2025-01-09T11:56:52.769423Z",
     "shell.execute_reply": "2025-01-09T11:56:52.768107Z"
    },
    "papermill": {
     "duration": 0.043203,
     "end_time": "2025-01-09T11:56:52.771169",
     "exception": false,
     "start_time": "2025-01-09T11:56:52.727966",
     "status": "completed"
    },
    "tags": []
   },
   "outputs": [
    {
     "name": "stdout",
     "output_type": "stream",
     "text": [
      "Unique entries in 'educational_results':\n",
      "\n",
      "1. missing\n",
      "2. ['3.84']\n",
      "3. ['2.50']\n",
      "4. ['4.0', None, None]\n",
      "5. ['9.35 (Till 4 semesters)', '94%', '10']\n",
      "6. ['3.6']\n",
      "7. ['N/A', 'Gold Medalist']\n",
      "8. ['3.6', '3.7', '3.7']\n",
      "9. ['3.83', '3.93', '3.73']\n",
      "10. ['3.1']\n",
      "11. [None, '79.42']\n",
      "12. ['4.0']\n",
      "13. ['N/A', 'Cum Laude']\n",
      "14. ['3.8']\n",
      "15. ['Cum Laude']\n",
      "16. ['3.95']\n",
      "17. ['3.4']\n",
      "18. ['3.6', '6.97']\n",
      "19. ['GPA: 8']\n",
      "20. [\"Dean's List recognition\"]\n",
      "21. [None, '4.0']\n",
      "22. ['Gold Medalist']\n",
      "23. ['3.35/4.0', None]\n",
      "24. ['3.85', 'N/A']\n",
      "25. ['N/A', '6.7', '86.8']\n",
      "26. ['4.1', 'Summa cum laude']\n",
      "27. ['3.6', '3.5', 'N/A']\n",
      "28. ['3.9/4.0', '4.0/4.0']\n",
      "29. ['3.5/4.0', '3.19/4.0']\n",
      "30. [None, None, 'Distinction', 'A- (A minus)', '50 points out of 60 points']\n",
      "31. ['3.4', '3.7']\n",
      "32. ['3.55']\n",
      "33. ['3.63/4.0']\n",
      "34. ['3.5', '3.2']\n",
      "35. [None, None, '4.0']\n",
      "36. ['3.01']\n",
      "37. ['3.52 / 4.0', '3.9 / 4.0', 'N/A']\n",
      "38. ['3.73']\n",
      "39. ['Cum Laude - Graduating With Honors']\n",
      "40. ['Magna Cum Laude']\n",
      "41. ['3.75']\n",
      "42. ['3.98', None]\n",
      "43. ['69%', 'Mathematics (A*), Computer Science (A), Physics (A)']\n",
      "44. ['3.9']\n",
      "45. ['3.7', '4.0']\n",
      "46. ['71', '60']\n",
      "47. ['3.91']\n",
      "48. ['3.15', '3.9']\n",
      "49. ['X.XX']\n",
      "50. ['3.5', '3.5']\n",
      "51. ['3.5']\n",
      "52. ['4.00', '3.45', '3.1']\n",
      "53. ['3.9 / 4.0', 'First Class with Distinction']\n",
      "54. ['Second Upper Class Honors', 'N/A']\n",
      "55. ['GPA: 3.8', 'GPA: 3.8']\n",
      "56. ['A average', '3.7']\n",
      "57. ['3.78']\n",
      "58. ['3.7']\n",
      "59. ['N/A', 'Ranking: 1st of 82 students', 'Ranking: 2nd of 100 students', 'Ranking: 2nd of 296 students']\n",
      "60. ['3.1', '2.89']\n",
      "61. ['N/A', 'CPA qualified candidate', 'CFP qualified candidate']\n",
      "62. ['3.98']\n",
      "63. [\"Dean's list 3 quarters\", None]\n",
      "64. ['3.41', 'N/A']\n",
      "65. ['3.67', '3.66']\n",
      "66. ['3.82']\n",
      "67. ['4.00', 'N/A']\n",
      "\n",
      "\n"
     ]
    }
   ],
   "source": [
    "def print_unique_entries(df, columns):\n",
    "    for column in columns:\n",
    "        if column in df.columns:\n",
    "            unique_values = df[column].unique()\n",
    "            print(f\"Unique entries in '{column}':\\n\")\n",
    "            for idx, value in enumerate(unique_values, 1):\n",
    "                print(f\"{idx}. {value}\")\n",
    "            print(\"\\n\")\n",
    "        else:\n",
    "            print(f\"Column '{column}' not found in the DataFrame.\\n\")\n",
    "\n",
    "columns_to_check = ['educational_results']\n",
    "\n",
    "\n",
    "print_unique_entries(train_copy, columns_to_check)\n"
   ]
  },
  {
   "cell_type": "code",
   "execution_count": 38,
   "id": "c78a3eef",
   "metadata": {
    "execution": {
     "iopub.execute_input": "2025-01-09T11:56:52.819675Z",
     "iopub.status.busy": "2025-01-09T11:56:52.819292Z",
     "iopub.status.idle": "2025-01-09T11:56:52.823939Z",
     "shell.execute_reply": "2025-01-09T11:56:52.822784Z"
    },
    "papermill": {
     "duration": 0.030588,
     "end_time": "2025-01-09T11:56:52.825619",
     "exception": false,
     "start_time": "2025-01-09T11:56:52.795031",
     "status": "completed"
    },
    "tags": []
   },
   "outputs": [],
   "source": [
    "# List of columns to embed\n",
    "tf_idf_columns = ['educationaL_requirements', 'responsibilities','skills','skills_required','_job_position_name','degree_names','major_field_of_studies','positions','related_skils_in_job','career_objective',\n",
    "                 'educational_institution_name',\n",
    "    'passing_years',\n",
    "    'educational_results',\n",
    "    'professional_company_names',\n",
    "    'locations',\n",
    "    'extra_curricular_activity_types',\n",
    "    'extra_curricular_organization_names',\n",
    "    'role_positions',\n",
    "    'responsibilities_1']"
   ]
  },
  {
   "cell_type": "code",
   "execution_count": 39,
   "id": "8da7fbab",
   "metadata": {
    "execution": {
     "iopub.execute_input": "2025-01-09T11:56:52.874263Z",
     "iopub.status.busy": "2025-01-09T11:56:52.873894Z",
     "iopub.status.idle": "2025-01-09T11:57:05.097837Z",
     "shell.execute_reply": "2025-01-09T11:57:05.096609Z"
    },
    "papermill": {
     "duration": 12.250293,
     "end_time": "2025-01-09T11:57:05.099785",
     "exception": false,
     "start_time": "2025-01-09T11:56:52.849492",
     "status": "completed"
    },
    "tags": []
   },
   "outputs": [
    {
     "name": "stdout",
     "output_type": "stream",
     "text": [
      "Fitting TF-IDF for column 'educationaL_requirements'...\n",
      "Fitting TF-IDF for column 'responsibilities'...\n",
      "Fitting TF-IDF for column 'skills'...\n",
      "Fitting TF-IDF for column 'skills_required'...\n",
      "Fitting TF-IDF for column '_job_position_name'...\n",
      "Fitting TF-IDF for column 'degree_names'...\n",
      "Fitting TF-IDF for column 'major_field_of_studies'...\n",
      "Fitting TF-IDF for column 'positions'...\n",
      "Fitting TF-IDF for column 'related_skils_in_job'...\n",
      "Fitting TF-IDF for column 'career_objective'...\n",
      "Fitting TF-IDF for column 'educational_institution_name'...\n",
      "Fitting TF-IDF for column 'passing_years'...\n",
      "Fitting TF-IDF for column 'educational_results'...\n",
      "Fitting TF-IDF for column 'professional_company_names'...\n",
      "Fitting TF-IDF for column 'locations'...\n",
      "Fitting TF-IDF for column 'extra_curricular_activity_types'...\n",
      "Fitting TF-IDF for column 'extra_curricular_organization_names'...\n",
      "Fitting TF-IDF for column 'role_positions'...\n",
      "Fitting TF-IDF for column 'responsibilities_1'...\n",
      "Using pre-fitted TF-IDF for column 'educationaL_requirements'...\n",
      "Using pre-fitted TF-IDF for column 'responsibilities'...\n",
      "Using pre-fitted TF-IDF for column 'skills'...\n",
      "Using pre-fitted TF-IDF for column 'skills_required'...\n",
      "Using pre-fitted TF-IDF for column '_job_position_name'...\n",
      "Using pre-fitted TF-IDF for column 'degree_names'...\n",
      "Using pre-fitted TF-IDF for column 'major_field_of_studies'...\n",
      "Using pre-fitted TF-IDF for column 'positions'...\n",
      "Using pre-fitted TF-IDF for column 'related_skils_in_job'...\n",
      "Using pre-fitted TF-IDF for column 'career_objective'...\n",
      "Using pre-fitted TF-IDF for column 'educational_institution_name'...\n",
      "Using pre-fitted TF-IDF for column 'passing_years'...\n",
      "Using pre-fitted TF-IDF for column 'educational_results'...\n",
      "Using pre-fitted TF-IDF for column 'professional_company_names'...\n",
      "Using pre-fitted TF-IDF for column 'locations'...\n",
      "Using pre-fitted TF-IDF for column 'extra_curricular_activity_types'...\n",
      "Using pre-fitted TF-IDF for column 'extra_curricular_organization_names'...\n",
      "Using pre-fitted TF-IDF for column 'role_positions'...\n",
      "Using pre-fitted TF-IDF for column 'responsibilities_1'...\n",
      "Embedding done\n"
     ]
    }
   ],
   "source": [
    "from sklearn.feature_extraction.text import TfidfVectorizer\n",
    "import pandas as pd\n",
    "\n",
    "def embed_with_tfidf_simplified(df, columns, max_features=2000, prefit_vectorizers=None):\n",
    "   \n",
    "    vectorizers = prefit_vectorizers or {}\n",
    "    \n",
    "    for column in columns:\n",
    "        if column not in vectorizers:\n",
    "            vectorizer = TfidfVectorizer(max_features=max_features)\n",
    "            print(f\"Fitting TF-IDF for column '{column}'...\")\n",
    "            vectorizer.fit(df[column].fillna(\"\").astype(str))\n",
    "            vectorizers[column] = vectorizer\n",
    "        else:\n",
    "            print(f\"Using pre-fitted TF-IDF for column '{column}'...\")\n",
    "            vectorizer = vectorizers[column]\n",
    "        \n",
    "        # Transform the column\n",
    "        tfidf_matrix = vectorizer.transform(df[column].fillna(\"\").astype(str)).toarray()\n",
    "        \n",
    "        # Add TF-IDF embeddings as new columns\n",
    "        tfidf_feature_names = [f\"{column}_tfidf_{i}\" for i in range(tfidf_matrix.shape[1])]\n",
    "        tfidf_df = pd.DataFrame(tfidf_matrix, columns=tfidf_feature_names, index=df.index)\n",
    "        df = pd.concat([df, tfidf_df], axis=1)\n",
    "    \n",
    "    return df, vectorizers\n",
    "\n",
    "\n",
    "# Fit TF-IDF on training data\n",
    "train_copy = train_copy.copy()\n",
    "train_copy, tfidf_vectorizers = embed_with_tfidf_simplified(train_copy, tf_idf_columns)\n",
    "\n",
    "# Use the same TF-IDF vectorizers for test data\n",
    "test_copy = test_copy.copy()\n",
    "test_copy, _ = embed_with_tfidf_simplified(test_copy, tf_idf_columns, prefit_vectorizers=tfidf_vectorizers)\n",
    "print(\"Embedding done\")\n"
   ]
  },
  {
   "cell_type": "code",
   "execution_count": 40,
   "id": "0a022c18",
   "metadata": {
    "execution": {
     "iopub.execute_input": "2025-01-09T11:57:05.152070Z",
     "iopub.status.busy": "2025-01-09T11:57:05.151636Z",
     "iopub.status.idle": "2025-01-09T11:57:05.157132Z",
     "shell.execute_reply": "2025-01-09T11:57:05.155956Z"
    },
    "papermill": {
     "duration": 0.033479,
     "end_time": "2025-01-09T11:57:05.158720",
     "exception": false,
     "start_time": "2025-01-09T11:57:05.125241",
     "status": "completed"
    },
    "tags": []
   },
   "outputs": [
    {
     "name": "stdout",
     "output_type": "stream",
     "text": [
      "(7635, 8492)\n",
      "(1909, 8491)\n"
     ]
    }
   ],
   "source": [
    "print(train_copy.shape)\n",
    "print(test_copy.shape)"
   ]
  },
  {
   "cell_type": "code",
   "execution_count": 41,
   "id": "fc6bf451",
   "metadata": {
    "execution": {
     "iopub.execute_input": "2025-01-09T11:57:05.210732Z",
     "iopub.status.busy": "2025-01-09T11:57:05.210368Z",
     "iopub.status.idle": "2025-01-09T11:57:05.421531Z",
     "shell.execute_reply": "2025-01-09T11:57:05.419966Z"
    },
    "papermill": {
     "duration": 0.239754,
     "end_time": "2025-01-09T11:57:05.423304",
     "exception": false,
     "start_time": "2025-01-09T11:57:05.183550",
     "status": "completed"
    },
    "tags": []
   },
   "outputs": [
    {
     "name": "stdout",
     "output_type": "stream",
     "text": [
      "educational_institution_name     object\n",
      "passing_years                    object\n",
      "educational_results              object\n",
      "professional_company_names       object\n",
      "locations                        object\n",
      "                                 ...   \n",
      "responsibilities_1_tfidf_331    float64\n",
      "responsibilities_1_tfidf_332    float64\n",
      "responsibilities_1_tfidf_333    float64\n",
      "responsibilities_1_tfidf_334    float64\n",
      "responsibilities_1_tfidf_335    float64\n",
      "Length: 8482, dtype: object\n"
     ]
    }
   ],
   "source": [
    "columns_to_drop = ['educationaL_requirements', 'responsibilities', 'skills', \n",
    "                   'skills_required', '_job_position_name', 'degree_names', \n",
    "                   'major_field_of_studies', 'positions', 'related_skils_in_job', \n",
    "                   'career_objective']\n",
    "\n",
    "# Drop the columns in-place|\n",
    "train_copy.drop(columns=columns_to_drop, axis=1, inplace=True)\n",
    "test_copy.drop(columns=columns_to_drop, axis=1, inplace=True)\n",
    "\n",
    "# Verify the columns have been dropped\n",
    "print(train_copy.dtypes)"
   ]
  },
  {
   "cell_type": "code",
   "execution_count": 42,
   "id": "bcfe7ecb",
   "metadata": {
    "execution": {
     "iopub.execute_input": "2025-01-09T11:57:05.475289Z",
     "iopub.status.busy": "2025-01-09T11:57:05.474885Z",
     "iopub.status.idle": "2025-01-09T11:57:05.918580Z",
     "shell.execute_reply": "2025-01-09T11:57:05.917375Z"
    },
    "papermill": {
     "duration": 0.471072,
     "end_time": "2025-01-09T11:57:05.920482",
     "exception": false,
     "start_time": "2025-01-09T11:57:05.449410",
     "status": "completed"
    },
    "tags": []
   },
   "outputs": [
    {
     "data": {
      "image/png": "[encoded data removed]",
      "text/plain": [
       "<Figure size 1200x600 with 1 Axes>"
      ]
     },
     "metadata": {},
     "output_type": "display_data"
    }
   ],
   "source": [
    "def plot_unique_value_counts(df, title=\"Unique Value Counts\"):\n",
    "    unique_counts = df.nunique().sort_values(ascending=False)\n",
    "    \n",
    "    plt.figure(figsize=(12, 6))\n",
    "    ax = unique_counts.plot(kind='bar', color='teal')\n",
    "    \n",
    "    # Add counts on top of each bar\n",
    "    for p in ax.patches:\n",
    "        ax.annotate(\n",
    "            str(int(p.get_height())), \n",
    "            (p.get_x() + p.get_width() / 2., p.get_height()), \n",
    "            ha='center', \n",
    "            va='bottom', \n",
    "            fontsize=10\n",
    "        )\n",
    "    \n",
    "    plt.title(title)\n",
    "    plt.xlabel('Columns')\n",
    "    plt.ylabel('Unique Values Count')\n",
    "    plt.xticks(rotation=90)\n",
    "    plt.tight_layout()\n",
    "    plt.show()\n",
    "\n",
    "\n",
    "left_columns = [\n",
    "     'educational_institution_name',\n",
    "     'passing_years',\n",
    "     'educational_results',\n",
    "     'professional_company_names',\n",
    "     'locations',\n",
    "     'extra_curricular_activity_types',\n",
    "     'extra_curricular_organization_names',\n",
    "     'role_positions',\n",
    "     'responsibilities_1'\n",
    "]\n",
    "\n",
    "df = train_copy[left_columns]\n",
    "# Example usage\n",
    "plot_unique_value_counts(df, title=\"Unique Value Counts in Train Dataset\")\n"
   ]
  },
  {
   "cell_type": "code",
   "execution_count": 43,
   "id": "097c21e9",
   "metadata": {
    "execution": {
     "iopub.execute_input": "2025-01-09T11:57:05.974330Z",
     "iopub.status.busy": "2025-01-09T11:57:05.973735Z",
     "iopub.status.idle": "2025-01-09T11:57:06.185773Z",
     "shell.execute_reply": "2025-01-09T11:57:06.184370Z"
    },
    "papermill": {
     "duration": 0.240878,
     "end_time": "2025-01-09T11:57:06.187831",
     "exception": false,
     "start_time": "2025-01-09T11:57:05.946953",
     "status": "completed"
    },
    "tags": []
   },
   "outputs": [
    {
     "name": "stdout",
     "output_type": "stream",
     "text": [
      "(7635, 8473)\n",
      "(1909, 8472)\n"
     ]
    }
   ],
   "source": [
    "train_copy.drop(columns=left_columns, inplace=True)\n",
    "test_copy.drop(columns=left_columns, inplace=True)\n",
    "\n",
    "print(train_copy.shape)\n",
    "print(test_copy.shape)"
   ]
  },
  {
   "cell_type": "markdown",
   "id": "01afc902",
   "metadata": {
    "papermill": {
     "duration": 0.025995,
     "end_time": "2025-01-09T11:57:06.240213",
     "exception": false,
     "start_time": "2025-01-09T11:57:06.214218",
     "status": "completed"
    },
    "tags": []
   },
   "source": [
    "# Preprocessing Pipeline"
   ]
  },
  {
   "cell_type": "code",
   "execution_count": 44,
   "id": "62d536fc",
   "metadata": {
    "execution": {
     "iopub.execute_input": "2025-01-09T11:57:06.294700Z",
     "iopub.status.busy": "2025-01-09T11:57:06.294291Z",
     "iopub.status.idle": "2025-01-09T11:57:06.300526Z",
     "shell.execute_reply": "2025-01-09T11:57:06.299472Z"
    },
    "papermill": {
     "duration": 0.035096,
     "end_time": "2025-01-09T11:57:06.302168",
     "exception": false,
     "start_time": "2025-01-09T11:57:06.267072",
     "status": "completed"
    },
    "tags": []
   },
   "outputs": [
    {
     "data": {
      "text/plain": [
       "'\\nDecisions:\\nRemove ID column of test data\\nRemove proficiency_levels, languages, address, expiry_dates, issue_dates, online_links, certification_skills, certification_providers\\njoto type r none/nan ase shbgula ke \"missing\" diye replace korano\\nRemove extra curricular org links,company_urls,result_types,age_requirement,\\t\\nnew coln persure korsi from experiencere_requirement,start_dates,end_dates and so remove these then\\nfixing coln names \\nrun tf_idf on remaining sentence cat colmn \\n'"
      ]
     },
     "execution_count": 44,
     "metadata": {},
     "output_type": "execute_result"
    }
   ],
   "source": [
    "\"\"\"\n",
    "Decisions:\n",
    "Remove ID column of test data\n",
    "Remove proficiency_levels, languages, address, expiry_dates, issue_dates, online_links, certification_skills, certification_providers\n",
    "joto type r none/nan ase shbgula ke \"missing\" diye replace korano\n",
    "Remove extra curricular org links,company_urls,result_types,age_requirement,\t\n",
    "new coln persure korsi from experiencere_requirement,start_dates,end_dates and so remove these then\n",
    "fixing coln names \n",
    "run tf_idf on remaining sentence cat colmn \n",
    "\"\"\""
   ]
  },
  {
   "cell_type": "code",
   "execution_count": 45,
   "id": "09b53be2",
   "metadata": {
    "execution": {
     "iopub.execute_input": "2025-01-09T11:57:06.358428Z",
     "iopub.status.busy": "2025-01-09T11:57:06.358036Z",
     "iopub.status.idle": "2025-01-09T11:57:06.363486Z",
     "shell.execute_reply": "2025-01-09T11:57:06.362229Z"
    },
    "papermill": {
     "duration": 0.036431,
     "end_time": "2025-01-09T11:57:06.365259",
     "exception": false,
     "start_time": "2025-01-09T11:57:06.328828",
     "status": "completed"
    },
    "tags": []
   },
   "outputs": [],
   "source": [
    "# def create_preprocessing_pipeline():\n",
    "#     \"\"\"\n",
    "#     Creates a preprocessing pipeline:\n",
    "#       1. Drops unnecessary columns.\n",
    "#       2. Creates two combined text columns from specified text fields.\n",
    "#       3. Applies TF–IDF transformation to the combined text columns.\n",
    "#       4. Processes numeric columns.\n",
    "#       5. Outputs a combined feature matrix.\n",
    "#     \"\"\"\n",
    "#     # Columns to drop\n",
    "#     cols_to_drop = [\n",
    "#         'extra_curricular_organization_links',\n",
    "#         'online_links',\n",
    "#         'issue_dates',\n",
    "#         'expiry_dates',\n",
    "#         'responsibilities.1'\n",
    "#     ]\n",
    "    \n",
    "#     # Numeric columns to include\n",
    "#     numeric_cols = []  # Replace with actual numeric columns\n",
    "\n",
    "#     # Combine columns for general combined text\n",
    "#     combine_general_text = FunctionTransformer(lambda df: df.assign(\n",
    "#         combined_text_general=(\n",
    "#             df[\"responsibilities\"].fillna(\"\") + \" \" +\n",
    "#             df[\"\\ufeffjob_position_name\"].fillna(\"\") + \" \" +\n",
    "#             df[\"skills_required\"].fillna(\"\") + \" \" +\n",
    "#             df[\"educationaL_requirements\"].fillna(\"\")\n",
    "#         )\n",
    "#     ), validate=False)\n",
    "\n",
    "#     # Combine columns for extracurricular combined text\n",
    "#     combine_extracurricular_text = FunctionTransformer(lambda df: df.assign(\n",
    "#         combined_text_extracurricular=(\n",
    "#             df[\"skills\"].fillna(\"\") + \" \" +\n",
    "#             df[\"major_field_of_studies\"].fillna(\"\") + \" \" +\n",
    "#             df[\"related_skils_in_job\"].fillna(\"\") + \" \" +\n",
    "#             df[\"positions\"].fillna(\"\") + \" \" +\n",
    "#             df[\"career_objective\"].fillna(\"\") + \" \" +\n",
    "#             df[\"role_positions\"].fillna(\"\") + \" \" +\n",
    "#             df[\"extra_curricular_activity_types\"].fillna(\"\") + \" \" +\n",
    "#             df[\"certification_skills\"].fillna(\"\")\n",
    "#         )\n",
    "#     ), validate=False)\n",
    "\n",
    "#     # TF–IDF for general combined text\n",
    "#     text_general_transformer = Pipeline(steps=[\n",
    "#         ('tfidf', TfidfVectorizer(stop_words='english', max_features=2000))\n",
    "#     ])\n",
    "\n",
    "#     # TF–IDF for extracurricular combined text\n",
    "#     text_extracurricular_transformer = Pipeline(steps=[\n",
    "#         ('tfidf', TfidfVectorizer(stop_words='english', max_features=2000))\n",
    "#     ])\n",
    "    \n",
    "#     # Numeric transformations (e.g., scaling)\n",
    "#     numeric_transformer = Pipeline(steps=[\n",
    "#         ('scaler', StandardScaler())\n",
    "#     ])\n",
    "    \n",
    "#     # Combine text and numeric columns\n",
    "#     column_transformer = ColumnTransformer(\n",
    "#         transformers=[\n",
    "#             ('text_general', text_general_transformer, 'combined_text_general'),  # TF–IDF for general text\n",
    "#             ('text_extracurricular', text_extracurricular_transformer, 'combined_text_extracurricular'),  # TF–IDF for extracurricular text\n",
    "#             ('numeric', numeric_transformer, numeric_cols)  # Scale numeric columns\n",
    "#         ],\n",
    "#         remainder='drop'  # Drop any columns not specified\n",
    "#     )\n",
    "\n",
    "#     # Full pipeline with column dropping\n",
    "#     full_pipeline = Pipeline(steps=[\n",
    "#         ('drop_columns', FunctionTransformer(lambda df: df.drop(columns=cols_to_drop, errors='ignore'))),\n",
    "#         ('combine_general_text', combine_general_text),\n",
    "#         ('combine_extracurricular_text', combine_extracurricular_text),\n",
    "#         ('column_transform', column_transformer)\n",
    "#     ])\n",
    "    \n",
    "#     return full_pipeline"
   ]
  },
  {
   "cell_type": "markdown",
   "id": "d761caa3",
   "metadata": {
    "papermill": {
     "duration": 0.02589,
     "end_time": "2025-01-09T11:57:06.417637",
     "exception": false,
     "start_time": "2025-01-09T11:57:06.391747",
     "status": "completed"
    },
    "tags": []
   },
   "source": [
    "# Training Pipeline"
   ]
  },
  {
   "cell_type": "code",
   "execution_count": 46,
   "id": "f8683dc7",
   "metadata": {
    "execution": {
     "iopub.execute_input": "2025-01-09T11:57:06.471145Z",
     "iopub.status.busy": "2025-01-09T11:57:06.470744Z",
     "iopub.status.idle": "2025-01-09T11:57:07.156917Z",
     "shell.execute_reply": "2025-01-09T11:57:07.155641Z"
    },
    "papermill": {
     "duration": 0.715155,
     "end_time": "2025-01-09T11:57:07.159047",
     "exception": false,
     "start_time": "2025-01-09T11:57:06.443892",
     "status": "completed"
    },
    "tags": []
   },
   "outputs": [],
   "source": [
    "train = train_copy.copy()\n",
    "test = test_copy.copy()"
   ]
  },
  {
   "cell_type": "code",
   "execution_count": 47,
   "id": "aeb3066d",
   "metadata": {
    "execution": {
     "iopub.execute_input": "2025-01-09T11:57:07.214390Z",
     "iopub.status.busy": "2025-01-09T11:57:07.213992Z",
     "iopub.status.idle": "2025-01-09T11:57:07.224745Z",
     "shell.execute_reply": "2025-01-09T11:57:07.223313Z"
    },
    "papermill": {
     "duration": 0.039755,
     "end_time": "2025-01-09T11:57:07.226369",
     "exception": false,
     "start_time": "2025-01-09T11:57:07.186614",
     "status": "completed"
    },
    "tags": []
   },
   "outputs": [
    {
     "name": "stdout",
     "output_type": "stream",
     "text": [
      "matched_score                   float64\n",
      "duration_months                   int64\n",
      "duration_years                  float64\n",
      "experience_min_years            float64\n",
      "experience_max_years            float64\n",
      "                                 ...   \n",
      "responsibilities_1_tfidf_331    float64\n",
      "responsibilities_1_tfidf_332    float64\n",
      "responsibilities_1_tfidf_333    float64\n",
      "responsibilities_1_tfidf_334    float64\n",
      "responsibilities_1_tfidf_335    float64\n",
      "Length: 8473, dtype: object\n"
     ]
    }
   ],
   "source": [
    "if(train['matched_score'].dtype != \"float\"):\n",
    "    train['matched_score'] = pd.to_numeric(train['matched_score'], errors='coerce')\n",
    "    \n",
    "print(train.dtypes)"
   ]
  },
  {
   "cell_type": "markdown",
   "id": "b6ace3f9",
   "metadata": {
    "papermill": {
     "duration": 0.027451,
     "end_time": "2025-01-09T11:57:07.281095",
     "exception": false,
     "start_time": "2025-01-09T11:57:07.253644",
     "status": "completed"
    },
    "tags": []
   },
   "source": [
    "### Popping the target Column"
   ]
  },
  {
   "cell_type": "code",
   "execution_count": 48,
   "id": "4cdb7443",
   "metadata": {
    "execution": {
     "iopub.execute_input": "2025-01-09T11:57:07.336642Z",
     "iopub.status.busy": "2025-01-09T11:57:07.336177Z",
     "iopub.status.idle": "2025-01-09T11:57:07.598958Z",
     "shell.execute_reply": "2025-01-09T11:57:07.597633Z"
    },
    "papermill": {
     "duration": 0.292944,
     "end_time": "2025-01-09T11:57:07.600843",
     "exception": false,
     "start_time": "2025-01-09T11:57:07.307899",
     "status": "completed"
    },
    "tags": []
   },
   "outputs": [
    {
     "name": "stdout",
     "output_type": "stream",
     "text": [
      "(7482, 8472)\n",
      "(1909, 8472)\n"
     ]
    }
   ],
   "source": [
    "y_full = train.pop('matched_score')\n",
    "X_train, X_valid, y_train, y_valid = train_test_split(train, y_full, train_size=0.98, test_size=0.02, random_state=42)\n",
    "X_train.head(2)\n",
    "\n",
    "print(X_train.shape)\n",
    "print(test.shape)"
   ]
  },
  {
   "cell_type": "code",
   "execution_count": 49,
   "id": "a9405e3f",
   "metadata": {
    "execution": {
     "iopub.execute_input": "2025-01-09T11:57:07.655350Z",
     "iopub.status.busy": "2025-01-09T11:57:07.654945Z",
     "iopub.status.idle": "2025-01-09T11:57:24.200576Z",
     "shell.execute_reply": "2025-01-09T11:57:24.199384Z"
    },
    "papermill": {
     "duration": 16.575202,
     "end_time": "2025-01-09T11:57:24.202510",
     "exception": false,
     "start_time": "2025-01-09T11:57:07.627308",
     "status": "completed"
    },
    "tags": []
   },
   "outputs": [
    {
     "name": "stdout",
     "output_type": "stream",
     "text": [
      "[LightGBM] [Info] Auto-choosing row-wise multi-threading, the overhead of testing was 0.127020 seconds.\n",
      "You can set `force_row_wise=true` to remove the overhead.\n",
      "And if memory is not enough, you can set `force_col_wise=true`.\n",
      "[LightGBM] [Info] Total Bins 36062\n",
      "[LightGBM] [Info] Number of data points in the train set: 7482, number of used features: 8112\n",
      "[LightGBM] [Info] Start training from score 0.660341\n"
     ]
    },
    {
     "data": {
      "image/png": "[encoded data removed]",
      "text/plain": [
       "<Figure size 1000x600 with 1 Axes>"
      ]
     },
     "metadata": {},
     "output_type": "display_data"
    },
    {
     "name": "stdout",
     "output_type": "stream",
     "text": [
      "Validation MSE: 0.0088897\n"
     ]
    }
   ],
   "source": [
    "from lightgbm import LGBMRegressor\n",
    "from sklearn.metrics import mean_squared_error\n",
    "import matplotlib.pyplot as plt\n",
    "import lightgbm as lgb\n",
    "\n",
    "def score_dataset(X_train, X_valid, y_train, y_valid):\n",
    "    model = LGBMRegressor(\n",
    "        n_estimators=1024,\n",
    "        learning_rate=0.05,\n",
    "        random_state=0\n",
    "    )\n",
    "    \n",
    "    # Create evaluation set\n",
    "    eval_set = [(X_train, y_train), (X_valid, y_valid)]\n",
    "    eval_names = ['train', 'valid']\n",
    "    \n",
    "    model.fit(\n",
    "        X_train,\n",
    "        y_train,\n",
    "        eval_set=eval_set,\n",
    "        eval_names=eval_names,\n",
    "        eval_metric='l2',\n",
    "        callbacks=[lgb.log_evaluation(period=0)]  # Suppress verbose output\n",
    "    )\n",
    "    \n",
    "    eval_result = model.evals_result_\n",
    "    train_mse = eval_result['train']['l2']\n",
    "    valid_mse = eval_result['valid']['l2']\n",
    "    \n",
    "    plt.figure(figsize=(10, 6))\n",
    "    plt.plot(train_mse, label=\"Train Loss (MSE)\")\n",
    "    plt.plot(valid_mse, label=\"Validation Loss (MSE)\")\n",
    "    plt.title(\"LightGBM: Loss Graph (Training vs. Validation)\")\n",
    "    plt.xlabel(\"Boosting Rounds\")\n",
    "    plt.ylabel(\"Mean Squared Error (MSE)\")\n",
    "    plt.legend()\n",
    "    plt.grid(True)\n",
    "    plt.show()\n",
    "    \n",
    "    preds = model.predict(X_valid)\n",
    "    mse = mean_squared_error(y_valid, preds)\n",
    "    return model, mse\n",
    "\n",
    "# Example Usage\n",
    "model, mse = score_dataset(X_train, X_valid, y_train, y_valid)\n",
    "print(f\"Validation MSE: {mse:.7f}\")\n"
   ]
  },
  {
   "cell_type": "code",
   "execution_count": 50,
   "id": "960e1fc8",
   "metadata": {
    "execution": {
     "iopub.execute_input": "2025-01-09T11:57:24.270236Z",
     "iopub.status.busy": "2025-01-09T11:57:24.269828Z",
     "iopub.status.idle": "2025-01-09T11:57:24.276410Z",
     "shell.execute_reply": "2025-01-09T11:57:24.275264Z"
    },
    "papermill": {
     "duration": 0.037554,
     "end_time": "2025-01-09T11:57:24.278070",
     "exception": false,
     "start_time": "2025-01-09T11:57:24.240516",
     "status": "completed"
    },
    "tags": []
   },
   "outputs": [
    {
     "data": {
      "text/plain": [
       "'\\nreplacing nan with missing : Validation MSE: 0.0082073 (better)\\nmahdi ; 0.008245\\n\\n98% traindata - 0.0088897 but got the best result on public board\\n\\n\\nDecision: \\n\\n# checkout the coln names and check all good\\n# checkout the null and drop cols . also replace the nan with \"missing\"\\n# null value handle krar por valid score bad hye jae ! OMG ! it happens bcz ur model is doing random\\n# then find coln datatype and target is not convert into float datatype or int\\n# make normalization if needed for numerical cols\\n# check if categorical data or sentences present ( then nlp embedder needed )\\n# cat data : Date deya thakle need special processing\\n# range cat data thakle e.g from 2 to 5years , then we can use max and min year limits in  new columns. \\nand if any row blank, fill with SimpleImputer\\n\\n\\n# Train data 98% niye kaj korle got better public Score ! so checkout if effect asee. it may look bad on validation score \\nbut good on public score!\\n# training rate 0.02/0.05 better \\n# also plot graph to understand \"overfit\",\"dropout\",\"batch\", \"epochs\" needed\\n\\n\\n'"
      ]
     },
     "execution_count": 50,
     "metadata": {},
     "output_type": "execute_result"
    }
   ],
   "source": [
    "\"\"\"\n",
    "replacing nan with missing : Validation MSE: 0.0082073 (better)\n",
    "mahdi ; 0.008245\n",
    "\n",
    "98% traindata - 0.0088897 but got the best result on public board\n",
    "\n",
    "\n",
    "Decision: \n",
    "\n",
    "# checkout the coln names and check all good\n",
    "# checkout the null and drop cols . also replace the nan with \"missing\"\n",
    "# null value handle krar por valid score bad hye jae ! OMG ! it happens bcz ur model is doing random\n",
    "# then find coln datatype and target is not convert into float datatype or int\n",
    "# make normalization if needed for numerical cols\n",
    "# check if categorical data or sentences present ( then nlp embedder needed )\n",
    "# cat data : Date deya thakle need special processing\n",
    "# range cat data thakle e.g from 2 to 5years , then we can use max and min year limits in  new columns. \n",
    "and if any row blank, fill with SimpleImputer\n",
    "\n",
    "\n",
    "# Train data 98% niye kaj korle got better public Score ! so checkout if effect asee. it may look bad on validation score \n",
    "but good on public score!\n",
    "# training rate 0.02/0.05 better \n",
    "# also plot graph to understand \"overfit\",\"dropout\",\"batch\", \"epochs\" needed\n",
    "\n",
    "\n",
    "\"\"\""
   ]
  },
  {
   "cell_type": "markdown",
   "id": "939dd6e2",
   "metadata": {
    "papermill": {
     "duration": 0.027632,
     "end_time": "2025-01-09T11:57:24.333759",
     "exception": false,
     "start_time": "2025-01-09T11:57:24.306127",
     "status": "completed"
    },
    "tags": []
   },
   "source": [
    "# Prediction "
   ]
  },
  {
   "cell_type": "code",
   "execution_count": 51,
   "id": "282ed8c5",
   "metadata": {
    "execution": {
     "iopub.execute_input": "2025-01-09T11:57:24.406875Z",
     "iopub.status.busy": "2025-01-09T11:57:24.406295Z",
     "iopub.status.idle": "2025-01-09T11:57:24.699856Z",
     "shell.execute_reply": "2025-01-09T11:57:24.698525Z"
    },
    "papermill": {
     "duration": 0.334907,
     "end_time": "2025-01-09T11:57:24.701702",
     "exception": false,
     "start_time": "2025-01-09T11:57:24.366795",
     "status": "completed"
    },
    "tags": []
   },
   "outputs": [
    {
     "name": "stdout",
     "output_type": "stream",
     "text": [
      "(1909, 8472)\n",
      "Submission file saved as submission.csv\n"
     ]
    }
   ],
   "source": [
    "import pandas as pd\n",
    "\n",
    "def predict_and_save_submission(model, X_test, output_filename=\"submission.csv\"):\n",
    "    print(X_test.shape)\n",
    "\n",
    "    # Predict the matched_score for the test set\n",
    "    test_preds = model.predict(X_test)\n",
    "    \n",
    "    # Dynamically generate the ID column starting from 1\n",
    "    submission = pd.DataFrame({\n",
    "        \"ID\": range(1, len(X_test) + 1),  # Generate row numbers starting from 1\n",
    "        \"matched_score\": test_preds\n",
    "    })\n",
    "    \n",
    "    # Save to CSV\n",
    "    submission.to_csv(output_filename, index=False)\n",
    "    print(f\"Submission file saved as {output_filename}\")\n",
    "    \n",
    "    return submission\n",
    "\n",
    "# Example Usage\n",
    "submission = predict_and_save_submission(model, test, output_filename=\"submission.csv\")\n",
    "\n",
    "# Preview the submission file\n",
    "#print(submission.head())\n"
   ]
  },
  {
   "cell_type": "code",
   "execution_count": 52,
   "id": "79acd719",
   "metadata": {
    "execution": {
     "iopub.execute_input": "2025-01-09T11:57:24.759163Z",
     "iopub.status.busy": "2025-01-09T11:57:24.758761Z",
     "iopub.status.idle": "2025-01-09T11:57:24.763753Z",
     "shell.execute_reply": "2025-01-09T11:57:24.762673Z"
    },
    "papermill": {
     "duration": 0.035388,
     "end_time": "2025-01-09T11:57:24.765467",
     "exception": false,
     "start_time": "2025-01-09T11:57:24.730079",
     "status": "completed"
    },
    "tags": []
   },
   "outputs": [
    {
     "name": "stdout",
     "output_type": "stream",
     "text": [
      "ready to goooooooooo\n"
     ]
    }
   ],
   "source": [
    "print(\"ready to goooooooooo\")"
   ]
  },
  {
   "cell_type": "code",
   "execution_count": null,
   "id": "e372276a",
   "metadata": {
    "papermill": {
     "duration": 0.027016,
     "end_time": "2025-01-09T11:57:24.820171",
     "exception": false,
     "start_time": "2025-01-09T11:57:24.793155",
     "status": "completed"
    },
    "tags": []
   },
   "outputs": [],
   "source": []
  }
 ],
 "metadata": {
  "kaggle": {
   "accelerator": "none",
   "dataSources": [
    {
     "databundleVersionId": 10606811,
     "sourceId": 90798,
     "sourceType": "competition"
    }
   ],
   "dockerImageVersionId": 30822,
   "isGpuEnabled": false,
   "isInternetEnabled": true,
   "language": "python",
   "sourceType": "notebook"
  },
  "kernelspec": {
   "display_name": "Python 3",
   "language": "python",
   "name": "python3"
  },
  "language_info": {
   "codemirror_mode": {
    "name": "ipython",
    "version": 3
   },
   "file_extension": ".py",
   "mimetype": "text/x-python",
   "name": "python",
   "nbconvert_exporter": "python",
   "pygments_lexer": "ipython3",
   "version": "3.10.12"
  },
  "papermill": {
   "default_parameters": {},
   "duration": 62.600864,
   "end_time": "2025-01-09T11:57:27.667996",
   "environment_variables": {},
   "exception": null,
   "input_path": "__notebook__.ipynb",
   "output_path": "__notebook__.ipynb",
   "parameters": {},
   "start_time": "2025-01-09T11:56:25.067132",
   "version": "2.6.0"
  }
 },
 "nbformat": 4,
 "nbformat_minor": 5
}
